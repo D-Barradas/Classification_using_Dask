{
 "cells": [
  {
   "cell_type": "code",
   "execution_count": 1,
   "id": "particular-testimony",
   "metadata": {},
   "outputs": [],
   "source": [
    "import os , sys\n",
    "from dask import compute, persist\n",
    "from dask.distributed import Client, progress\n",
    "from dask.diagnostics import ProgressBar\n",
    "import dask.dataframe as dd\n",
    "from sklearn.neural_network import MLPRegressor\n",
    "from dask_ml.preprocessing import StandardScaler,LabelEncoder\n",
    "from dask_ml.model_selection import HyperbandSearchCV ,RandomizedSearchCV,KFold\n",
    "import numpy as np\n",
    "import pickle\n",
    "import dask.array as da\n",
    "from sklearn.metrics import classification_report,matthews_corrcoef\n",
    "from sklearn.linear_model import SGDRegressor\n",
    "from scipy.stats import uniform, loguniform \n",
    "from dask_ml.xgboost import XGBRegressor\n",
    "import pickle\n",
    "from sklearn.metrics import mean_absolute_error,mean_squared_error,r2_score,accuracy_score\n",
    "# from xgboost import XGBRFRegressor\n",
    "# import xgboost.XGBRFClassifier as xRFC"
   ]
  },
  {
   "cell_type": "code",
   "execution_count": 2,
   "id": "destroyed-testimony",
   "metadata": {},
   "outputs": [
    {
     "name": "stdout",
     "output_type": "stream",
     "text": [
      "Dask version 2.20.0\n"
     ]
    }
   ],
   "source": [
    "import dask\n",
    "print (f'Dask version {dask.__version__}')"
   ]
  },
  {
   "cell_type": "code",
   "execution_count": 3,
   "id": "heavy-communication",
   "metadata": {},
   "outputs": [
    {
     "name": "stderr",
     "output_type": "stream",
     "text": [
      "/Users/barradd/anaconda2/envs/dask-examples/lib/python3.8/site-packages/distributed/node.py:151: UserWarning: Port 8787 is already in use.\n",
      "Perhaps you already have a cluster running?\n",
      "Hosting the HTTP server on port 54500 instead\n",
      "  warnings.warn(\n"
     ]
    }
   ],
   "source": [
    "client = Client(processes=False, threads_per_worker=4,\n",
    "                n_workers=1, memory_limit='16GB')"
   ]
  },
  {
   "cell_type": "code",
   "execution_count": 4,
   "id": "olive-amateur",
   "metadata": {},
   "outputs": [
    {
     "data": {
      "text/html": [
       "<table style=\"border: 2px solid white;\">\n",
       "<tr>\n",
       "<td style=\"vertical-align: top; border: 0px solid white\">\n",
       "<h3 style=\"text-align: left;\">Client</h3>\n",
       "<ul style=\"text-align: left; list-style: none; margin: 0; padding: 0;\">\n",
       "  <li><b>Scheduler: </b>inproc://10.228.0.65/36025/1</li>\n",
       "  <li><b>Dashboard: </b><a href='http://10.228.0.65:54500/status' target='_blank'>http://10.228.0.65:54500/status</a></li>\n",
       "</ul>\n",
       "</td>\n",
       "<td style=\"vertical-align: top; border: 0px solid white\">\n",
       "<h3 style=\"text-align: left;\">Cluster</h3>\n",
       "<ul style=\"text-align: left; list-style:none; margin: 0; padding: 0;\">\n",
       "  <li><b>Workers: </b>1</li>\n",
       "  <li><b>Cores: </b>4</li>\n",
       "  <li><b>Memory: </b>16.00 GB</li>\n",
       "</ul>\n",
       "</td>\n",
       "</tr>\n",
       "</table>"
      ],
      "text/plain": [
       "<Client: 'inproc://10.228.0.65/36025/1' processes=1 threads=4, memory=16.00 GB>"
      ]
     },
     "execution_count": 4,
     "metadata": {},
     "output_type": "execute_result"
    }
   ],
   "source": [
    "client"
   ]
  },
  {
   "cell_type": "code",
   "execution_count": 5,
   "id": "significant-nitrogen",
   "metadata": {},
   "outputs": [],
   "source": [
    "PDB_BM5 = [\n",
    "'1EXB','1JTD','1M27','1RKE','2A1A','2GAF','2GTP','2VXT','2W9E',\n",
    "'2X9A','2YVJ','3A4S','3AAA','BAAD','3AAD','3BIW','3BX7',\n",
    "'3DAW','3EO1','3EOA','3F1P','3FN1','3G6D','3H11',\n",
    "'3H2V','3HI6','3HMX','3K75','3L5W','3L89','3LVK','3MXW',\n",
    "'BP57','CP57','3P57','3PC8','3R9A','3RVW','3S9D','3SZK',\n",
    "'3V6Z','3VLB','4DN4','4FQI','4FZA','4G6J','4G6M','4GAM',\n",
    "'4GXU','4H03','4HX3','4IZ7','4JCV','4LW4','4M76'\n",
    "]\n",
    "\n",
    "PDB_score_set_target =[\n",
    "    'Target39', 'Target41','Target50', 'Target53'\n",
    "    \n",
    "]"
   ]
  },
  {
   "cell_type": "code",
   "execution_count": 130,
   "id": "automotive-formula",
   "metadata": {},
   "outputs": [],
   "source": [
    "def load_data_sets():\n",
    "    all_balanced_data = dd.read_csv(\"../data/Clean_dataframe_balanced_all_data_ccharppi_4_march_2020_complete.csv\")\n",
    "    all_balanced_data = all_balanced_data.drop(\"class_q\",axis=1)\n",
    "    all_balanced_data = all_balanced_data.set_index('Conf')\n",
    "#     print (all_balanced_data.shape)\n",
    "#     all_balanced_data.loc[\"Z_1JTG_1136_M.pdb\",\"DDG_V\"]  = all_balanced_data[\"DDG_V\"].mean()\n",
    "    \n",
    "#     all_unbalanced_data = dd.read_csv(\"../data/Clean_dataframe_unbalanced_all_data_ccharppi_4_march_2020_complete.csv\",dtype={'class_q': 'object'})\n",
    "#     all_unbalanced_data = all_unbalanced_data.drop(\"class_q\",axis=1)\n",
    "#     all_unbalanced_data = all_unbalanced_data.set_index('Conf')\n",
    "#     all_unbalanced_data.loc[\"Z_1JTG_1136_M.pdb\",\"DDG_V\"]  = all_balanced_data[\"DDG_V\"].mean()\n",
    "\n",
    "\n",
    "    Scorers_balanced_data = dd.read_csv(\"../data/Clean_dataframe_balanced_scorers_set_march_22_2021.csv\")\n",
    "    Scorers_balanced_data = Scorers_balanced_data.set_index('Conf')\n",
    "    Scorers_balanced_data = Scorers_balanced_data.dropna()\n",
    "    Scorers_balanced_data = Scorers_balanced_data[~Scorers_balanced_data[\"idx\"].isin(PDB_score_set_target)]\n",
    "\n",
    "    Scorers_unbalanced_data = dd.read_csv(\"../data/Clean_dataframe_unbalanced_scorers_set_march_22_2021.csv\")\n",
    "    Scorers_unbalanced_data = Scorers_unbalanced_data.set_index('Conf')\n",
    "    Scorers_unbalanced_data = Scorers_unbalanced_data.dropna()\n",
    "#     Scorers_unbalanced_data = Scorers_unbalanced_data[~Scorers_unbalanced_data[\"idx\"].isin(PDB_score_set_target) ]\n",
    "\n",
    "    \n",
    "    Scorers_unbalanced_data = Scorers_unbalanced_data.rename(columns={'NIS Polar' :'Nis_Polar',\n",
    "                                  'Nis Apolar':'Nis_Apolar',\n",
    "                                  'BSA Apolar':'BSA_Apolar',\n",
    "                                  'BSA Polar' :'BSA_Polar',\n",
    "                                'binary_label':'label_binary'\n",
    "                            })\n",
    "    Scorers_balanced_data= Scorers_balanced_data.rename(columns={'NIS Polar' :'Nis_Polar',\n",
    "                                  'Nis Apolar':'Nis_Apolar',\n",
    "                                  'BSA Apolar':'BSA_Apolar',\n",
    "                                  'BSA Polar' :'BSA_Polar',\n",
    "                                   'binary_label':'label_binary'\n",
    "                          })\n",
    "    all_balanced_data = dd.concat([all_balanced_data,Scorers_balanced_data[all_balanced_data.columns]])\n",
    "#     all_balanced_data = all_balanced_data[all_balanced_data[\"DQ_val\"] > 0.1]\n",
    "#     all_unbalanced_data = dd.concat([all_unbalanced_data,Scorers_unbalanced_data[all_balanced_data.columns]])\n",
    "#     all_unbalanced_data = all_unbalanced_data[~all_unbalanced_data[\"idx\"].isin(PDB_score_set_target)]\n",
    "\n",
    "\n",
    "    X_train = all_balanced_data\n",
    "    y_train = all_balanced_data[\"DQ_val\"]\n",
    "#     X_train = all_unbalanced_data\n",
    "#     y_train = all_unbalanced_data[\"DQ_val\"]\n",
    "\n",
    "\n",
    "#     y_train = all_balanced_data[~all_balanced_data[\"idx\"].isin(PDB_BM5) ][\"label_binary\"].astype('bool')\n",
    "\n",
    "            ## data set for less than 5 \n",
    "#     X_val = all_balanced_data[all_balanced_data[\"idx\"].isin(PDB_BM5) ]\n",
    "#     y_val = all_balanced_data[all_balanced_data[\"idx\"].isin(PDB_BM5) ][\"DQ_val\"]\n",
    "\n",
    "#     y_val = all_balanced_data[all_balanced_data[\"idx\"].isin(PDB_BM5) ][\"label_binary\"].astype('bool')\n",
    "    #         print (X_test.size,y_test.size)\n",
    "            ## data set for less than 5 \n",
    "#     X_val_u = all_unbalanced_data[all_unbalanced_data[\"idx\"].isin(PDB_BM5) ]\n",
    "#     y_val_u = all_unbalanced_data[all_unbalanced_data[\"idx\"].isin(PDB_BM5) ][\"DQ_val\"]\n",
    "#     y_val_u = all_unbalanced_data[all_unbalanced_data[\"idx\"].isin(PDB_BM5) ][\"label_binary\"].astype('bool')\n",
    "\n",
    "    \n",
    "#     X_test = Scorers_balanced_data\n",
    "#     y_test = Scorers_balanced_data[\"DQ_val\"]\n",
    "    \n",
    "    X_test_u = Scorers_unbalanced_data[Scorers_unbalanced_data[\"idx\"].isin(PDB_score_set_target)]\n",
    "    y_test_u = Scorers_unbalanced_data[Scorers_unbalanced_data[\"idx\"].isin(PDB_score_set_target) ][\"DQ_val\"]\n",
    "#     y_test_u = Scorers_unbalanced_data[\"binary_label\"].astype('bool')\n",
    "\n",
    "    \n",
    "#     X_test_u = X_test_u.rename(columns={'NIS Polar' :'Nis_Polar',\n",
    "#                                   'Nis Apolar':'Nis_Apolar',\n",
    "#                                   'BSA Apolar':'BSA_Apolar',\n",
    "#                                   'BSA Polar' :'BSA_Polar',\n",
    "#                                 'binary_label':'label_binary'\n",
    "#                             })\n",
    "#     X_test= X_test.rename(columns={'NIS Polar' :'Nis_Polar',\n",
    "#                                   'Nis Apolar':'Nis_Apolar',\n",
    "#                                   'BSA Apolar':'BSA_Apolar',\n",
    "#                                   'BSA Polar' :'BSA_Polar',\n",
    "#                                    'binary_label':'label_binary'\n",
    "#                           })\n",
    "    \n",
    "#     for x in X_val_u.columns:\n",
    "#         if x not in X_test.columns:\n",
    "#             print (x)\n",
    "    return X_train, y_train , X_test_u, y_test_u "
   ]
  },
  {
   "cell_type": "code",
   "execution_count": 314,
   "id": "overall-advertiser",
   "metadata": {},
   "outputs": [],
   "source": [
    "def scaling_data_selected(X_train,X_test_unbalanced):\n",
    "#     scaler = MinMaxScaler()\n",
    "    scaler = StandardScaler()\n",
    "#     selected_feat = ['AP_DFIRE2','AP_PISA','AP_T1','AP_T2','CP_MJ3h','SIPPER','ELE','VDW','PYDOCK_TOT','AP_dDFIRE']\n",
    "\n",
    "#     selected_feat = ['CONSRANK_val','AP_DFIRE2','num_of_contacs','AP_calRWp','AP_GEOMETRIC',\n",
    "#                      'CP_ELOCAL_CB','ELE'      ,'NSC'           ,'CP_E3D_CB','CP_RMFCA',\n",
    "#                      'ALIPH'       ,'PP'       ,'ZRANK'         ,'BSA_Apolar','BSA_Polar',\n",
    "#                      'AP_PISA'     ,'cips_CC']\n",
    "    selected_feat = ['CONSRANK_val','AP_GOAP_DF','CP_TD','CP_D1','CP_HLPL',\n",
    "                      'DDG_V','CP_MJ3h','PYDOCK_TOT','ELE','CP_SKOIP',\n",
    "                      'SIPPER','AP_DFIRE2','AP_dDFIRE','AP_PISA','CP_RMFCA',\n",
    "#                      'CP_TB','AP_DARS','CP_BT'\n",
    "                     ]\n",
    "\n",
    "#     selected_feat = ['CONSRANK_val','AP_DFIRE2','num_of_contacs','AP_calRWp','AP_GEOMETRIC','CP_ELOCAL_CB',\n",
    "#  'ELE','NSC','CP_E3D_CB','CP_RMFCA','ALIPH','PP','ZRANK','BSA_Apolar','BSA_Polar','AP_PISA','cips_CC',\n",
    "# 'AP_calRW','DESOLV','AP_OPUS_PSP','cips_ArAr','CP_MJPL','CP_ELOCAL_MIN','CP_TSC','Nis_Polar','cips_PP',\n",
    "#  'CP_Qa','cips_AA','cips_AlAl','DDG_V',\n",
    "#  'AP_dDFIRE',\n",
    "#  'CP_RMFCEN2',\n",
    "#  'Nis_Apolar',\n",
    "#  'avg_cips_AlAl',\n",
    "#  'CP_TS',\n",
    "#  'CP_Z3DC_CB',\n",
    "#  'ODA',\n",
    "#  'avg_cips_CAr',\n",
    "#  'CP_ZPAIR_MIN',\n",
    "#  'avg_cips_PAr',\n",
    "#  'CP_D1',\n",
    "#  'cips_CA']\n",
    "\n",
    "#     selected_feat = ['CONSRANK_val','CP_HLPL','CP_MJ3h','DDG_V','CP_RMFCA','AP_GOAP_DF','CP_Qp','CP_TD','CP_SKOIP','CP_TB','CP_TSC','PYDOCK_TOT','SIPPER',\n",
    "# 'CP_BT','CP_MJ2h','AP_DFIRE2','CP_RMFCEN1','AP_DARS','AP_PISA','BSA_Apolar','CP_BFKV','AP_dDFIRE','CP_RMFCEN2','CP_ZS3DC_MIN',\n",
    "# 'AP_DDG_U','AP_DDG_W','cips_AlAr','CP_MJPL','CP_SKOb','CP_TEl','CP_TS','PROPNSTS','AP_MPS','CP_D1','FIREDOCK','AlAr','ArAr']\n",
    "\n",
    "    X_train = X_train[selected_feat]\n",
    "#     X_test = X_test[selected_feat]\n",
    "    X_test_unbalanced= X_test_unbalanced[selected_feat]\n",
    "\n",
    "\n",
    "    scaler.fit(X_train)\n",
    "    scaled_train = scaler.transform(X_train)\n",
    "#     scaled_test = scaler.transform(X_test)\n",
    "    scaled_test_u = scaler.transform(X_test_unbalanced)\n",
    "#     pickle.dump(scaler, open(\"ScalerBM4_regression.pickle.dat\", \"wb\"))\n",
    "\n",
    "    return scaled_train,scaled_test_u"
   ]
  },
  {
   "cell_type": "code",
   "execution_count": null,
   "id": "saving-university",
   "metadata": {},
   "outputs": [],
   "source": []
  },
  {
   "cell_type": "code",
   "execution_count": 315,
   "id": "reflected-nature",
   "metadata": {},
   "outputs": [],
   "source": [
    "def regression_report (y_true, y_pred ,name) :\n",
    "    \n",
    "\n",
    "    r=r2_score(y_true, y_pred)\n",
    "    mae=mean_absolute_error(y_true, y_pred)\n",
    "    mse=mean_squared_error(y_true, y_pred)\n",
    "    \n",
    "    print (\"R^2:\",r)\n",
    "    print (\"MAE:\",mae)\n",
    "    print (\"MSE:\",mse)\n",
    "    \n",
    "#     print (\"------------------------------------------\")\n",
    "#     my_results.append((name,r,mae,mse))\n",
    "    \n",
    "#     error = y_pred - y_true\n",
    "#     plt.hist(error, bins = 25)\n",
    "#     plt.xlabel(\"Prediction Error [MAE]\")\n",
    "#     _ = plt.ylabel(\"Count\")\n",
    "#     plt.savefig(\"../figures/basemodel_error_bin_%s.png\"%(name),format=\"png\")\n",
    "    \n",
    "\n",
    "#     plt.scatter(y_true, y_pred)\n",
    "#     plt.xlabel('True Values [MAE]')\n",
    "#     plt.ylabel('Predictions [MAE]')\n",
    "#     plt.axis('equal')\n",
    "#     plt.axis('square')\n",
    "#     plt.xlim([0,plt.xlim()[1]])\n",
    "#     plt.ylim([0,plt.ylim()[1]])\n",
    "#     _ = plt.plot([-100, 100], [-100, 100])\n",
    "#     plt.savefig(\"MAE_base_model_%s.png\"%(key),format=\"png\")"
   ]
  },
  {
   "cell_type": "code",
   "execution_count": 316,
   "id": "resistant-crystal",
   "metadata": {},
   "outputs": [],
   "source": [
    "X_train, y_train ,  X_test_u, y_test_u  = load_data_sets()"
   ]
  },
  {
   "cell_type": "code",
   "execution_count": 317,
   "id": "attempted-underground",
   "metadata": {},
   "outputs": [],
   "source": [
    "params = {\n",
    "    \"hidden_layer_sizes\": [\n",
    "\n",
    "        (24, ),\n",
    "        (12, 12),\n",
    "        (6, 6, 6, 6),\n",
    "        (4, 4, 4, 4, 4, 4),\n",
    "        (12, 6, 3, 3),\n",
    "    ],\n",
    "    \"activation\": [\"relu\", \"logistic\", \"tanh\"],\n",
    "    \"alpha\": np.logspace(-6, -3, num=1000),  # cnts\n",
    "    \"batch_size\": [16, 32, 64, 128, 256, 512],\n",
    "}\n"
   ]
  },
  {
   "cell_type": "code",
   "execution_count": 318,
   "id": "antique-floor",
   "metadata": {},
   "outputs": [],
   "source": [
    "estimator = MLPRegressor()"
   ]
  },
  {
   "cell_type": "code",
   "execution_count": 319,
   "id": "surprising-pointer",
   "metadata": {},
   "outputs": [
    {
     "data": {
      "text/html": [
       "<div><strong>Dask DataFrame Structure:</strong></div>\n",
       "<div>\n",
       "<style scoped>\n",
       "    .dataframe tbody tr th:only-of-type {\n",
       "        vertical-align: middle;\n",
       "    }\n",
       "\n",
       "    .dataframe tbody tr th {\n",
       "        vertical-align: top;\n",
       "    }\n",
       "\n",
       "    .dataframe thead th {\n",
       "        text-align: right;\n",
       "    }\n",
       "</style>\n",
       "<table border=\"1\" class=\"dataframe\">\n",
       "  <thead>\n",
       "    <tr style=\"text-align: right;\">\n",
       "      <th></th>\n",
       "      <th>AA</th>\n",
       "      <th>AA_sqrt</th>\n",
       "      <th>AAl</th>\n",
       "      <th>AAl_sqrt</th>\n",
       "      <th>AAr</th>\n",
       "      <th>AAr_sqrt</th>\n",
       "      <th>ALIPH</th>\n",
       "      <th>AP_ACE</th>\n",
       "      <th>AP_DARS</th>\n",
       "      <th>AP_DCOMPLEX</th>\n",
       "      <th>AP_DDG_U</th>\n",
       "      <th>AP_DDG_W</th>\n",
       "      <th>AP_DFIRE2</th>\n",
       "      <th>AP_DOPE</th>\n",
       "      <th>AP_DOPE_HR</th>\n",
       "      <th>AP_GEOMETRIC</th>\n",
       "      <th>AP_GOAP_ALL</th>\n",
       "      <th>AP_GOAP_DF</th>\n",
       "      <th>AP_GOAP_G</th>\n",
       "      <th>AP_MPS</th>\n",
       "      <th>AP_OPUS_PSP</th>\n",
       "      <th>AP_PISA</th>\n",
       "      <th>AP_T1</th>\n",
       "      <th>AP_T2</th>\n",
       "      <th>AP_URS</th>\n",
       "      <th>AP_W1</th>\n",
       "      <th>AP_calRW</th>\n",
       "      <th>AP_calRWp</th>\n",
       "      <th>AP_dDFIRE</th>\n",
       "      <th>AlAl</th>\n",
       "      <th>AlAl_sqrt</th>\n",
       "      <th>AlAr</th>\n",
       "      <th>AlAr_sqrt</th>\n",
       "      <th>ArAr</th>\n",
       "      <th>ArAr_sqrt</th>\n",
       "      <th>BSA</th>\n",
       "      <th>BSA_Apolar</th>\n",
       "      <th>BSA_Polar</th>\n",
       "      <th>CA</th>\n",
       "      <th>CA_sqrt</th>\n",
       "      <th>CAl</th>\n",
       "      <th>CAl_sqrt</th>\n",
       "      <th>CAr</th>\n",
       "      <th>CAr_sqrt</th>\n",
       "      <th>CC</th>\n",
       "      <th>CC_sqrt</th>\n",
       "      <th>CONSRANK_val</th>\n",
       "      <th>CP</th>\n",
       "      <th>CP_BFKV</th>\n",
       "      <th>CP_BL</th>\n",
       "      <th>CP_BT</th>\n",
       "      <th>CP_D1</th>\n",
       "      <th>CP_DDG_U</th>\n",
       "      <th>CP_DDG_W</th>\n",
       "      <th>CP_E3DC_CB</th>\n",
       "      <th>CP_E3DC_MIN</th>\n",
       "      <th>CP_E3D_CB</th>\n",
       "      <th>CP_E3D_MIN</th>\n",
       "      <th>CP_ELOCAL_CB</th>\n",
       "      <th>CP_ELOCAL_MIN</th>\n",
       "      <th>CP_EPAIR_CB</th>\n",
       "      <th>CP_EPAIR_MIN</th>\n",
       "      <th>CP_ES3DC_CB</th>\n",
       "      <th>CP_ES3DC_MIN</th>\n",
       "      <th>CP_GKS</th>\n",
       "      <th>CP_HLPL</th>\n",
       "      <th>CP_MJ1</th>\n",
       "      <th>CP_MJ2</th>\n",
       "      <th>CP_MJ2h</th>\n",
       "      <th>CP_MJ3h</th>\n",
       "      <th>CP_MJPL</th>\n",
       "      <th>CP_MS</th>\n",
       "      <th>CP_MSBM</th>\n",
       "      <th>CP_Qa</th>\n",
       "      <th>CP_Qm</th>\n",
       "      <th>CP_Qp</th>\n",
       "      <th>CP_RMFCA</th>\n",
       "      <th>CP_RMFCEN1</th>\n",
       "      <th>CP_RMFCEN2</th>\n",
       "      <th>CP_RO</th>\n",
       "      <th>CP_SJKG</th>\n",
       "      <th>CP_SKOIP</th>\n",
       "      <th>CP_SKOa</th>\n",
       "      <th>CP_SKOb</th>\n",
       "      <th>CP_TB</th>\n",
       "      <th>CP_TD</th>\n",
       "      <th>CP_TEl</th>\n",
       "      <th>CP_TEs</th>\n",
       "      <th>CP_TS</th>\n",
       "      <th>CP_TSC</th>\n",
       "      <th>CP_VD</th>\n",
       "      <th>CP_Z3DC_CB</th>\n",
       "      <th>CP_Z3DC_MIN</th>\n",
       "      <th>CP_ZLOCAL_CB</th>\n",
       "      <th>CP_ZLOCAL_MIN</th>\n",
       "      <th>CP_ZPAIR_CB</th>\n",
       "      <th>CP_ZPAIR_MIN</th>\n",
       "      <th>CP_ZS3DC_CB</th>\n",
       "      <th>CP_ZS3DC_MIN</th>\n",
       "      <th>CP_sqrt</th>\n",
       "      <th>DDG_V</th>\n",
       "      <th>DESOLV</th>\n",
       "      <th>DOKB</th>\n",
       "      <th>DQ_val</th>\n",
       "      <th>ELE</th>\n",
       "      <th>FIREDOCK</th>\n",
       "      <th>FIREDOCK_AB</th>\n",
       "      <th>FIREDOCK_EI</th>\n",
       "      <th>HBOND</th>\n",
       "      <th>INSIDE</th>\n",
       "      <th>NSC</th>\n",
       "      <th>Nis_Apolar</th>\n",
       "      <th>Nis_Polar</th>\n",
       "      <th>ODA</th>\n",
       "      <th>PA</th>\n",
       "      <th>PA_sqrt</th>\n",
       "      <th>PAl</th>\n",
       "      <th>PAl_sqrt</th>\n",
       "      <th>PAr</th>\n",
       "      <th>PAr_sqrt</th>\n",
       "      <th>PI_PI</th>\n",
       "      <th>PP</th>\n",
       "      <th>PP_sqrt</th>\n",
       "      <th>PROPNSTS</th>\n",
       "      <th>PYDOCK_TOT</th>\n",
       "      <th>SIPPER</th>\n",
       "      <th>VDW</th>\n",
       "      <th>ZRANK</th>\n",
       "      <th>ZRANK2</th>\n",
       "      <th>avg_cips_AA</th>\n",
       "      <th>avg_cips_AAl</th>\n",
       "      <th>avg_cips_AAr</th>\n",
       "      <th>avg_cips_AlAl</th>\n",
       "      <th>avg_cips_AlAr</th>\n",
       "      <th>avg_cips_ArAr</th>\n",
       "      <th>avg_cips_CA</th>\n",
       "      <th>avg_cips_CAl</th>\n",
       "      <th>avg_cips_CAr</th>\n",
       "      <th>avg_cips_CC</th>\n",
       "      <th>avg_cips_CP</th>\n",
       "      <th>avg_cips_PA</th>\n",
       "      <th>avg_cips_PAl</th>\n",
       "      <th>avg_cips_PAr</th>\n",
       "      <th>avg_cips_PP</th>\n",
       "      <th>cips_AA</th>\n",
       "      <th>cips_AAl</th>\n",
       "      <th>cips_AAr</th>\n",
       "      <th>cips_AlAl</th>\n",
       "      <th>cips_AlAr</th>\n",
       "      <th>cips_ArAr</th>\n",
       "      <th>cips_CA</th>\n",
       "      <th>cips_CAl</th>\n",
       "      <th>cips_CC</th>\n",
       "      <th>cips_CP</th>\n",
       "      <th>cips_PA</th>\n",
       "      <th>cips_PAl</th>\n",
       "      <th>cips_PP</th>\n",
       "      <th>idx</th>\n",
       "      <th>label_binary</th>\n",
       "      <th>num_of_contacs</th>\n",
       "    </tr>\n",
       "    <tr>\n",
       "      <th>npartitions=3</th>\n",
       "      <th></th>\n",
       "      <th></th>\n",
       "      <th></th>\n",
       "      <th></th>\n",
       "      <th></th>\n",
       "      <th></th>\n",
       "      <th></th>\n",
       "      <th></th>\n",
       "      <th></th>\n",
       "      <th></th>\n",
       "      <th></th>\n",
       "      <th></th>\n",
       "      <th></th>\n",
       "      <th></th>\n",
       "      <th></th>\n",
       "      <th></th>\n",
       "      <th></th>\n",
       "      <th></th>\n",
       "      <th></th>\n",
       "      <th></th>\n",
       "      <th></th>\n",
       "      <th></th>\n",
       "      <th></th>\n",
       "      <th></th>\n",
       "      <th></th>\n",
       "      <th></th>\n",
       "      <th></th>\n",
       "      <th></th>\n",
       "      <th></th>\n",
       "      <th></th>\n",
       "      <th></th>\n",
       "      <th></th>\n",
       "      <th></th>\n",
       "      <th></th>\n",
       "      <th></th>\n",
       "      <th></th>\n",
       "      <th></th>\n",
       "      <th></th>\n",
       "      <th></th>\n",
       "      <th></th>\n",
       "      <th></th>\n",
       "      <th></th>\n",
       "      <th></th>\n",
       "      <th></th>\n",
       "      <th></th>\n",
       "      <th></th>\n",
       "      <th></th>\n",
       "      <th></th>\n",
       "      <th></th>\n",
       "      <th></th>\n",
       "      <th></th>\n",
       "      <th></th>\n",
       "      <th></th>\n",
       "      <th></th>\n",
       "      <th></th>\n",
       "      <th></th>\n",
       "      <th></th>\n",
       "      <th></th>\n",
       "      <th></th>\n",
       "      <th></th>\n",
       "      <th></th>\n",
       "      <th></th>\n",
       "      <th></th>\n",
       "      <th></th>\n",
       "      <th></th>\n",
       "      <th></th>\n",
       "      <th></th>\n",
       "      <th></th>\n",
       "      <th></th>\n",
       "      <th></th>\n",
       "      <th></th>\n",
       "      <th></th>\n",
       "      <th></th>\n",
       "      <th></th>\n",
       "      <th></th>\n",
       "      <th></th>\n",
       "      <th></th>\n",
       "      <th></th>\n",
       "      <th></th>\n",
       "      <th></th>\n",
       "      <th></th>\n",
       "      <th></th>\n",
       "      <th></th>\n",
       "      <th></th>\n",
       "      <th></th>\n",
       "      <th></th>\n",
       "      <th></th>\n",
       "      <th></th>\n",
       "      <th></th>\n",
       "      <th></th>\n",
       "      <th></th>\n",
       "      <th></th>\n",
       "      <th></th>\n",
       "      <th></th>\n",
       "      <th></th>\n",
       "      <th></th>\n",
       "      <th></th>\n",
       "      <th></th>\n",
       "      <th></th>\n",
       "      <th></th>\n",
       "      <th></th>\n",
       "      <th></th>\n",
       "      <th></th>\n",
       "      <th></th>\n",
       "      <th></th>\n",
       "      <th></th>\n",
       "      <th></th>\n",
       "      <th></th>\n",
       "      <th></th>\n",
       "      <th></th>\n",
       "      <th></th>\n",
       "      <th></th>\n",
       "      <th></th>\n",
       "      <th></th>\n",
       "      <th></th>\n",
       "      <th></th>\n",
       "      <th></th>\n",
       "      <th></th>\n",
       "      <th></th>\n",
       "      <th></th>\n",
       "      <th></th>\n",
       "      <th></th>\n",
       "      <th></th>\n",
       "      <th></th>\n",
       "      <th></th>\n",
       "      <th></th>\n",
       "      <th></th>\n",
       "      <th></th>\n",
       "      <th></th>\n",
       "      <th></th>\n",
       "      <th></th>\n",
       "      <th></th>\n",
       "      <th></th>\n",
       "      <th></th>\n",
       "      <th></th>\n",
       "      <th></th>\n",
       "      <th></th>\n",
       "      <th></th>\n",
       "      <th></th>\n",
       "      <th></th>\n",
       "      <th></th>\n",
       "      <th></th>\n",
       "      <th></th>\n",
       "      <th></th>\n",
       "      <th></th>\n",
       "      <th></th>\n",
       "      <th></th>\n",
       "      <th></th>\n",
       "      <th></th>\n",
       "      <th></th>\n",
       "      <th></th>\n",
       "      <th></th>\n",
       "      <th></th>\n",
       "      <th></th>\n",
       "      <th></th>\n",
       "      <th></th>\n",
       "      <th></th>\n",
       "      <th></th>\n",
       "      <th></th>\n",
       "      <th></th>\n",
       "    </tr>\n",
       "  </thead>\n",
       "  <tbody>\n",
       "    <tr>\n",
       "      <th>F_1A2K_1488_I.pdb</th>\n",
       "      <td>int64</td>\n",
       "      <td>float64</td>\n",
       "      <td>int64</td>\n",
       "      <td>float64</td>\n",
       "      <td>int64</td>\n",
       "      <td>float64</td>\n",
       "      <td>float64</td>\n",
       "      <td>float64</td>\n",
       "      <td>float64</td>\n",
       "      <td>float64</td>\n",
       "      <td>float64</td>\n",
       "      <td>float64</td>\n",
       "      <td>float64</td>\n",
       "      <td>float64</td>\n",
       "      <td>float64</td>\n",
       "      <td>float64</td>\n",
       "      <td>float64</td>\n",
       "      <td>float64</td>\n",
       "      <td>float64</td>\n",
       "      <td>float64</td>\n",
       "      <td>float64</td>\n",
       "      <td>float64</td>\n",
       "      <td>float64</td>\n",
       "      <td>float64</td>\n",
       "      <td>float64</td>\n",
       "      <td>float64</td>\n",
       "      <td>float64</td>\n",
       "      <td>float64</td>\n",
       "      <td>float64</td>\n",
       "      <td>int64</td>\n",
       "      <td>float64</td>\n",
       "      <td>int64</td>\n",
       "      <td>float64</td>\n",
       "      <td>int64</td>\n",
       "      <td>float64</td>\n",
       "      <td>float64</td>\n",
       "      <td>float64</td>\n",
       "      <td>float64</td>\n",
       "      <td>int64</td>\n",
       "      <td>float64</td>\n",
       "      <td>int64</td>\n",
       "      <td>float64</td>\n",
       "      <td>int64</td>\n",
       "      <td>float64</td>\n",
       "      <td>int64</td>\n",
       "      <td>float64</td>\n",
       "      <td>float64</td>\n",
       "      <td>int64</td>\n",
       "      <td>float64</td>\n",
       "      <td>float64</td>\n",
       "      <td>float64</td>\n",
       "      <td>float64</td>\n",
       "      <td>float64</td>\n",
       "      <td>float64</td>\n",
       "      <td>float64</td>\n",
       "      <td>float64</td>\n",
       "      <td>float64</td>\n",
       "      <td>float64</td>\n",
       "      <td>float64</td>\n",
       "      <td>float64</td>\n",
       "      <td>float64</td>\n",
       "      <td>float64</td>\n",
       "      <td>float64</td>\n",
       "      <td>float64</td>\n",
       "      <td>float64</td>\n",
       "      <td>float64</td>\n",
       "      <td>float64</td>\n",
       "      <td>float64</td>\n",
       "      <td>float64</td>\n",
       "      <td>float64</td>\n",
       "      <td>float64</td>\n",
       "      <td>float64</td>\n",
       "      <td>float64</td>\n",
       "      <td>float64</td>\n",
       "      <td>float64</td>\n",
       "      <td>float64</td>\n",
       "      <td>float64</td>\n",
       "      <td>float64</td>\n",
       "      <td>float64</td>\n",
       "      <td>float64</td>\n",
       "      <td>float64</td>\n",
       "      <td>float64</td>\n",
       "      <td>float64</td>\n",
       "      <td>float64</td>\n",
       "      <td>float64</td>\n",
       "      <td>float64</td>\n",
       "      <td>float64</td>\n",
       "      <td>float64</td>\n",
       "      <td>float64</td>\n",
       "      <td>float64</td>\n",
       "      <td>float64</td>\n",
       "      <td>float64</td>\n",
       "      <td>float64</td>\n",
       "      <td>float64</td>\n",
       "      <td>float64</td>\n",
       "      <td>float64</td>\n",
       "      <td>float64</td>\n",
       "      <td>float64</td>\n",
       "      <td>float64</td>\n",
       "      <td>float64</td>\n",
       "      <td>float64</td>\n",
       "      <td>float64</td>\n",
       "      <td>float64</td>\n",
       "      <td>float64</td>\n",
       "      <td>float64</td>\n",
       "      <td>float64</td>\n",
       "      <td>float64</td>\n",
       "      <td>float64</td>\n",
       "      <td>float64</td>\n",
       "      <td>float64</td>\n",
       "      <td>float64</td>\n",
       "      <td>float64</td>\n",
       "      <td>float64</td>\n",
       "      <td>float64</td>\n",
       "      <td>int64</td>\n",
       "      <td>float64</td>\n",
       "      <td>int64</td>\n",
       "      <td>float64</td>\n",
       "      <td>int64</td>\n",
       "      <td>float64</td>\n",
       "      <td>float64</td>\n",
       "      <td>int64</td>\n",
       "      <td>float64</td>\n",
       "      <td>float64</td>\n",
       "      <td>float64</td>\n",
       "      <td>float64</td>\n",
       "      <td>float64</td>\n",
       "      <td>float64</td>\n",
       "      <td>float64</td>\n",
       "      <td>float64</td>\n",
       "      <td>float64</td>\n",
       "      <td>float64</td>\n",
       "      <td>float64</td>\n",
       "      <td>float64</td>\n",
       "      <td>float64</td>\n",
       "      <td>float64</td>\n",
       "      <td>float64</td>\n",
       "      <td>float64</td>\n",
       "      <td>float64</td>\n",
       "      <td>float64</td>\n",
       "      <td>float64</td>\n",
       "      <td>float64</td>\n",
       "      <td>float64</td>\n",
       "      <td>float64</td>\n",
       "      <td>float64</td>\n",
       "      <td>float64</td>\n",
       "      <td>float64</td>\n",
       "      <td>float64</td>\n",
       "      <td>float64</td>\n",
       "      <td>float64</td>\n",
       "      <td>float64</td>\n",
       "      <td>float64</td>\n",
       "      <td>float64</td>\n",
       "      <td>float64</td>\n",
       "      <td>float64</td>\n",
       "      <td>float64</td>\n",
       "      <td>float64</td>\n",
       "      <td>object</td>\n",
       "      <td>float64</td>\n",
       "      <td>int64</td>\n",
       "    </tr>\n",
       "    <tr>\n",
       "      <th>H_3L5W_3435_I.pdb</th>\n",
       "      <td>...</td>\n",
       "      <td>...</td>\n",
       "      <td>...</td>\n",
       "      <td>...</td>\n",
       "      <td>...</td>\n",
       "      <td>...</td>\n",
       "      <td>...</td>\n",
       "      <td>...</td>\n",
       "      <td>...</td>\n",
       "      <td>...</td>\n",
       "      <td>...</td>\n",
       "      <td>...</td>\n",
       "      <td>...</td>\n",
       "      <td>...</td>\n",
       "      <td>...</td>\n",
       "      <td>...</td>\n",
       "      <td>...</td>\n",
       "      <td>...</td>\n",
       "      <td>...</td>\n",
       "      <td>...</td>\n",
       "      <td>...</td>\n",
       "      <td>...</td>\n",
       "      <td>...</td>\n",
       "      <td>...</td>\n",
       "      <td>...</td>\n",
       "      <td>...</td>\n",
       "      <td>...</td>\n",
       "      <td>...</td>\n",
       "      <td>...</td>\n",
       "      <td>...</td>\n",
       "      <td>...</td>\n",
       "      <td>...</td>\n",
       "      <td>...</td>\n",
       "      <td>...</td>\n",
       "      <td>...</td>\n",
       "      <td>...</td>\n",
       "      <td>...</td>\n",
       "      <td>...</td>\n",
       "      <td>...</td>\n",
       "      <td>...</td>\n",
       "      <td>...</td>\n",
       "      <td>...</td>\n",
       "      <td>...</td>\n",
       "      <td>...</td>\n",
       "      <td>...</td>\n",
       "      <td>...</td>\n",
       "      <td>...</td>\n",
       "      <td>...</td>\n",
       "      <td>...</td>\n",
       "      <td>...</td>\n",
       "      <td>...</td>\n",
       "      <td>...</td>\n",
       "      <td>...</td>\n",
       "      <td>...</td>\n",
       "      <td>...</td>\n",
       "      <td>...</td>\n",
       "      <td>...</td>\n",
       "      <td>...</td>\n",
       "      <td>...</td>\n",
       "      <td>...</td>\n",
       "      <td>...</td>\n",
       "      <td>...</td>\n",
       "      <td>...</td>\n",
       "      <td>...</td>\n",
       "      <td>...</td>\n",
       "      <td>...</td>\n",
       "      <td>...</td>\n",
       "      <td>...</td>\n",
       "      <td>...</td>\n",
       "      <td>...</td>\n",
       "      <td>...</td>\n",
       "      <td>...</td>\n",
       "      <td>...</td>\n",
       "      <td>...</td>\n",
       "      <td>...</td>\n",
       "      <td>...</td>\n",
       "      <td>...</td>\n",
       "      <td>...</td>\n",
       "      <td>...</td>\n",
       "      <td>...</td>\n",
       "      <td>...</td>\n",
       "      <td>...</td>\n",
       "      <td>...</td>\n",
       "      <td>...</td>\n",
       "      <td>...</td>\n",
       "      <td>...</td>\n",
       "      <td>...</td>\n",
       "      <td>...</td>\n",
       "      <td>...</td>\n",
       "      <td>...</td>\n",
       "      <td>...</td>\n",
       "      <td>...</td>\n",
       "      <td>...</td>\n",
       "      <td>...</td>\n",
       "      <td>...</td>\n",
       "      <td>...</td>\n",
       "      <td>...</td>\n",
       "      <td>...</td>\n",
       "      <td>...</td>\n",
       "      <td>...</td>\n",
       "      <td>...</td>\n",
       "      <td>...</td>\n",
       "      <td>...</td>\n",
       "      <td>...</td>\n",
       "      <td>...</td>\n",
       "      <td>...</td>\n",
       "      <td>...</td>\n",
       "      <td>...</td>\n",
       "      <td>...</td>\n",
       "      <td>...</td>\n",
       "      <td>...</td>\n",
       "      <td>...</td>\n",
       "      <td>...</td>\n",
       "      <td>...</td>\n",
       "      <td>...</td>\n",
       "      <td>...</td>\n",
       "      <td>...</td>\n",
       "      <td>...</td>\n",
       "      <td>...</td>\n",
       "      <td>...</td>\n",
       "      <td>...</td>\n",
       "      <td>...</td>\n",
       "      <td>...</td>\n",
       "      <td>...</td>\n",
       "      <td>...</td>\n",
       "      <td>...</td>\n",
       "      <td>...</td>\n",
       "      <td>...</td>\n",
       "      <td>...</td>\n",
       "      <td>...</td>\n",
       "      <td>...</td>\n",
       "      <td>...</td>\n",
       "      <td>...</td>\n",
       "      <td>...</td>\n",
       "      <td>...</td>\n",
       "      <td>...</td>\n",
       "      <td>...</td>\n",
       "      <td>...</td>\n",
       "      <td>...</td>\n",
       "      <td>...</td>\n",
       "      <td>...</td>\n",
       "      <td>...</td>\n",
       "      <td>...</td>\n",
       "      <td>...</td>\n",
       "      <td>...</td>\n",
       "      <td>...</td>\n",
       "      <td>...</td>\n",
       "      <td>...</td>\n",
       "      <td>...</td>\n",
       "      <td>...</td>\n",
       "      <td>...</td>\n",
       "      <td>...</td>\n",
       "      <td>...</td>\n",
       "      <td>...</td>\n",
       "      <td>...</td>\n",
       "      <td>...</td>\n",
       "      <td>...</td>\n",
       "      <td>...</td>\n",
       "      <td>...</td>\n",
       "      <td>...</td>\n",
       "    </tr>\n",
       "    <tr>\n",
       "      <th>r_model-1000.pdb</th>\n",
       "      <td>...</td>\n",
       "      <td>...</td>\n",
       "      <td>...</td>\n",
       "      <td>...</td>\n",
       "      <td>...</td>\n",
       "      <td>...</td>\n",
       "      <td>...</td>\n",
       "      <td>...</td>\n",
       "      <td>...</td>\n",
       "      <td>...</td>\n",
       "      <td>...</td>\n",
       "      <td>...</td>\n",
       "      <td>...</td>\n",
       "      <td>...</td>\n",
       "      <td>...</td>\n",
       "      <td>...</td>\n",
       "      <td>...</td>\n",
       "      <td>...</td>\n",
       "      <td>...</td>\n",
       "      <td>...</td>\n",
       "      <td>...</td>\n",
       "      <td>...</td>\n",
       "      <td>...</td>\n",
       "      <td>...</td>\n",
       "      <td>...</td>\n",
       "      <td>...</td>\n",
       "      <td>...</td>\n",
       "      <td>...</td>\n",
       "      <td>...</td>\n",
       "      <td>...</td>\n",
       "      <td>...</td>\n",
       "      <td>...</td>\n",
       "      <td>...</td>\n",
       "      <td>...</td>\n",
       "      <td>...</td>\n",
       "      <td>...</td>\n",
       "      <td>...</td>\n",
       "      <td>...</td>\n",
       "      <td>...</td>\n",
       "      <td>...</td>\n",
       "      <td>...</td>\n",
       "      <td>...</td>\n",
       "      <td>...</td>\n",
       "      <td>...</td>\n",
       "      <td>...</td>\n",
       "      <td>...</td>\n",
       "      <td>...</td>\n",
       "      <td>...</td>\n",
       "      <td>...</td>\n",
       "      <td>...</td>\n",
       "      <td>...</td>\n",
       "      <td>...</td>\n",
       "      <td>...</td>\n",
       "      <td>...</td>\n",
       "      <td>...</td>\n",
       "      <td>...</td>\n",
       "      <td>...</td>\n",
       "      <td>...</td>\n",
       "      <td>...</td>\n",
       "      <td>...</td>\n",
       "      <td>...</td>\n",
       "      <td>...</td>\n",
       "      <td>...</td>\n",
       "      <td>...</td>\n",
       "      <td>...</td>\n",
       "      <td>...</td>\n",
       "      <td>...</td>\n",
       "      <td>...</td>\n",
       "      <td>...</td>\n",
       "      <td>...</td>\n",
       "      <td>...</td>\n",
       "      <td>...</td>\n",
       "      <td>...</td>\n",
       "      <td>...</td>\n",
       "      <td>...</td>\n",
       "      <td>...</td>\n",
       "      <td>...</td>\n",
       "      <td>...</td>\n",
       "      <td>...</td>\n",
       "      <td>...</td>\n",
       "      <td>...</td>\n",
       "      <td>...</td>\n",
       "      <td>...</td>\n",
       "      <td>...</td>\n",
       "      <td>...</td>\n",
       "      <td>...</td>\n",
       "      <td>...</td>\n",
       "      <td>...</td>\n",
       "      <td>...</td>\n",
       "      <td>...</td>\n",
       "      <td>...</td>\n",
       "      <td>...</td>\n",
       "      <td>...</td>\n",
       "      <td>...</td>\n",
       "      <td>...</td>\n",
       "      <td>...</td>\n",
       "      <td>...</td>\n",
       "      <td>...</td>\n",
       "      <td>...</td>\n",
       "      <td>...</td>\n",
       "      <td>...</td>\n",
       "      <td>...</td>\n",
       "      <td>...</td>\n",
       "      <td>...</td>\n",
       "      <td>...</td>\n",
       "      <td>...</td>\n",
       "      <td>...</td>\n",
       "      <td>...</td>\n",
       "      <td>...</td>\n",
       "      <td>...</td>\n",
       "      <td>...</td>\n",
       "      <td>...</td>\n",
       "      <td>...</td>\n",
       "      <td>...</td>\n",
       "      <td>...</td>\n",
       "      <td>...</td>\n",
       "      <td>...</td>\n",
       "      <td>...</td>\n",
       "      <td>...</td>\n",
       "      <td>...</td>\n",
       "      <td>...</td>\n",
       "      <td>...</td>\n",
       "      <td>...</td>\n",
       "      <td>...</td>\n",
       "      <td>...</td>\n",
       "      <td>...</td>\n",
       "      <td>...</td>\n",
       "      <td>...</td>\n",
       "      <td>...</td>\n",
       "      <td>...</td>\n",
       "      <td>...</td>\n",
       "      <td>...</td>\n",
       "      <td>...</td>\n",
       "      <td>...</td>\n",
       "      <td>...</td>\n",
       "      <td>...</td>\n",
       "      <td>...</td>\n",
       "      <td>...</td>\n",
       "      <td>...</td>\n",
       "      <td>...</td>\n",
       "      <td>...</td>\n",
       "      <td>...</td>\n",
       "      <td>...</td>\n",
       "      <td>...</td>\n",
       "      <td>...</td>\n",
       "      <td>...</td>\n",
       "      <td>...</td>\n",
       "      <td>...</td>\n",
       "      <td>...</td>\n",
       "      <td>...</td>\n",
       "      <td>...</td>\n",
       "      <td>...</td>\n",
       "      <td>...</td>\n",
       "      <td>...</td>\n",
       "      <td>...</td>\n",
       "      <td>...</td>\n",
       "      <td>...</td>\n",
       "      <td>...</td>\n",
       "      <td>...</td>\n",
       "      <td>...</td>\n",
       "    </tr>\n",
       "    <tr>\n",
       "      <th>r_model-3186.pdb</th>\n",
       "      <td>...</td>\n",
       "      <td>...</td>\n",
       "      <td>...</td>\n",
       "      <td>...</td>\n",
       "      <td>...</td>\n",
       "      <td>...</td>\n",
       "      <td>...</td>\n",
       "      <td>...</td>\n",
       "      <td>...</td>\n",
       "      <td>...</td>\n",
       "      <td>...</td>\n",
       "      <td>...</td>\n",
       "      <td>...</td>\n",
       "      <td>...</td>\n",
       "      <td>...</td>\n",
       "      <td>...</td>\n",
       "      <td>...</td>\n",
       "      <td>...</td>\n",
       "      <td>...</td>\n",
       "      <td>...</td>\n",
       "      <td>...</td>\n",
       "      <td>...</td>\n",
       "      <td>...</td>\n",
       "      <td>...</td>\n",
       "      <td>...</td>\n",
       "      <td>...</td>\n",
       "      <td>...</td>\n",
       "      <td>...</td>\n",
       "      <td>...</td>\n",
       "      <td>...</td>\n",
       "      <td>...</td>\n",
       "      <td>...</td>\n",
       "      <td>...</td>\n",
       "      <td>...</td>\n",
       "      <td>...</td>\n",
       "      <td>...</td>\n",
       "      <td>...</td>\n",
       "      <td>...</td>\n",
       "      <td>...</td>\n",
       "      <td>...</td>\n",
       "      <td>...</td>\n",
       "      <td>...</td>\n",
       "      <td>...</td>\n",
       "      <td>...</td>\n",
       "      <td>...</td>\n",
       "      <td>...</td>\n",
       "      <td>...</td>\n",
       "      <td>...</td>\n",
       "      <td>...</td>\n",
       "      <td>...</td>\n",
       "      <td>...</td>\n",
       "      <td>...</td>\n",
       "      <td>...</td>\n",
       "      <td>...</td>\n",
       "      <td>...</td>\n",
       "      <td>...</td>\n",
       "      <td>...</td>\n",
       "      <td>...</td>\n",
       "      <td>...</td>\n",
       "      <td>...</td>\n",
       "      <td>...</td>\n",
       "      <td>...</td>\n",
       "      <td>...</td>\n",
       "      <td>...</td>\n",
       "      <td>...</td>\n",
       "      <td>...</td>\n",
       "      <td>...</td>\n",
       "      <td>...</td>\n",
       "      <td>...</td>\n",
       "      <td>...</td>\n",
       "      <td>...</td>\n",
       "      <td>...</td>\n",
       "      <td>...</td>\n",
       "      <td>...</td>\n",
       "      <td>...</td>\n",
       "      <td>...</td>\n",
       "      <td>...</td>\n",
       "      <td>...</td>\n",
       "      <td>...</td>\n",
       "      <td>...</td>\n",
       "      <td>...</td>\n",
       "      <td>...</td>\n",
       "      <td>...</td>\n",
       "      <td>...</td>\n",
       "      <td>...</td>\n",
       "      <td>...</td>\n",
       "      <td>...</td>\n",
       "      <td>...</td>\n",
       "      <td>...</td>\n",
       "      <td>...</td>\n",
       "      <td>...</td>\n",
       "      <td>...</td>\n",
       "      <td>...</td>\n",
       "      <td>...</td>\n",
       "      <td>...</td>\n",
       "      <td>...</td>\n",
       "      <td>...</td>\n",
       "      <td>...</td>\n",
       "      <td>...</td>\n",
       "      <td>...</td>\n",
       "      <td>...</td>\n",
       "      <td>...</td>\n",
       "      <td>...</td>\n",
       "      <td>...</td>\n",
       "      <td>...</td>\n",
       "      <td>...</td>\n",
       "      <td>...</td>\n",
       "      <td>...</td>\n",
       "      <td>...</td>\n",
       "      <td>...</td>\n",
       "      <td>...</td>\n",
       "      <td>...</td>\n",
       "      <td>...</td>\n",
       "      <td>...</td>\n",
       "      <td>...</td>\n",
       "      <td>...</td>\n",
       "      <td>...</td>\n",
       "      <td>...</td>\n",
       "      <td>...</td>\n",
       "      <td>...</td>\n",
       "      <td>...</td>\n",
       "      <td>...</td>\n",
       "      <td>...</td>\n",
       "      <td>...</td>\n",
       "      <td>...</td>\n",
       "      <td>...</td>\n",
       "      <td>...</td>\n",
       "      <td>...</td>\n",
       "      <td>...</td>\n",
       "      <td>...</td>\n",
       "      <td>...</td>\n",
       "      <td>...</td>\n",
       "      <td>...</td>\n",
       "      <td>...</td>\n",
       "      <td>...</td>\n",
       "      <td>...</td>\n",
       "      <td>...</td>\n",
       "      <td>...</td>\n",
       "      <td>...</td>\n",
       "      <td>...</td>\n",
       "      <td>...</td>\n",
       "      <td>...</td>\n",
       "      <td>...</td>\n",
       "      <td>...</td>\n",
       "      <td>...</td>\n",
       "      <td>...</td>\n",
       "      <td>...</td>\n",
       "      <td>...</td>\n",
       "      <td>...</td>\n",
       "      <td>...</td>\n",
       "      <td>...</td>\n",
       "      <td>...</td>\n",
       "      <td>...</td>\n",
       "      <td>...</td>\n",
       "      <td>...</td>\n",
       "      <td>...</td>\n",
       "      <td>...</td>\n",
       "      <td>...</td>\n",
       "      <td>...</td>\n",
       "      <td>...</td>\n",
       "    </tr>\n",
       "  </tbody>\n",
       "</table>\n",
       "</div>\n",
       "<div>Dask Name: concat, 36 tasks</div>"
      ],
      "text/plain": [
       "Dask DataFrame Structure:\n",
       "                      AA  AA_sqrt    AAl AAl_sqrt    AAr AAr_sqrt    ALIPH   AP_ACE  AP_DARS AP_DCOMPLEX AP_DDG_U AP_DDG_W AP_DFIRE2  AP_DOPE AP_DOPE_HR AP_GEOMETRIC AP_GOAP_ALL AP_GOAP_DF AP_GOAP_G   AP_MPS AP_OPUS_PSP  AP_PISA    AP_T1    AP_T2   AP_URS    AP_W1 AP_calRW AP_calRWp AP_dDFIRE   AlAl AlAl_sqrt   AlAr AlAr_sqrt   ArAr ArAr_sqrt      BSA BSA_Apolar BSA_Polar     CA  CA_sqrt    CAl CAl_sqrt    CAr CAr_sqrt     CC  CC_sqrt CONSRANK_val     CP  CP_BFKV    CP_BL    CP_BT    CP_D1 CP_DDG_U CP_DDG_W CP_E3DC_CB CP_E3DC_MIN CP_E3D_CB CP_E3D_MIN CP_ELOCAL_CB CP_ELOCAL_MIN CP_EPAIR_CB CP_EPAIR_MIN CP_ES3DC_CB CP_ES3DC_MIN   CP_GKS  CP_HLPL   CP_MJ1   CP_MJ2  CP_MJ2h  CP_MJ3h  CP_MJPL    CP_MS  CP_MSBM    CP_Qa    CP_Qm    CP_Qp CP_RMFCA CP_RMFCEN1 CP_RMFCEN2    CP_RO  CP_SJKG CP_SKOIP  CP_SKOa  CP_SKOb    CP_TB    CP_TD   CP_TEl   CP_TEs    CP_TS   CP_TSC    CP_VD CP_Z3DC_CB CP_Z3DC_MIN CP_ZLOCAL_CB CP_ZLOCAL_MIN CP_ZPAIR_CB CP_ZPAIR_MIN CP_ZS3DC_CB CP_ZS3DC_MIN  CP_sqrt    DDG_V   DESOLV     DOKB   DQ_val      ELE FIREDOCK FIREDOCK_AB FIREDOCK_EI    HBOND   INSIDE      NSC Nis_Apolar Nis_Polar      ODA     PA  PA_sqrt    PAl PAl_sqrt    PAr PAr_sqrt    PI_PI     PP  PP_sqrt PROPNSTS PYDOCK_TOT   SIPPER      VDW    ZRANK   ZRANK2 avg_cips_AA avg_cips_AAl avg_cips_AAr avg_cips_AlAl avg_cips_AlAr avg_cips_ArAr avg_cips_CA avg_cips_CAl avg_cips_CAr avg_cips_CC avg_cips_CP avg_cips_PA avg_cips_PAl avg_cips_PAr avg_cips_PP  cips_AA cips_AAl cips_AAr cips_AlAl cips_AlAr cips_ArAr  cips_CA cips_CAl  cips_CC  cips_CP  cips_PA cips_PAl  cips_PP     idx label_binary num_of_contacs\n",
       "npartitions=3                                                                                                                                                                                                                                                                                                                                                                                                                                                                                                                                                                                                                                                                                                                                                                                                                                                                                                                                                                                                                                                                                                                                                                                                                                                                                                                                                                                                                                                                                                                                                                                                                                                    \n",
       "F_1A2K_1488_I.pdb  int64  float64  int64  float64  int64  float64  float64  float64  float64     float64  float64  float64   float64  float64    float64      float64     float64    float64   float64  float64     float64  float64  float64  float64  float64  float64  float64   float64   float64  int64   float64  int64   float64  int64   float64  float64    float64   float64  int64  float64  int64  float64  int64  float64  int64  float64      float64  int64  float64  float64  float64  float64  float64  float64    float64     float64   float64    float64      float64       float64     float64      float64     float64      float64  float64  float64  float64  float64  float64  float64  float64  float64  float64  float64  float64  float64  float64    float64    float64  float64  float64  float64  float64  float64  float64  float64  float64  float64  float64  float64  float64    float64     float64      float64       float64     float64      float64     float64      float64  float64  float64  float64  float64  float64  float64  float64     float64     float64  float64  float64  float64    float64   float64  float64  int64  float64  int64  float64  int64  float64  float64  int64  float64  float64    float64  float64  float64  float64  float64     float64      float64      float64       float64       float64       float64     float64      float64      float64     float64     float64     float64      float64      float64     float64  float64  float64  float64   float64   float64   float64  float64  float64  float64  float64  float64  float64  float64  object      float64          int64\n",
       "H_3L5W_3435_I.pdb    ...      ...    ...      ...    ...      ...      ...      ...      ...         ...      ...      ...       ...      ...        ...          ...         ...        ...       ...      ...         ...      ...      ...      ...      ...      ...      ...       ...       ...    ...       ...    ...       ...    ...       ...      ...        ...       ...    ...      ...    ...      ...    ...      ...    ...      ...          ...    ...      ...      ...      ...      ...      ...      ...        ...         ...       ...        ...          ...           ...         ...          ...         ...          ...      ...      ...      ...      ...      ...      ...      ...      ...      ...      ...      ...      ...      ...        ...        ...      ...      ...      ...      ...      ...      ...      ...      ...      ...      ...      ...      ...        ...         ...          ...           ...         ...          ...         ...          ...      ...      ...      ...      ...      ...      ...      ...         ...         ...      ...      ...      ...        ...       ...      ...    ...      ...    ...      ...    ...      ...      ...    ...      ...      ...        ...      ...      ...      ...      ...         ...          ...          ...           ...           ...           ...         ...          ...          ...         ...         ...         ...          ...          ...         ...      ...      ...      ...       ...       ...       ...      ...      ...      ...      ...      ...      ...      ...     ...          ...            ...\n",
       "r_model-1000.pdb     ...      ...    ...      ...    ...      ...      ...      ...      ...         ...      ...      ...       ...      ...        ...          ...         ...        ...       ...      ...         ...      ...      ...      ...      ...      ...      ...       ...       ...    ...       ...    ...       ...    ...       ...      ...        ...       ...    ...      ...    ...      ...    ...      ...    ...      ...          ...    ...      ...      ...      ...      ...      ...      ...        ...         ...       ...        ...          ...           ...         ...          ...         ...          ...      ...      ...      ...      ...      ...      ...      ...      ...      ...      ...      ...      ...      ...        ...        ...      ...      ...      ...      ...      ...      ...      ...      ...      ...      ...      ...      ...        ...         ...          ...           ...         ...          ...         ...          ...      ...      ...      ...      ...      ...      ...      ...         ...         ...      ...      ...      ...        ...       ...      ...    ...      ...    ...      ...    ...      ...      ...    ...      ...      ...        ...      ...      ...      ...      ...         ...          ...          ...           ...           ...           ...         ...          ...          ...         ...         ...         ...          ...          ...         ...      ...      ...      ...       ...       ...       ...      ...      ...      ...      ...      ...      ...      ...     ...          ...            ...\n",
       "r_model-3186.pdb     ...      ...    ...      ...    ...      ...      ...      ...      ...         ...      ...      ...       ...      ...        ...          ...         ...        ...       ...      ...         ...      ...      ...      ...      ...      ...      ...       ...       ...    ...       ...    ...       ...    ...       ...      ...        ...       ...    ...      ...    ...      ...    ...      ...    ...      ...          ...    ...      ...      ...      ...      ...      ...      ...        ...         ...       ...        ...          ...           ...         ...          ...         ...          ...      ...      ...      ...      ...      ...      ...      ...      ...      ...      ...      ...      ...      ...        ...        ...      ...      ...      ...      ...      ...      ...      ...      ...      ...      ...      ...      ...        ...         ...          ...           ...         ...          ...         ...          ...      ...      ...      ...      ...      ...      ...      ...         ...         ...      ...      ...      ...        ...       ...      ...    ...      ...    ...      ...    ...      ...      ...    ...      ...      ...        ...      ...      ...      ...      ...         ...          ...          ...           ...           ...           ...         ...          ...          ...         ...         ...         ...          ...          ...         ...      ...      ...      ...       ...       ...       ...      ...      ...      ...      ...      ...      ...      ...     ...          ...            ...\n",
       "Dask Name: concat, 36 tasks"
      ]
     },
     "execution_count": 319,
     "metadata": {},
     "output_type": "execute_result"
    }
   ],
   "source": [
    "X_train"
   ]
  },
  {
   "cell_type": "code",
   "execution_count": 320,
   "id": "inside-dependence",
   "metadata": {},
   "outputs": [],
   "source": [
    "# X_train_fs, X_test_fs, X_test_u_fs = scaling_data(X_train, X_test, X_test_u)\n",
    "# X_train_fs, X_val_fs, X_val_u_fs = scaling_data(X_train, X_val, X_val_u)\n",
    "\n",
    "X_train_fs, X_test_u_fs = scaling_data_selected(X_train, X_test_u)\n",
    "# X_train_fs, X_val_u_fs = scaling_data_selected(X_train, X_val, X_val_u)"
   ]
  },
  {
   "cell_type": "code",
   "execution_count": 321,
   "id": "scenic-grace",
   "metadata": {},
   "outputs": [],
   "source": [
    "n_examples = 4 * len(X_train_fs)  # 20 passes through dataset for best model\n",
    "n_params = 8  # sample about 300 parameters\n",
    "\n",
    "# inputs to hyperband\n",
    "max_iter = n_params\n",
    "chunk_size = n_examples // n_params"
   ]
  },
  {
   "cell_type": "code",
   "execution_count": 322,
   "id": "ranking-manner",
   "metadata": {},
   "outputs": [],
   "source": [
    "def scaling_data(X_train,X_test,X_test_unbalanced):\n",
    "#     scaler = MinMaxScaler()\n",
    "    features = ['idx','class_q','pdb1','chains_pdb1','pdb2','chains_pdb2',\n",
    "                'label_binary','DQ_val','binary_label','identification','labels']\n",
    "    scaler = StandardScaler()\n",
    "\n",
    "\n",
    "\n",
    "    for x in features :\n",
    "        if x in X_train.columns:\n",
    "            X_train= X_train.drop(x,axis=1)            \n",
    "    for x in features :\n",
    "        if x in X_test.columns: \n",
    "                X_test = X_test.drop(x,axis=1)\n",
    "            \n",
    "    for x in features :\n",
    "        if x in X_test_unbalanced.columns:\n",
    "            X_test_unbalanced= X_test_unbalanced.drop(x,axis=1)\n",
    "            \n",
    "        \n",
    "    print(X_train.shape)\n",
    "    print(X_test.shape)\n",
    "\n",
    "    scaler.fit(X_train)\n",
    "    scaled_train = scaler.transform(X_train)\n",
    "    scaled_test = scaler.transform(X_test[X_train.columns])\n",
    "    scaled_test_u = scaler.transform(X_test_unbalanced[X_train.columns])\n",
    "    return scaled_train,scaled_test,scaled_test_u"
   ]
  },
  {
   "cell_type": "code",
   "execution_count": 323,
   "id": "understanding-detector",
   "metadata": {},
   "outputs": [
    {
     "name": "stdout",
     "output_type": "stream",
     "text": [
      "<class 'dask.dataframe.core.DataFrame'>\n",
      "Columns: 15 entries, CONSRANK_val to CP_RMFCA\n",
      "dtypes: float64(15)"
     ]
    }
   ],
   "source": [
    "X_train_fs.info()"
   ]
  },
  {
   "cell_type": "code",
   "execution_count": 324,
   "id": "imported-place",
   "metadata": {},
   "outputs": [
    {
     "data": {
      "text/html": [
       "<div><strong>Dask DataFrame Structure:</strong></div>\n",
       "<div>\n",
       "<style scoped>\n",
       "    .dataframe tbody tr th:only-of-type {\n",
       "        vertical-align: middle;\n",
       "    }\n",
       "\n",
       "    .dataframe tbody tr th {\n",
       "        vertical-align: top;\n",
       "    }\n",
       "\n",
       "    .dataframe thead th {\n",
       "        text-align: right;\n",
       "    }\n",
       "</style>\n",
       "<table border=\"1\" class=\"dataframe\">\n",
       "  <thead>\n",
       "    <tr style=\"text-align: right;\">\n",
       "      <th></th>\n",
       "      <th>CONSRANK_val</th>\n",
       "      <th>AP_GOAP_DF</th>\n",
       "      <th>CP_TD</th>\n",
       "      <th>CP_D1</th>\n",
       "      <th>CP_HLPL</th>\n",
       "      <th>DDG_V</th>\n",
       "      <th>CP_MJ3h</th>\n",
       "      <th>PYDOCK_TOT</th>\n",
       "      <th>ELE</th>\n",
       "      <th>CP_SKOIP</th>\n",
       "      <th>SIPPER</th>\n",
       "      <th>AP_DFIRE2</th>\n",
       "      <th>AP_dDFIRE</th>\n",
       "      <th>AP_PISA</th>\n",
       "      <th>CP_RMFCA</th>\n",
       "    </tr>\n",
       "    <tr>\n",
       "      <th>npartitions=1</th>\n",
       "      <th></th>\n",
       "      <th></th>\n",
       "      <th></th>\n",
       "      <th></th>\n",
       "      <th></th>\n",
       "      <th></th>\n",
       "      <th></th>\n",
       "      <th></th>\n",
       "      <th></th>\n",
       "      <th></th>\n",
       "      <th></th>\n",
       "      <th></th>\n",
       "      <th></th>\n",
       "      <th></th>\n",
       "      <th></th>\n",
       "    </tr>\n",
       "  </thead>\n",
       "  <tbody>\n",
       "    <tr>\n",
       "      <th></th>\n",
       "      <td>float64</td>\n",
       "      <td>float64</td>\n",
       "      <td>float64</td>\n",
       "      <td>float64</td>\n",
       "      <td>float64</td>\n",
       "      <td>float64</td>\n",
       "      <td>float64</td>\n",
       "      <td>float64</td>\n",
       "      <td>float64</td>\n",
       "      <td>float64</td>\n",
       "      <td>float64</td>\n",
       "      <td>float64</td>\n",
       "      <td>float64</td>\n",
       "      <td>float64</td>\n",
       "      <td>float64</td>\n",
       "    </tr>\n",
       "    <tr>\n",
       "      <th></th>\n",
       "      <td>...</td>\n",
       "      <td>...</td>\n",
       "      <td>...</td>\n",
       "      <td>...</td>\n",
       "      <td>...</td>\n",
       "      <td>...</td>\n",
       "      <td>...</td>\n",
       "      <td>...</td>\n",
       "      <td>...</td>\n",
       "      <td>...</td>\n",
       "      <td>...</td>\n",
       "      <td>...</td>\n",
       "      <td>...</td>\n",
       "      <td>...</td>\n",
       "      <td>...</td>\n",
       "    </tr>\n",
       "  </tbody>\n",
       "</table>\n",
       "</div>\n",
       "<div>Dask Name: describe-numeric, 226 tasks</div>"
      ],
      "text/plain": [
       "Dask DataFrame Structure:\n",
       "              CONSRANK_val AP_GOAP_DF    CP_TD    CP_D1  CP_HLPL    DDG_V  CP_MJ3h PYDOCK_TOT      ELE CP_SKOIP   SIPPER AP_DFIRE2 AP_dDFIRE  AP_PISA CP_RMFCA\n",
       "npartitions=1                                                                                                                                                 \n",
       "                   float64    float64  float64  float64  float64  float64  float64    float64  float64  float64  float64   float64   float64  float64  float64\n",
       "                       ...        ...      ...      ...      ...      ...      ...        ...      ...      ...      ...       ...       ...      ...      ...\n",
       "Dask Name: describe-numeric, 226 tasks"
      ]
     },
     "execution_count": 324,
     "metadata": {},
     "output_type": "execute_result"
    }
   ],
   "source": [
    "X_train_fs.describe()"
   ]
  },
  {
   "cell_type": "code",
   "execution_count": 325,
   "id": "sound-navigation",
   "metadata": {},
   "outputs": [],
   "source": [
    "X_train_fs = X_train_fs.to_dask_array()\n"
   ]
  },
  {
   "cell_type": "code",
   "execution_count": 326,
   "id": "exceptional-conference",
   "metadata": {},
   "outputs": [
    {
     "data": {
      "text/html": [
       "<table>\n",
       "<tr>\n",
       "<td>\n",
       "<table>\n",
       "  <thead>\n",
       "    <tr><td> </td><th> Array </th><th> Chunk </th></tr>\n",
       "  </thead>\n",
       "  <tbody>\n",
       "    <tr><th> Bytes </th><td> 9.17 MB </td> <td> 5.17 MB </td></tr>\n",
       "    <tr><th> Shape </th><td> (76398, 15) </td> <td> (43078, 15) </td></tr>\n",
       "    <tr><th> Count </th><td> 48 Tasks </td><td> 3 Chunks </td></tr>\n",
       "    <tr><th> Type </th><td> float64 </td><td> numpy.ndarray </td></tr>\n",
       "  </tbody>\n",
       "</table>\n",
       "</td>\n",
       "<td>\n",
       "<svg width=\"75\" height=\"170\" style=\"stroke:rgb(0,0,0);stroke-width:1\" >\n",
       "\n",
       "  <!-- Horizontal lines -->\n",
       "  <line x1=\"0\" y1=\"0\" x2=\"25\" y2=\"0\" style=\"stroke-width:2\" />\n",
       "  <line x1=\"0\" y1=\"48\" x2=\"25\" y2=\"48\" />\n",
       "  <line x1=\"0\" y1=\"115\" x2=\"25\" y2=\"115\" />\n",
       "  <line x1=\"0\" y1=\"120\" x2=\"25\" y2=\"120\" style=\"stroke-width:2\" />\n",
       "\n",
       "  <!-- Vertical lines -->\n",
       "  <line x1=\"0\" y1=\"0\" x2=\"0\" y2=\"120\" style=\"stroke-width:2\" />\n",
       "  <line x1=\"25\" y1=\"0\" x2=\"25\" y2=\"120\" style=\"stroke-width:2\" />\n",
       "\n",
       "  <!-- Colored Rectangle -->\n",
       "  <polygon points=\"0.000000,0.000000 25.412617,0.000000 25.412617,120.000000 0.000000,120.000000\" style=\"fill:#ECB172A0;stroke-width:0\"/>\n",
       "\n",
       "  <!-- Text -->\n",
       "  <text x=\"12.706308\" y=\"140.000000\" font-size=\"1.0rem\" font-weight=\"100\" text-anchor=\"middle\" >15</text>\n",
       "  <text x=\"45.412617\" y=\"60.000000\" font-size=\"1.0rem\" font-weight=\"100\" text-anchor=\"middle\" transform=\"rotate(-90,45.412617,60.000000)\">76398</text>\n",
       "</svg>\n",
       "</td>\n",
       "</tr>\n",
       "</table>"
      ],
      "text/plain": [
       "dask.array<values, shape=(76398, 15), dtype=float64, chunksize=(43078, 15), chunktype=numpy.ndarray>"
      ]
     },
     "execution_count": 326,
     "metadata": {},
     "output_type": "execute_result"
    }
   ],
   "source": [
    "X_train_fs.compute_chunk_sizes()"
   ]
  },
  {
   "cell_type": "code",
   "execution_count": 327,
   "id": "surrounded-fabric",
   "metadata": {},
   "outputs": [],
   "source": [
    "X_train_fs = X_train_fs.rechunk(chunks=chunk_size)"
   ]
  },
  {
   "cell_type": "code",
   "execution_count": 328,
   "id": "optimum-huntington",
   "metadata": {},
   "outputs": [],
   "source": [
    "# X_train_fs"
   ]
  },
  {
   "cell_type": "code",
   "execution_count": 329,
   "id": "joined-threat",
   "metadata": {},
   "outputs": [],
   "source": [
    "y_train = y_train.to_dask_array()"
   ]
  },
  {
   "cell_type": "code",
   "execution_count": 330,
   "id": "sorted-bunch",
   "metadata": {},
   "outputs": [
    {
     "data": {
      "text/html": [
       "<table>\n",
       "<tr>\n",
       "<td>\n",
       "<table>\n",
       "  <thead>\n",
       "    <tr><td> </td><th> Array </th><th> Chunk </th></tr>\n",
       "  </thead>\n",
       "  <tbody>\n",
       "    <tr><th> Bytes </th><td> 611.18 kB </td> <td> 344.62 kB </td></tr>\n",
       "    <tr><th> Shape </th><td> (76398,) </td> <td> (43078,) </td></tr>\n",
       "    <tr><th> Count </th><td> 42 Tasks </td><td> 3 Chunks </td></tr>\n",
       "    <tr><th> Type </th><td> float64 </td><td> numpy.ndarray </td></tr>\n",
       "  </tbody>\n",
       "</table>\n",
       "</td>\n",
       "<td>\n",
       "<svg width=\"170\" height=\"75\" style=\"stroke:rgb(0,0,0);stroke-width:1\" >\n",
       "\n",
       "  <!-- Horizontal lines -->\n",
       "  <line x1=\"0\" y1=\"0\" x2=\"120\" y2=\"0\" style=\"stroke-width:2\" />\n",
       "  <line x1=\"0\" y1=\"25\" x2=\"120\" y2=\"25\" style=\"stroke-width:2\" />\n",
       "\n",
       "  <!-- Vertical lines -->\n",
       "  <line x1=\"0\" y1=\"0\" x2=\"0\" y2=\"25\" style=\"stroke-width:2\" />\n",
       "  <line x1=\"48\" y1=\"0\" x2=\"48\" y2=\"25\" />\n",
       "  <line x1=\"115\" y1=\"0\" x2=\"115\" y2=\"25\" />\n",
       "  <line x1=\"120\" y1=\"0\" x2=\"120\" y2=\"25\" style=\"stroke-width:2\" />\n",
       "\n",
       "  <!-- Colored Rectangle -->\n",
       "  <polygon points=\"0.000000,0.000000 120.000000,0.000000 120.000000,25.412617 0.000000,25.412617\" style=\"fill:#ECB172A0;stroke-width:0\"/>\n",
       "\n",
       "  <!-- Text -->\n",
       "  <text x=\"60.000000\" y=\"45.412617\" font-size=\"1.0rem\" font-weight=\"100\" text-anchor=\"middle\" >76398</text>\n",
       "  <text x=\"140.000000\" y=\"12.706308\" font-size=\"1.0rem\" font-weight=\"100\" text-anchor=\"middle\" transform=\"rotate(0,140.000000,12.706308)\">1</text>\n",
       "</svg>\n",
       "</td>\n",
       "</tr>\n",
       "</table>"
      ],
      "text/plain": [
       "dask.array<values, shape=(76398,), dtype=float64, chunksize=(43078,), chunktype=numpy.ndarray>"
      ]
     },
     "execution_count": 330,
     "metadata": {},
     "output_type": "execute_result"
    }
   ],
   "source": [
    "y_train.compute_chunk_sizes()"
   ]
  },
  {
   "cell_type": "code",
   "execution_count": 331,
   "id": "thousand-heavy",
   "metadata": {},
   "outputs": [],
   "source": [
    "y_train = y_train.rechunk(chunks=chunk_size)"
   ]
  },
  {
   "cell_type": "code",
   "execution_count": 332,
   "id": "earlier-mineral",
   "metadata": {},
   "outputs": [],
   "source": [
    "# y_train"
   ]
  },
  {
   "cell_type": "code",
   "execution_count": null,
   "id": "light-magazine",
   "metadata": {},
   "outputs": [],
   "source": []
  },
  {
   "cell_type": "code",
   "execution_count": 333,
   "id": "written-oxide",
   "metadata": {},
   "outputs": [],
   "source": [
    "# Create the random search model\n",
    "rsnn = HyperbandSearchCV(estimator=estimator, parameters=params ,verbose=True,\n",
    "                         max_iter=max_iter,patience=True,\n",
    "                         random_state=32,aggressiveness=4)"
   ]
  },
  {
   "cell_type": "code",
   "execution_count": 334,
   "id": "internal-pearl",
   "metadata": {},
   "outputs": [
    {
     "data": {
      "text/plain": [
       "30"
      ]
     },
     "execution_count": 334,
     "metadata": {},
     "output_type": "execute_result"
    }
   ],
   "source": [
    "rsnn.metadata[\"partial_fit_calls\"]"
   ]
  },
  {
   "cell_type": "code",
   "execution_count": 335,
   "id": "buried-tunnel",
   "metadata": {},
   "outputs": [
    {
     "name": "stdout",
     "output_type": "stream",
     "text": [
      "[CV, bracket=1] creating 4 models\n"
     ]
    },
    {
     "name": "stderr",
     "output_type": "stream",
     "text": [
      "INFO:dask_ml.model_selection:[CV, bracket=1] creating 4 models\n"
     ]
    },
    {
     "name": "stdout",
     "output_type": "stream",
     "text": [
      "[CV, bracket=0] creating 2 models\n"
     ]
    },
    {
     "name": "stderr",
     "output_type": "stream",
     "text": [
      "INFO:dask_ml.model_selection:[CV, bracket=0] creating 2 models\n"
     ]
    },
    {
     "name": "stdout",
     "output_type": "stream",
     "text": [
      "[CV, bracket=0] For training there are between 30559 and 30559 examples in each chunk\n"
     ]
    },
    {
     "name": "stderr",
     "output_type": "stream",
     "text": [
      "INFO:dask_ml.model_selection:[CV, bracket=0] For training there are between 30559 and 30559 examples in each chunk\n"
     ]
    },
    {
     "name": "stdout",
     "output_type": "stream",
     "text": [
      "[CV, bracket=1] For training there are between 30559 and 30559 examples in each chunk\n"
     ]
    },
    {
     "name": "stderr",
     "output_type": "stream",
     "text": [
      "INFO:dask_ml.model_selection:[CV, bracket=1] For training there are between 30559 and 30559 examples in each chunk\n"
     ]
    },
    {
     "name": "stdout",
     "output_type": "stream",
     "text": [
      "[CV, bracket=0] validation score of 0.5337 received after 1 partial_fit calls\n"
     ]
    },
    {
     "name": "stderr",
     "output_type": "stream",
     "text": [
      "INFO:dask_ml.model_selection:[CV, bracket=0] validation score of 0.5337 received after 1 partial_fit calls\n"
     ]
    },
    {
     "name": "stdout",
     "output_type": "stream",
     "text": [
      "[CV, bracket=1] validation score of 0.4406 received after 1 partial_fit calls\n"
     ]
    },
    {
     "name": "stderr",
     "output_type": "stream",
     "text": [
      "INFO:dask_ml.model_selection:[CV, bracket=1] validation score of 0.4406 received after 1 partial_fit calls\n"
     ]
    },
    {
     "name": "stdout",
     "output_type": "stream",
     "text": [
      "[CV, bracket=1] validation score of 0.5422 received after 2 partial_fit calls\n"
     ]
    },
    {
     "name": "stderr",
     "output_type": "stream",
     "text": [
      "INFO:dask_ml.model_selection:[CV, bracket=1] validation score of 0.5422 received after 2 partial_fit calls\n"
     ]
    },
    {
     "name": "stdout",
     "output_type": "stream",
     "text": [
      "[CV, bracket=0] validation score of 0.6261 received after 3 partial_fit calls\n"
     ]
    },
    {
     "name": "stderr",
     "output_type": "stream",
     "text": [
      "INFO:dask_ml.model_selection:[CV, bracket=0] validation score of 0.6261 received after 3 partial_fit calls\n"
     ]
    },
    {
     "name": "stdout",
     "output_type": "stream",
     "text": [
      "[CV, bracket=1] validation score of 0.5750 received after 4 partial_fit calls\n"
     ]
    },
    {
     "name": "stderr",
     "output_type": "stream",
     "text": [
      "INFO:dask_ml.model_selection:[CV, bracket=1] validation score of 0.5750 received after 4 partial_fit calls\n"
     ]
    },
    {
     "name": "stdout",
     "output_type": "stream",
     "text": [
      "[CV, bracket=0] validation score of 0.6485 received after 5 partial_fit calls\n"
     ]
    },
    {
     "name": "stderr",
     "output_type": "stream",
     "text": [
      "INFO:dask_ml.model_selection:[CV, bracket=0] validation score of 0.6485 received after 5 partial_fit calls\n"
     ]
    },
    {
     "name": "stdout",
     "output_type": "stream",
     "text": [
      "[CV, bracket=1] validation score of 0.5908 received after 6 partial_fit calls\n"
     ]
    },
    {
     "name": "stderr",
     "output_type": "stream",
     "text": [
      "INFO:dask_ml.model_selection:[CV, bracket=1] validation score of 0.5908 received after 6 partial_fit calls\n"
     ]
    },
    {
     "name": "stdout",
     "output_type": "stream",
     "text": [
      "[CV, bracket=0] validation score of 0.6130 received after 7 partial_fit calls\n"
     ]
    },
    {
     "name": "stderr",
     "output_type": "stream",
     "text": [
      "INFO:dask_ml.model_selection:[CV, bracket=0] validation score of 0.6130 received after 7 partial_fit calls\n"
     ]
    },
    {
     "name": "stdout",
     "output_type": "stream",
     "text": [
      "[CV, bracket=1] validation score of 0.6036 received after 8 partial_fit calls\n"
     ]
    },
    {
     "name": "stderr",
     "output_type": "stream",
     "text": [
      "INFO:dask_ml.model_selection:[CV, bracket=1] validation score of 0.6036 received after 8 partial_fit calls\n",
      "INFO:dask_ml.model_selection:[CV, bracket=0] validation score of 0.6180 received after 8 partial_fit calls\n"
     ]
    },
    {
     "data": {
      "text/plain": [
       "HyperbandSearchCV(aggressiveness=4, estimator=MLPRegressor(), max_iter=8,\n",
       "                  parameters={'activation': ['relu', 'logistic', 'tanh'],\n",
       "                              'alpha': array([1.00000000e-06, 1.00693863e-06, 1.01392541e-06, 1.02096066e-06,\n",
       "       1.02804473e-06, 1.03517796e-06, 1.04236067e-06, 1.04959323e-06,\n",
       "       1.05687597e-06, 1.06420924e-06, 1.07159340e-06, 1.07902879e-06,\n",
       "       1.08651577e-06, 1.09405471e-06, 1....\n",
       "       9.01477631e-04, 9.07732653e-04, 9.14031075e-04, 9.20373200e-04,\n",
       "       9.26759330e-04, 9.33189772e-04, 9.39664831e-04, 9.46184819e-04,\n",
       "       9.52750047e-04, 9.59360829e-04, 9.66017480e-04, 9.72720319e-04,\n",
       "       9.79469667e-04, 9.86265846e-04, 9.93109181e-04, 1.00000000e-03]),\n",
       "                              'batch_size': [16, 32, 64, 128, 256, 512],\n",
       "                              'hidden_layer_sizes': [(24,), (12, 12),\n",
       "                                                     (6, 6, 6, 6),\n",
       "                                                     (4, 4, 4, 4, 4, 4),\n",
       "                                                     (12, 6, 3, 3)]},\n",
       "                  patience=True, random_state=32, verbose=True)"
      ]
     },
     "execution_count": 335,
     "metadata": {},
     "output_type": "execute_result"
    }
   ],
   "source": [
    "np.random.seed(seed = 101) \n",
    "\n",
    "rsnn.fit(X_train_fs,y_train)"
   ]
  },
  {
   "cell_type": "code",
   "execution_count": 336,
   "id": "banned-blast",
   "metadata": {},
   "outputs": [
    {
     "name": "stdout",
     "output_type": "stream",
     "text": [
      "{'hidden_layer_sizes': (6, 6, 6, 6), 'batch_size': 128, 'alpha': 1.2476595526308685e-05, 'activation': 'relu'}\n"
     ]
    }
   ],
   "source": [
    "print (rsnn.best_params_)"
   ]
  },
  {
   "cell_type": "code",
   "execution_count": 337,
   "id": "downtown-frost",
   "metadata": {},
   "outputs": [],
   "source": [
    "classifier = rsnn.best_estimator_"
   ]
  },
  {
   "cell_type": "code",
   "execution_count": 338,
   "id": "subtle-thousand",
   "metadata": {},
   "outputs": [],
   "source": [
    "# y_pred= classifier.predict(X_val_u_fs)"
   ]
  },
  {
   "cell_type": "code",
   "execution_count": 339,
   "id": "intellectual-motor",
   "metadata": {},
   "outputs": [],
   "source": [
    "# regression_report( y_true=y_val_u ,y_pred= y_pred, name=\"NNC_val\")"
   ]
  },
  {
   "cell_type": "code",
   "execution_count": 340,
   "id": "framed-salon",
   "metadata": {},
   "outputs": [],
   "source": [
    "y_pred= classifier.predict(X_test_u_fs)"
   ]
  },
  {
   "cell_type": "code",
   "execution_count": 341,
   "id": "attractive-universe",
   "metadata": {},
   "outputs": [
    {
     "name": "stdout",
     "output_type": "stream",
     "text": [
      "R^2: -4.125079754591034\n",
      "MAE: 0.19832269040947434\n",
      "MSE: 0.06791268653847189\n"
     ]
    }
   ],
   "source": [
    "regression_report( y_true=y_test_u ,y_pred= y_pred, name=\"NNC_test\")"
   ]
  },
  {
   "cell_type": "code",
   "execution_count": null,
   "id": "greatest-cowboy",
   "metadata": {},
   "outputs": [],
   "source": []
  },
  {
   "cell_type": "code",
   "execution_count": 342,
   "id": "graphic-radius",
   "metadata": {},
   "outputs": [],
   "source": [
    "estimator = SGDRegressor() "
   ]
  },
  {
   "cell_type": "code",
   "execution_count": null,
   "id": "interstate-diving",
   "metadata": {},
   "outputs": [],
   "source": []
  },
  {
   "cell_type": "code",
   "execution_count": 343,
   "id": "further-highlight",
   "metadata": {},
   "outputs": [],
   "source": [
    "#### SGD params \n",
    "params = { \n",
    "    \"l1_ratio\": uniform(0, 1), \n",
    "    \"alpha\": loguniform(1e-5, 1e-1), \n",
    "    \"penalty\": [\"l2\", \"l1\", \"elasticnet\"], \n",
    "    \"learning_rate\": [\"invscaling\", \"adaptive\",\"optimal\"], \n",
    "    \"power_t\": uniform(0, 1), \n",
    "    \"average\": [True, False], \n",
    "    \"loss\":[\"squared_loss\", \"huber\", \"epsilon_insensitive\", \"squared_epsilon_insensitive\"], \n",
    "    \"epsilon\": loguniform(1e-5, 1e-1), \n",
    "    \"eta0\":np.logspace(-6, -3, num=1000)\n",
    "} \n"
   ]
  },
  {
   "cell_type": "code",
   "execution_count": 344,
   "id": "united-vitamin",
   "metadata": {},
   "outputs": [],
   "source": [
    "rsnn = HyperbandSearchCV(estimator=estimator, parameters=params ,verbose=True,\n",
    "                         max_iter=max_iter,patience=True,\n",
    "                         random_state=32,aggressiveness=4)"
   ]
  },
  {
   "cell_type": "code",
   "execution_count": 345,
   "id": "distributed-adaptation",
   "metadata": {},
   "outputs": [
    {
     "data": {
      "text/plain": [
       "30"
      ]
     },
     "execution_count": 345,
     "metadata": {},
     "output_type": "execute_result"
    }
   ],
   "source": [
    "rsnn.metadata[\"partial_fit_calls\"]"
   ]
  },
  {
   "cell_type": "code",
   "execution_count": 346,
   "id": "engaging-profession",
   "metadata": {},
   "outputs": [
    {
     "name": "stdout",
     "output_type": "stream",
     "text": [
      "[CV, bracket=1] creating 4 models\n"
     ]
    },
    {
     "name": "stderr",
     "output_type": "stream",
     "text": [
      "INFO:dask_ml.model_selection:[CV, bracket=1] creating 4 models\n"
     ]
    },
    {
     "name": "stdout",
     "output_type": "stream",
     "text": [
      "[CV, bracket=0] creating 2 models\n"
     ]
    },
    {
     "name": "stderr",
     "output_type": "stream",
     "text": [
      "INFO:dask_ml.model_selection:[CV, bracket=0] creating 2 models\n"
     ]
    },
    {
     "name": "stdout",
     "output_type": "stream",
     "text": [
      "[CV, bracket=1] For training there are between 30559 and 30559 examples in each chunk\n"
     ]
    },
    {
     "name": "stderr",
     "output_type": "stream",
     "text": [
      "INFO:dask_ml.model_selection:[CV, bracket=1] For training there are between 30559 and 30559 examples in each chunk\n"
     ]
    },
    {
     "name": "stdout",
     "output_type": "stream",
     "text": [
      "[CV, bracket=0] For training there are between 30559 and 30559 examples in each chunk\n"
     ]
    },
    {
     "name": "stderr",
     "output_type": "stream",
     "text": [
      "INFO:dask_ml.model_selection:[CV, bracket=0] For training there are between 30559 and 30559 examples in each chunk\n"
     ]
    },
    {
     "name": "stdout",
     "output_type": "stream",
     "text": [
      "[CV, bracket=0] validation score of 0.2204 received after 1 partial_fit calls\n"
     ]
    },
    {
     "name": "stderr",
     "output_type": "stream",
     "text": [
      "INFO:dask_ml.model_selection:[CV, bracket=0] validation score of 0.2204 received after 1 partial_fit calls\n"
     ]
    },
    {
     "name": "stdout",
     "output_type": "stream",
     "text": [
      "[CV, bracket=1] validation score of 0.5172 received after 1 partial_fit calls\n"
     ]
    },
    {
     "name": "stderr",
     "output_type": "stream",
     "text": [
      "INFO:dask_ml.model_selection:[CV, bracket=1] validation score of 0.5172 received after 1 partial_fit calls\n"
     ]
    },
    {
     "name": "stdout",
     "output_type": "stream",
     "text": [
      "[CV, bracket=0] validation score of 0.4935 received after 3 partial_fit calls\n"
     ]
    },
    {
     "name": "stderr",
     "output_type": "stream",
     "text": [
      "INFO:dask_ml.model_selection:[CV, bracket=0] validation score of 0.4935 received after 3 partial_fit calls\n"
     ]
    },
    {
     "name": "stdout",
     "output_type": "stream",
     "text": [
      "[CV, bracket=1] validation score of 0.5267 received after 2 partial_fit calls\n"
     ]
    },
    {
     "name": "stderr",
     "output_type": "stream",
     "text": [
      "INFO:dask_ml.model_selection:[CV, bracket=1] validation score of 0.5267 received after 2 partial_fit calls\n"
     ]
    },
    {
     "name": "stdout",
     "output_type": "stream",
     "text": [
      "[CV, bracket=1] validation score of 0.5241 received after 4 partial_fit calls\n"
     ]
    },
    {
     "name": "stderr",
     "output_type": "stream",
     "text": [
      "INFO:dask_ml.model_selection:[CV, bracket=1] validation score of 0.5241 received after 4 partial_fit calls\n",
      "INFO:dask_ml.model_selection:[CV, bracket=0] validation score of 0.5184 received after 5 partial_fit calls\n",
      "INFO:dask_ml.model_selection:[CV, bracket=0] validation score of 0.5347 received after 7 partial_fit calls\n",
      "INFO:dask_ml.model_selection:[CV, bracket=0] validation score of 0.5294 received after 8 partial_fit calls\n"
     ]
    },
    {
     "data": {
      "text/plain": [
       "HyperbandSearchCV(aggressiveness=4, estimator=SGDRegressor(), max_iter=8,\n",
       "                  parameters={'alpha': <scipy.stats._distn_infrastructure.rv_frozen object at 0x141b04760>,\n",
       "                              'average': [True, False],\n",
       "                              'epsilon': <scipy.stats._distn_infrastructure.rv_frozen object at 0x141c461f0>,\n",
       "                              'eta0': array([1.00000000e-06, 1.00693863e-06, 1.01392541e-06, 1.02096066e-06,\n",
       "       1.02804473e-06, 1.03517...\n",
       "                              'l1_ratio': <scipy.stats._distn_infrastructure.rv_frozen object at 0x140fb8910>,\n",
       "                              'learning_rate': ['invscaling', 'adaptive',\n",
       "                                                'optimal'],\n",
       "                              'loss': ['squared_loss', 'huber',\n",
       "                                       'epsilon_insensitive',\n",
       "                                       'squared_epsilon_insensitive'],\n",
       "                              'penalty': ['l2', 'l1', 'elasticnet'],\n",
       "                              'power_t': <scipy.stats._distn_infrastructure.rv_frozen object at 0x144d0c130>},\n",
       "                  patience=True, random_state=32, verbose=True)"
      ]
     },
     "execution_count": 346,
     "metadata": {},
     "output_type": "execute_result"
    }
   ],
   "source": [
    "np.random.seed(seed = 101) \n",
    "\n",
    "rsnn.fit(X_train_fs,y_train)"
   ]
  },
  {
   "cell_type": "code",
   "execution_count": 347,
   "id": "important-consultancy",
   "metadata": {},
   "outputs": [
    {
     "name": "stdout",
     "output_type": "stream",
     "text": [
      "{'alpha': 0.027261959556018345, 'average': False, 'epsilon': 0.0004832278256276128, 'eta0': 0.0007531420165974368, 'l1_ratio': 0.9556565489917677, 'learning_rate': 'invscaling', 'loss': 'squared_epsilon_insensitive', 'penalty': 'elasticnet', 'power_t': 0.35360111371492264}\n"
     ]
    }
   ],
   "source": [
    "print ( rsnn.best_params_ )"
   ]
  },
  {
   "cell_type": "code",
   "execution_count": 348,
   "id": "protecting-davis",
   "metadata": {},
   "outputs": [],
   "source": [
    "classifier = rsnn.best_estimator_"
   ]
  },
  {
   "cell_type": "code",
   "execution_count": 349,
   "id": "approved-fishing",
   "metadata": {},
   "outputs": [],
   "source": [
    "# y_pred= classifier.predict(X_val_u_fs)"
   ]
  },
  {
   "cell_type": "code",
   "execution_count": 350,
   "id": "color-carroll",
   "metadata": {},
   "outputs": [],
   "source": [
    "# regression_report( y_true=y_val_u ,y_pred= y_pred, name=\"SGD_val\")"
   ]
  },
  {
   "cell_type": "code",
   "execution_count": 351,
   "id": "outstanding-imaging",
   "metadata": {},
   "outputs": [],
   "source": [
    "y_pred= classifier.predict(X_test_u_fs)"
   ]
  },
  {
   "cell_type": "code",
   "execution_count": 352,
   "id": "egyptian-resident",
   "metadata": {},
   "outputs": [
    {
     "name": "stdout",
     "output_type": "stream",
     "text": [
      "R^2: -11.396547328513135\n",
      "MAE: 0.2238131639239742\n",
      "MSE: 0.16426726474382902\n"
     ]
    }
   ],
   "source": [
    "regression_report( y_true=y_test_u ,y_pred= y_pred, name=\"SGD_test\")"
   ]
  },
  {
   "cell_type": "code",
   "execution_count": null,
   "id": "cubic-browse",
   "metadata": {},
   "outputs": [],
   "source": []
  },
  {
   "cell_type": "code",
   "execution_count": 353,
   "id": "comic-halloween",
   "metadata": {},
   "outputs": [],
   "source": [
    "xgb = XGBRegressor(objective='reg:squaredlogerror',learning_rate=0.003947368421052632, eval_metric=\"rmse\")"
   ]
  },
  {
   "cell_type": "code",
   "execution_count": null,
   "id": "infectious-blackjack",
   "metadata": {},
   "outputs": [],
   "source": []
  },
  {
   "cell_type": "code",
   "execution_count": 354,
   "id": "successful-fleece",
   "metadata": {},
   "outputs": [],
   "source": [
    "# params = { \n",
    "# \"learning_rate\" :[0.0001, 0.001, 0.01, 0.1], \n",
    "#  \"n_estimators\":np.linspace(start = 100, stop = 1000, num = 5),\n",
    "# #  \"max_depth\":np.linspace(1, 11, num = 10),\n",
    "# #  \"min_child_weight\": np.linspace(1, 11, num = 10),\n",
    "# #  \"gamma\":[0,2,4,6,8],\n",
    "# #  \"subsample\":np.linspace(0,1,num=10),\n",
    "# #  \"colsample_bytree\":np.linspace(0,1,num=10),\n",
    "#  \"objective\": ['binary:logistic','binary:logitraw','binary:hinge']\n",
    "# }\n"
   ]
  },
  {
   "cell_type": "code",
   "execution_count": 355,
   "id": "potential-young",
   "metadata": {},
   "outputs": [],
   "source": [
    "# label_encoded_y = LabelEncoder().fit_transform(y_train)\n"
   ]
  },
  {
   "cell_type": "code",
   "execution_count": 356,
   "id": "rapid-underwear",
   "metadata": {},
   "outputs": [],
   "source": [
    "# rsnn.metadata[\"partial_fit_calls\"]"
   ]
  },
  {
   "cell_type": "code",
   "execution_count": 357,
   "id": "preceding-strand",
   "metadata": {},
   "outputs": [
    {
     "data": {
      "text/plain": [
       "XGBRegressor(base_score=0.5, booster='gbtree', colsample_bylevel=1,\n",
       "             colsample_bynode=1, colsample_bytree=1, eval_metric='rmse',\n",
       "             gamma=0, gpu_id=-1, importance_type='gain',\n",
       "             interaction_constraints='', learning_rate=0.003947368421052632,\n",
       "             max_delta_step=0, max_depth=6, min_child_weight=1, missing=nan,\n",
       "             monotone_constraints='()', n_estimators=100, n_jobs=4,\n",
       "             num_parallel_tree=1, objective='reg:squaredlogerror',\n",
       "             random_state=0, reg_alpha=0, reg_lambda=1, scale_pos_weight=1,\n",
       "             subsample=1, tree_method='approx', validate_parameters=1,\n",
       "             verbosity=None)"
      ]
     },
     "execution_count": 357,
     "metadata": {},
     "output_type": "execute_result"
    }
   ],
   "source": [
    "np.random.seed(seed = 101) \n",
    "xgb.fit(X_train_fs,y_train)\n",
    "# rsnn.fit(X_train_fs,y_train,classes=[True,False])\n",
    "# random_S.fit(X_train_fs.compute(),y_train.compute())"
   ]
  },
  {
   "cell_type": "code",
   "execution_count": 358,
   "id": "color-determination",
   "metadata": {},
   "outputs": [],
   "source": [
    "y_pred= xgb.predict(X_test_u_fs.to_dask_array())"
   ]
  },
  {
   "cell_type": "code",
   "execution_count": 359,
   "id": "metallic-opportunity",
   "metadata": {},
   "outputs": [
    {
     "name": "stdout",
     "output_type": "stream",
     "text": [
      "R^2: -0.30209522469219663\n",
      "MAE: 0.10714956609867743\n",
      "MSE: 0.017254128534984845\n"
     ]
    }
   ],
   "source": [
    "regression_report( y_true=y_test_u ,y_pred= y_pred.compute(),name=\"xgb_test\")"
   ]
  },
  {
   "cell_type": "code",
   "execution_count": 360,
   "id": "deadly-colombia",
   "metadata": {},
   "outputs": [],
   "source": [
    "import matplotlib.pyplot as plt"
   ]
  },
  {
   "cell_type": "code",
   "execution_count": 361,
   "id": "described-telling",
   "metadata": {},
   "outputs": [
    {
     "data": {
      "image/png": "[encoded data removed]",
      "text/plain": [
       "<Figure size 432x288 with 1 Axes>"
      ]
     },
     "metadata": {
      "needs_background": "light"
     },
     "output_type": "display_data"
    }
   ],
   "source": [
    "error = y_pred - y_test_u\n",
    "plt.hist(error, bins = 100)\n",
    "plt.xlabel(\"Prediction Error [MAE]\")\n",
    "_ = plt.ylabel(\"Count\")\n",
    "#     plt.savefig(\"../figures/basemodel_error_bin_%s.png\"%(name),format=\"png\")\n",
    "    "
   ]
  },
  {
   "cell_type": "code",
   "execution_count": 362,
   "id": "paperback-perception",
   "metadata": {},
   "outputs": [
    {
     "data": {
      "image/png": "[encoded data removed]",
      "text/plain": [
       "<Figure size 432x288 with 1 Axes>"
      ]
     },
     "metadata": {
      "needs_background": "light"
     },
     "output_type": "display_data"
    }
   ],
   "source": [
    "plt.scatter(y_test_u.compute(), y_pred.compute(),alpha=0.3,s=.5)\n",
    "plt.xlabel('True Values [MAE]')\n",
    "plt.ylabel('Predictions [MAE]')\n",
    "plt.axis('equal')\n",
    "plt.axis('square')\n",
    "plt.xlim([0,plt.xlim()[1]])\n",
    "plt.ylim([0,plt.ylim()[1]])\n",
    "_ = plt.plot([-100, 100], [-100, 100])\n",
    "#     plt.savefig(\"MAE_base_model_%s.png\"%(key),format=\"png\")"
   ]
  },
  {
   "cell_type": "code",
   "execution_count": 363,
   "id": "likely-language",
   "metadata": {},
   "outputs": [],
   "source": [
    "# y_pred= xgb.predict(X_val_u_fs.to_dask_array())"
   ]
  },
  {
   "cell_type": "code",
   "execution_count": 364,
   "id": "induced-guess",
   "metadata": {},
   "outputs": [],
   "source": [
    "# regression_report( y_true=y_val_u ,y_pred= y_pred.compute(),name=\"xgb_val\")"
   ]
  },
  {
   "cell_type": "code",
   "execution_count": 365,
   "id": "special-wound",
   "metadata": {},
   "outputs": [],
   "source": [
    "to_plot = y_train.compute()"
   ]
  },
  {
   "cell_type": "code",
   "execution_count": 366,
   "id": "computational-brisbane",
   "metadata": {},
   "outputs": [
    {
     "data": {
      "text/plain": [
       "<matplotlib.collections.PathCollection at 0x14f1a6b20>"
      ]
     },
     "execution_count": 366,
     "metadata": {},
     "output_type": "execute_result"
    },
    {
     "data": {
      "image/png": "[encoded data removed]",
      "text/plain": [
       "<Figure size 432x288 with 1 Axes>"
      ]
     },
     "metadata": {
      "needs_background": "light"
     },
     "output_type": "display_data"
    }
   ],
   "source": [
    "plt.scatter(range(len(to_plot[to_plot > 0.1 ])),to_plot[to_plot > 0.1 ],alpha=0.3,s=.5)"
   ]
  },
  {
   "cell_type": "code",
   "execution_count": 367,
   "id": "explicit-garden",
   "metadata": {},
   "outputs": [
    {
     "data": {
      "text/plain": [
       "(34580,)"
      ]
     },
     "execution_count": 367,
     "metadata": {},
     "output_type": "execute_result"
    }
   ],
   "source": [
    "to_plot[to_plot < 0.1 ].shape"
   ]
  },
  {
   "cell_type": "code",
   "execution_count": 368,
   "id": "pregnant-trademark",
   "metadata": {},
   "outputs": [
    {
     "data": {
      "text/plain": [
       "(41818,)"
      ]
     },
     "execution_count": 368,
     "metadata": {},
     "output_type": "execute_result"
    }
   ],
   "source": [
    "to_plot[to_plot > 0.1 ].shape"
   ]
  },
  {
   "cell_type": "code",
   "execution_count": 369,
   "id": "timely-chapter",
   "metadata": {},
   "outputs": [],
   "source": [
    "params = {\n",
    "  'colsample_bynode': 0.8,\n",
    "  'learning_rate': 1,\n",
    "  'max_depth': 5,\n",
    "  'num_parallel_tree': 100,\n",
    "  'objective': 'binary:logistic',\n",
    "  'subsample': 0.8,\n",
    "  'tree_method': 'gpu_hist'\n",
    "}"
   ]
  },
  {
   "cell_type": "code",
   "execution_count": 370,
   "id": "dimensional-munich",
   "metadata": {},
   "outputs": [],
   "source": [
    "xgb = XGBRegressor(\n",
    "   colsample_bynode= 0.8,\n",
    "  learning_rate= 1,\n",
    "  max_depth= 5,\n",
    "  num_parallel_tree= 100,\n",
    "  objective= 'binary:logistic',\n",
    "  subsample= 0.8,\n",
    "  tree_method= 'hist'   \n",
    "    \n",
    ")"
   ]
  },
  {
   "cell_type": "code",
   "execution_count": 371,
   "id": "processed-password",
   "metadata": {},
   "outputs": [
    {
     "data": {
      "text/plain": [
       "XGBRegressor(base_score=0.5, booster='gbtree', colsample_bylevel=1,\n",
       "             colsample_bynode=0.8, colsample_bytree=1, gamma=0, gpu_id=-1,\n",
       "             importance_type='gain', interaction_constraints='',\n",
       "             learning_rate=1, max_delta_step=0, max_depth=5, min_child_weight=1,\n",
       "             missing=nan, monotone_constraints='()', n_estimators=100, n_jobs=4,\n",
       "             num_parallel_tree=100, objective='binary:logistic', random_state=0,\n",
       "             reg_alpha=0, reg_lambda=1, scale_pos_weight=1, subsample=0.8,\n",
       "             tree_method='hist', validate_parameters=1, verbosity=None)"
      ]
     },
     "execution_count": 371,
     "metadata": {},
     "output_type": "execute_result"
    }
   ],
   "source": [
    "np.random.seed(seed = 101) \n",
    "xgb.fit(X_train_fs,y_train)"
   ]
  },
  {
   "cell_type": "code",
   "execution_count": 372,
   "id": "russian-beatles",
   "metadata": {},
   "outputs": [
    {
     "name": "stdout",
     "output_type": "stream",
     "text": [
      "R^2: -0.30209522469219663\n",
      "MAE: 0.10714956609867743\n",
      "MSE: 0.017254128534984845\n"
     ]
    }
   ],
   "source": [
    "regression_report( y_true=y_test_u ,y_pred= y_pred.compute(),name=\"xgb_test\")"
   ]
  },
  {
   "cell_type": "code",
   "execution_count": 381,
   "id": "annual-highway",
   "metadata": {},
   "outputs": [
    {
     "data": {
      "image/png": "[encoded data removed]",
      "text/plain": [
       "<Figure size 432x288 with 1 Axes>"
      ]
     },
     "metadata": {
      "needs_background": "light"
     },
     "output_type": "display_data"
    }
   ],
   "source": [
    "error = y_pred - y_test_u\n",
    "plt.hist(error, bins = 100)\n",
    "plt.grid(True)\n",
    "plt.xlabel(\"Prediction Error [MAE]\")\n",
    "_ = plt.ylabel(\"Count\")\n",
    "plt.savefig(\"../figures/xgboost_fs_MAE_error_bin.png\",format=\"png\")\n",
    "    "
   ]
  },
  {
   "cell_type": "code",
   "execution_count": 382,
   "id": "cleared-worcester",
   "metadata": {},
   "outputs": [
    {
     "data": {
      "image/png": "[encoded data removed]",
      "text/plain": [
       "<Figure size 432x288 with 1 Axes>"
      ]
     },
     "metadata": {
      "needs_background": "light"
     },
     "output_type": "display_data"
    }
   ],
   "source": [
    "plt.scatter(y_test_u.compute(), y_pred.compute(),alpha=0.3,s=.5)\n",
    "plt.xlabel('True Values [MAE]')\n",
    "plt.ylabel('Predictions [MAE]')\n",
    "plt.grid(True)\n",
    "plt.axis('equal')\n",
    "plt.axis('square')\n",
    "plt.xlim([0,plt.xlim()[1]])\n",
    "plt.ylim([0,plt.ylim()[1]])\n",
    "_ = plt.plot([-100, 100], [-100, 100])\n",
    "plt.savefig(\"../figures/xgboost_fs_scatter_plot_MAE.png\",format=\"png\")"
   ]
  },
  {
   "cell_type": "code",
   "execution_count": null,
   "id": "dedicated-carolina",
   "metadata": {},
   "outputs": [],
   "source": []
  },
  {
   "cell_type": "code",
   "execution_count": null,
   "id": "incomplete-justice",
   "metadata": {},
   "outputs": [],
   "source": []
  }
 ],
 "metadata": {
  "kernelspec": {
   "display_name": "Python 3",
   "language": "python",
   "name": "python3"
  },
  "language_info": {
   "codemirror_mode": {
    "name": "ipython",
    "version": 3
   },
   "file_extension": ".py",
   "mimetype": "text/x-python",
   "name": "python",
   "nbconvert_exporter": "python",
   "pygments_lexer": "ipython3",
   "version": "3.7.9"
  }
 },
 "nbformat": 4,
 "nbformat_minor": 5
}
