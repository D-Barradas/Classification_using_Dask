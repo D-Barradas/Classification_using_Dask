{
 "cells": [
  {
   "cell_type": "code",
   "execution_count": 1,
   "id": "representative-basics",
   "metadata": {},
   "outputs": [],
   "source": [
    "import pickle\n",
    "import pandas as pd \n",
    "import dask\n",
    "import dask.dataframe as dd\n",
    "from dask.distributed import Client"
   ]
  },
  {
   "cell_type": "code",
   "execution_count": 2,
   "id": "increasing-probability",
   "metadata": {},
   "outputs": [],
   "source": [
    "client = Client(processes=False, threads_per_worker=4,\n",
    "                n_workers=1, memory_limit='16GB')"
   ]
  },
  {
   "cell_type": "code",
   "execution_count": 3,
   "id": "inner-occurrence",
   "metadata": {},
   "outputs": [
    {
     "data": {
      "text/html": [
       "<table style=\"border: 2px solid white;\">\n",
       "<tr>\n",
       "<td style=\"vertical-align: top; border: 0px solid white\">\n",
       "<h3 style=\"text-align: left;\">Client</h3>\n",
       "<ul style=\"text-align: left; list-style: none; margin: 0; padding: 0;\">\n",
       "  <li><b>Scheduler: </b>inproc://10.228.0.65/3433/1</li>\n",
       "  <li><b>Dashboard: </b><a href='http://10.228.0.65:8787/status' target='_blank'>http://10.228.0.65:8787/status</a></li>\n",
       "</ul>\n",
       "</td>\n",
       "<td style=\"vertical-align: top; border: 0px solid white\">\n",
       "<h3 style=\"text-align: left;\">Cluster</h3>\n",
       "<ul style=\"text-align: left; list-style:none; margin: 0; padding: 0;\">\n",
       "  <li><b>Workers: </b>1</li>\n",
       "  <li><b>Cores: </b>4</li>\n",
       "  <li><b>Memory: </b>16.00 GB</li>\n",
       "</ul>\n",
       "</td>\n",
       "</tr>\n",
       "</table>"
      ],
      "text/plain": [
       "<Client: 'inproc://10.228.0.65/3433/1' processes=1 threads=4, memory=16.00 GB>"
      ]
     },
     "execution_count": 3,
     "metadata": {},
     "output_type": "execute_result"
    }
   ],
   "source": [
    "client"
   ]
  },
  {
   "cell_type": "code",
   "execution_count": 4,
   "id": "otherwise-suspect",
   "metadata": {},
   "outputs": [
    {
     "name": "stdout",
     "output_type": "stream",
     "text": [
      "pickle version 4.0\n",
      "Dask version 2.20.0\n",
      "Pandas version 1.0.5\n"
     ]
    }
   ],
   "source": [
    "print (f'pickle version {pickle.format_version}')\n",
    "print (f'Dask version {dask.__version__}')\n",
    "print (f'Pandas version {pd.__version__}')"
   ]
  },
  {
   "cell_type": "code",
   "execution_count": 5,
   "id": "molecular-intermediate",
   "metadata": {},
   "outputs": [],
   "source": [
    "loaded_model = pickle.load(open(\"XgbClassBM4.pickle.dat\", \"rb\"))\n",
    "\n",
    "loaded_scaler = pickle.load(open (\"ScalerBM4.pickle.dat\" , \"rb\"))"
   ]
  },
  {
   "cell_type": "code",
   "execution_count": 6,
   "id": "analyzed-shelter",
   "metadata": {},
   "outputs": [
    {
     "data": {
      "text/plain": [
       "XGBClassifier(base_score=0.5, booster='gbtree', colsample_bylevel=1,\n",
       "              colsample_bynode=1, colsample_bytree=1, gamma=0, gpu_id=-1,\n",
       "              importance_type='gain', interaction_constraints='',\n",
       "              learning_rate=0.300000012, max_delta_step=0, max_depth=6,\n",
       "              min_child_weight=1, missing=nan, monotone_constraints='()',\n",
       "              n_estimators=100, n_jobs=4, num_parallel_tree=1,\n",
       "              objective='binary:logitraw', random_state=0, reg_alpha=0,\n",
       "              reg_lambda=1, scale_pos_weight=1, subsample=1,\n",
       "              tree_method='approx', validate_parameters=1, verbosity=None)"
      ]
     },
     "execution_count": 6,
     "metadata": {},
     "output_type": "execute_result"
    }
   ],
   "source": [
    "loaded_model"
   ]
  },
  {
   "cell_type": "code",
   "execution_count": 7,
   "id": "united-phrase",
   "metadata": {},
   "outputs": [],
   "source": [
    "def scaling_data_selected(X_test):\n",
    "\n",
    "    selected_feat = ['AP_DFIRE2','AP_PISA','AP_T1','AP_T2','CP_MJ3h','SIPPER','ELE','VDW','PYDOCK_TOT','AP_dDFIRE']\n",
    "    X_test = X_test[selected_feat]\n",
    "    scaled_test = loaded_scaler.transform(X_test)\n",
    "\n",
    "    return scaled_test"
   ]
  },
  {
   "cell_type": "code",
   "execution_count": 37,
   "id": "absolute-budapest",
   "metadata": {},
   "outputs": [],
   "source": [
    "def load_data(path_to_data):\n",
    "    \"\"\" here the data as csv file needs as Conformation (\"Conf\") column as index , to idenfy the decoy \"\"\"\n",
    "    try : \n",
    "            data = dd.read_csv(path_to_data)\n",
    "            data = data.dropna()\n",
    "            data = data.set_index('Conf')\n",
    "#             print (len(data))\n",
    "\n",
    "            return data\n",
    "\n",
    "    except:\n",
    "        print (\"no data found\")\n",
    "\n",
    "        raise SystemExit()"
   ]
  },
  {
   "cell_type": "code",
   "execution_count": 38,
   "id": "further-contrast",
   "metadata": {},
   "outputs": [],
   "source": [
    "X_test = load_data(\"../data/Clean_dataframe_unbalanced_scorers_set.csv\")"
   ]
  },
  {
   "cell_type": "code",
   "execution_count": 19,
   "id": "comfortable-hepatitis",
   "metadata": {},
   "outputs": [],
   "source": [
    "X_test_scaled = scaling_data_selected(X_test)"
   ]
  },
  {
   "cell_type": "code",
   "execution_count": 30,
   "id": "political-south",
   "metadata": {},
   "outputs": [],
   "source": [
    "my_index = X_test_scaled.index.compute()"
   ]
  },
  {
   "cell_type": "code",
   "execution_count": 21,
   "id": "creative-mortality",
   "metadata": {},
   "outputs": [],
   "source": [
    "prediction  = loaded_model.predict(X_test_scaled.to_dask_array())"
   ]
  },
  {
   "cell_type": "code",
   "execution_count": 22,
   "id": "sudden-princeton",
   "metadata": {},
   "outputs": [],
   "source": [
    "# prediction.compute()"
   ]
  },
  {
   "cell_type": "code",
   "execution_count": 23,
   "id": "determined-customs",
   "metadata": {},
   "outputs": [],
   "source": [
    "prediction_prob  = loaded_model.predict_proba (X_test_scaled.to_dask_array())"
   ]
  },
  {
   "cell_type": "code",
   "execution_count": 24,
   "id": "dynamic-malpractice",
   "metadata": {},
   "outputs": [],
   "source": [
    "# prediction_prob.compute()"
   ]
  },
  {
   "cell_type": "code",
   "execution_count": 26,
   "id": "amino-courage",
   "metadata": {},
   "outputs": [],
   "source": [
    "pred_results = [] \n",
    "for x,y in zip(prediction.compute(), prediction_prob.compute() ):\n",
    "    pred_results.append((x,y))\n",
    "#     print (f\"{x} {y}\")\n"
   ]
  },
  {
   "cell_type": "code",
   "execution_count": 31,
   "id": "confused-occasions",
   "metadata": {},
   "outputs": [
    {
     "data": {
      "text/html": [
       "<div>\n",
       "<style scoped>\n",
       "    .dataframe tbody tr th:only-of-type {\n",
       "        vertical-align: middle;\n",
       "    }\n",
       "\n",
       "    .dataframe tbody tr th {\n",
       "        vertical-align: top;\n",
       "    }\n",
       "\n",
       "    .dataframe thead th {\n",
       "        text-align: right;\n",
       "    }\n",
       "</style>\n",
       "<table border=\"1\" class=\"dataframe\">\n",
       "  <thead>\n",
       "    <tr style=\"text-align: right;\">\n",
       "      <th></th>\n",
       "      <th>Class</th>\n",
       "      <th>Prob</th>\n",
       "    </tr>\n",
       "    <tr>\n",
       "      <th>Conf</th>\n",
       "      <th></th>\n",
       "      <th></th>\n",
       "    </tr>\n",
       "  </thead>\n",
       "  <tbody>\n",
       "    <tr>\n",
       "      <th>r_model-1000.pdb</th>\n",
       "      <td>0</td>\n",
       "      <td>-3.451228</td>\n",
       "    </tr>\n",
       "    <tr>\n",
       "      <th>r_model-1000.pdb</th>\n",
       "      <td>1</td>\n",
       "      <td>5.544319</td>\n",
       "    </tr>\n",
       "    <tr>\n",
       "      <th>r_model-1000.pdb</th>\n",
       "      <td>1</td>\n",
       "      <td>1.310003</td>\n",
       "    </tr>\n",
       "    <tr>\n",
       "      <th>r_model-1000.pdb</th>\n",
       "      <td>0</td>\n",
       "      <td>-1.055623</td>\n",
       "    </tr>\n",
       "    <tr>\n",
       "      <th>r_model-1000.pdb</th>\n",
       "      <td>0</td>\n",
       "      <td>-2.638464</td>\n",
       "    </tr>\n",
       "    <tr>\n",
       "      <th>...</th>\n",
       "      <td>...</td>\n",
       "      <td>...</td>\n",
       "    </tr>\n",
       "    <tr>\n",
       "      <th>r_model-3182.pdb</th>\n",
       "      <td>0</td>\n",
       "      <td>-2.539602</td>\n",
       "    </tr>\n",
       "    <tr>\n",
       "      <th>r_model-3183.pdb</th>\n",
       "      <td>0</td>\n",
       "      <td>-2.813540</td>\n",
       "    </tr>\n",
       "    <tr>\n",
       "      <th>r_model-3184.pdb</th>\n",
       "      <td>0</td>\n",
       "      <td>-2.912664</td>\n",
       "    </tr>\n",
       "    <tr>\n",
       "      <th>r_model-3185.pdb</th>\n",
       "      <td>0</td>\n",
       "      <td>-1.840011</td>\n",
       "    </tr>\n",
       "    <tr>\n",
       "      <th>r_model-3186.pdb</th>\n",
       "      <td>1</td>\n",
       "      <td>3.136492</td>\n",
       "    </tr>\n",
       "  </tbody>\n",
       "</table>\n",
       "<p>18778 rows × 2 columns</p>\n",
       "</div>"
      ],
      "text/plain": [
       "                  Class      Prob\n",
       "Conf                             \n",
       "r_model-1000.pdb      0 -3.451228\n",
       "r_model-1000.pdb      1  5.544319\n",
       "r_model-1000.pdb      1  1.310003\n",
       "r_model-1000.pdb      0 -1.055623\n",
       "r_model-1000.pdb      0 -2.638464\n",
       "...                 ...       ...\n",
       "r_model-3182.pdb      0 -2.539602\n",
       "r_model-3183.pdb      0 -2.813540\n",
       "r_model-3184.pdb      0 -2.912664\n",
       "r_model-3185.pdb      0 -1.840011\n",
       "r_model-3186.pdb      1  3.136492\n",
       "\n",
       "[18778 rows x 2 columns]"
      ]
     },
     "execution_count": 31,
     "metadata": {},
     "output_type": "execute_result"
    }
   ],
   "source": [
    "pd.DataFrame(pred_results, columns=[\"Class\",\"Prob\"],index=my_index)"
   ]
  },
  {
   "cell_type": "code",
   "execution_count": null,
   "id": "lightweight-europe",
   "metadata": {},
   "outputs": [],
   "source": []
  }
 ],
 "metadata": {
  "kernelspec": {
   "display_name": "Python 3",
   "language": "python",
   "name": "python3"
  },
  "language_info": {
   "codemirror_mode": {
    "name": "ipython",
    "version": 3
   },
   "file_extension": ".py",
   "mimetype": "text/x-python",
   "name": "python",
   "nbconvert_exporter": "python",
   "pygments_lexer": "ipython3",
   "version": "3.8.8"
  }
 },
 "nbformat": 4,
 "nbformat_minor": 5
}
