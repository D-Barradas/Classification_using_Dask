{
 "cells": [
  {
   "cell_type": "code",
   "execution_count": 1,
   "id": "detailed-vanilla",
   "metadata": {},
   "outputs": [],
   "source": [
    "import os , sys\n",
    "from dask import compute, persist\n",
    "from dask.distributed import Client, progress\n",
    "from dask.diagnostics import ProgressBar\n",
    "import dask.dataframe as dd\n",
    "from sklearn.neural_network import MLPRegressor\n",
    "from dask_ml.preprocessing import StandardScaler,LabelEncoder\n",
    "from dask_ml.model_selection import HyperbandSearchCV ,RandomizedSearchCV,KFold\n",
    "import numpy as np\n",
    "import pickle\n",
    "import dask.array as da\n",
    "from sklearn.metrics import classification_report,matthews_corrcoef\n",
    "from sklearn.linear_model import SGDRegressor\n",
    "from scipy.stats import uniform, loguniform \n",
    "from dask_ml.xgboost import XGBRegressor\n",
    "import pickle\n",
    "from sklearn.metrics import mean_absolute_error,mean_squared_error,r2_score,accuracy_score\n",
    "\n",
    "# import xgboost.XGBRFClassifier as xRFC"
   ]
  },
  {
   "cell_type": "code",
   "execution_count": 2,
   "id": "expensive-joyce",
   "metadata": {},
   "outputs": [
    {
     "name": "stdout",
     "output_type": "stream",
     "text": [
      "Dask version 2.20.0\n"
     ]
    }
   ],
   "source": [
    "import dask\n",
    "print (f'Dask version {dask.__version__}')"
   ]
  },
  {
   "cell_type": "code",
   "execution_count": 3,
   "id": "adopted-ranking",
   "metadata": {},
   "outputs": [],
   "source": [
    "client = Client(processes=False, threads_per_worker=4,\n",
    "                n_workers=1, memory_limit='16GB')"
   ]
  },
  {
   "cell_type": "code",
   "execution_count": 4,
   "id": "chief-population",
   "metadata": {},
   "outputs": [
    {
     "data": {
      "text/html": [
       "<table style=\"border: 2px solid white;\">\n",
       "<tr>\n",
       "<td style=\"vertical-align: top; border: 0px solid white\">\n",
       "<h3 style=\"text-align: left;\">Client</h3>\n",
       "<ul style=\"text-align: left; list-style: none; margin: 0; padding: 0;\">\n",
       "  <li><b>Scheduler: </b>inproc://10.228.0.65/35541/1</li>\n",
       "  <li><b>Dashboard: </b><a href='http://10.228.0.65:8787/status' target='_blank'>http://10.228.0.65:8787/status</a></li>\n",
       "</ul>\n",
       "</td>\n",
       "<td style=\"vertical-align: top; border: 0px solid white\">\n",
       "<h3 style=\"text-align: left;\">Cluster</h3>\n",
       "<ul style=\"text-align: left; list-style:none; margin: 0; padding: 0;\">\n",
       "  <li><b>Workers: </b>1</li>\n",
       "  <li><b>Cores: </b>4</li>\n",
       "  <li><b>Memory: </b>16.00 GB</li>\n",
       "</ul>\n",
       "</td>\n",
       "</tr>\n",
       "</table>"
      ],
      "text/plain": [
       "<Client: 'inproc://10.228.0.65/35541/1' processes=1 threads=4, memory=16.00 GB>"
      ]
     },
     "execution_count": 4,
     "metadata": {},
     "output_type": "execute_result"
    }
   ],
   "source": [
    "client"
   ]
  },
  {
   "cell_type": "code",
   "execution_count": 5,
   "id": "affiliated-flush",
   "metadata": {},
   "outputs": [],
   "source": [
    "PDB_BM5 = [\n",
    "'1EXB','1JTD','1M27','1RKE','2A1A','2GAF','2GTP','2VXT','2W9E',\n",
    "'2X9A','2YVJ','3A4S','3AAA','BAAD','3AAD','3BIW','3BX7',\n",
    "'3DAW','3EO1','3EOA','3F1P','3FN1','3G6D','3H11',\n",
    "'3H2V','3HI6','3HMX','3K75','3L5W','3L89','3LVK','3MXW',\n",
    "'BP57','CP57','3P57','3PC8','3R9A','3RVW','3S9D','3SZK',\n",
    "'3V6Z','3VLB','4DN4','4FQI','4FZA','4G6J','4G6M','4GAM',\n",
    "'4GXU','4H03','4HX3','4IZ7','4JCV','4LW4','4M76'\n",
    "]"
   ]
  },
  {
   "cell_type": "code",
   "execution_count": 149,
   "id": "double-accident",
   "metadata": {},
   "outputs": [],
   "source": [
    "def load_data_sets():\n",
    "    all_balanced_data = dd.read_csv(\"../data/Clean_dataframe_balanced_all_data_ccharppi_4_march_2020_complete.csv\")\n",
    "    all_balanced_data = all_balanced_data.drop(\"class_q\",axis=1)\n",
    "    all_balanced_data = all_balanced_data.set_index('Conf')\n",
    "    \n",
    "#     print (all_balanced_data.shape)\n",
    "#     all_balanced_data.loc[\"Z_1JTG_1136_M.pdb\",\"DDG_V\"]  = all_balanced_data[\"DDG_V\"].mean()\n",
    "    \n",
    "    all_unbalanced_data = dd.read_csv(\"../data/Clean_dataframe_unbalanced_all_data_ccharppi_4_march_2020_complete.csv\",dtype={'class_q': 'object'})\n",
    "    all_unbalanced_data = all_unbalanced_data.drop(\"class_q\",axis=1)\n",
    "    all_unbalanced_data = all_unbalanced_data.set_index('Conf')\n",
    "#     all_unbalanced_data.loc[\"Z_1JTG_1136_M.pdb\",\"DDG_V\"]  = all_balanced_data[\"DDG_V\"].mean()\n",
    "\n",
    "\n",
    "    Scorers_balanced_data = dd.read_csv(\"../data/Clean_dataframe_balanced_scorers_set_march_22_2021.csv\")\n",
    "    Scorers_balanced_data = Scorers_balanced_data.set_index('Conf')\n",
    "    Scorers_balanced_data = Scorers_balanced_data.dropna()\n",
    "\n",
    "    Scorers_unbalanced_data = dd.read_csv(\"../data/Clean_dataframe_unbalanced_scorers_set_march_22_2021.csv\")\n",
    "    Scorers_unbalanced_data = Scorers_unbalanced_data.set_index('Conf')\n",
    "    Scorers_unbalanced_data = Scorers_unbalanced_data.dropna()\n",
    "\n",
    "    X_train = all_balanced_data[~all_balanced_data[\"idx\"].isin(PDB_BM5) ]\n",
    "    y_train = all_balanced_data[~all_balanced_data[\"idx\"].isin(PDB_BM5) ][\"DQ_val\"]\n",
    "\n",
    "#     y_train = all_balanced_data[~all_balanced_data[\"idx\"].isin(PDB_BM5) ][\"label_binary\"].astype('bool')\n",
    "\n",
    "            ## data set for less than 5 \n",
    "    X_val = all_balanced_data[all_balanced_data[\"idx\"].isin(PDB_BM5) ]\n",
    "    y_val = all_balanced_data[all_balanced_data[\"idx\"].isin(PDB_BM5) ][\"DQ_val\"]\n",
    "\n",
    "#     y_val = all_balanced_data[all_balanced_data[\"idx\"].isin(PDB_BM5) ][\"label_binary\"].astype('bool')\n",
    "    #         print (X_test.size,y_test.size)\n",
    "            ## data set for less than 5 \n",
    "    X_val_u = all_unbalanced_data[all_unbalanced_data[\"idx\"].isin(PDB_BM5) ]\n",
    "    y_val_u = all_unbalanced_data[all_unbalanced_data[\"idx\"].isin(PDB_BM5) ][\"DQ_val\"]\n",
    "#     y_val_u = all_unbalanced_data[all_unbalanced_data[\"idx\"].isin(PDB_BM5) ][\"label_binary\"].astype('bool')\n",
    "\n",
    "    \n",
    "    X_test = Scorers_balanced_data\n",
    "    y_test = Scorers_balanced_data[\"binary_label\"].astype('bool')\n",
    "    \n",
    "    X_test_u = Scorers_unbalanced_data\n",
    "    y_test_u = Scorers_unbalanced_data[\"DQ_val\"]\n",
    "#     y_test_u = Scorers_unbalanced_data[\"binary_label\"].astype('bool')\n",
    "\n",
    "    \n",
    "    X_test_u = X_test_u.rename(columns={'NIS Polar' :'Nis_Polar',\n",
    "                                  'Nis Apolar':'Nis_Apolar',\n",
    "                                  'BSA Apolar':'BSA_Apolar',\n",
    "                                  'BSA Polar' :'BSA_Polar',\n",
    "                                'binary_label':'label_binary'\n",
    "                            })\n",
    "    X_test= X_test.rename(columns={'NIS Polar' :'Nis_Polar',\n",
    "                                  'Nis Apolar':'Nis_Apolar',\n",
    "                                  'BSA Apolar':'BSA_Apolar',\n",
    "                                  'BSA Polar' :'BSA_Polar',\n",
    "                                   'binary_label':'label_binary'\n",
    "                          })\n",
    "    \n",
    "#     for x in X_val_u.columns:\n",
    "#         if x not in X_test.columns:\n",
    "#             print (x)\n",
    "    return X_train, y_train , X_val, y_val, X_test, y_test ,X_val_u, y_val_u, X_test_u, y_test_u "
   ]
  },
  {
   "cell_type": "code",
   "execution_count": 150,
   "id": "raised-pantyhose",
   "metadata": {},
   "outputs": [],
   "source": [
    "def scaling_data_selected(X_train,X_test,X_test_unbalanced):\n",
    "#     scaler = MinMaxScaler()\n",
    "    scaler = StandardScaler()\n",
    "#     selected_feat = ['AP_DFIRE2','AP_PISA','AP_T1','AP_T2','CP_MJ3h','SIPPER','ELE','VDW','PYDOCK_TOT','AP_dDFIRE']\n",
    "\n",
    "    selected_feat = ['CONSRANK_val','AP_DFIRE2','num_of_contacs','AP_calRWp','AP_GEOMETRIC',\n",
    "                     'CP_ELOCAL_CB','ELE','NSC','CP_E3D_CB','CP_RMFCA',\n",
    "                     'ALIPH','PP','ZRANK','BSA_Apolar','BSA_Polar','AP_PISA','cips_CC']\n",
    "#     selected_feat = ['CONSRANK_val','AP_GOAP_DF','CP_TD','CP_D1','CP_HLPL',\n",
    "#                       'DDG_V','CP_MJ3h','PYDOCK_TOT','ELE','CP_SKOIP',\n",
    "#                       'SIPPER','AP_DFIRE2','AP_dDFIRE','AP_PISA','CP_RMFCA',\n",
    "# #                      'CP_TB','AP_DARS','CP_BT'\n",
    "#                      ]\n",
    "    \n",
    "#     selected_feat = ['CONSRANK_val','CP_HLPL','CP_MJ3h','DDG_V','CP_RMFCA','AP_GOAP_DF','CP_Qp','CP_TD','CP_SKOIP','CP_TB','CP_TSC','PYDOCK_TOT','SIPPER',\n",
    "# 'CP_BT','CP_MJ2h','AP_DFIRE2','CP_RMFCEN1','AP_DARS','AP_PISA','BSA_Apolar','CP_BFKV','AP_dDFIRE','CP_RMFCEN2','CP_ZS3DC_MIN',\n",
    "# 'AP_DDG_U','AP_DDG_W','cips_AlAr','CP_MJPL','CP_SKOb','CP_TEl','CP_TS','PROPNSTS','AP_MPS','CP_D1','FIREDOCK','AlAr','ArAr']\n",
    "\n",
    "    X_train = X_train[selected_feat]\n",
    "    X_test = X_test[selected_feat]\n",
    "    X_test_unbalanced= X_test_unbalanced[selected_feat]\n",
    "\n",
    "\n",
    "    scaler.fit(X_train)\n",
    "    scaled_train = scaler.transform(X_train)\n",
    "    scaled_test = scaler.transform(X_test)\n",
    "    scaled_test_u = scaler.transform(X_test_unbalanced)\n",
    "#     pickle.dump(scaler, open(\"ScalerBM4_regression.pickle.dat\", \"wb\"))\n",
    "\n",
    "    return scaled_train,scaled_test,scaled_test_u"
   ]
  },
  {
   "cell_type": "code",
   "execution_count": 151,
   "id": "identified-console",
   "metadata": {},
   "outputs": [],
   "source": [
    "def scaling_data(X_train,X_test,X_test_unbalanced):\n",
    "#     scaler = MinMaxScaler()\n",
    "    features = ['idx','class_q','pdb1','chains_pdb1','pdb2','chains_pdb2',\n",
    "                'label_binary','DQ_val','binary_label','identification','labels']\n",
    "    scaler = StandardScaler()\n",
    "\n",
    "\n",
    "\n",
    "    for x in features :\n",
    "        if x in X_train.columns:\n",
    "            X_train= X_train.drop(x,axis=1)            \n",
    "    for x in features :\n",
    "        if x in X_test.columns: \n",
    "                X_test = X_test.drop(x,axis=1)\n",
    "            \n",
    "    for x in features :\n",
    "        if x in X_test_unbalanced.columns:\n",
    "            X_test_unbalanced= X_test_unbalanced.drop(x,axis=1)\n",
    "            \n",
    "        \n",
    "    print(X_train.shape)\n",
    "    print(X_test.shape)\n",
    "\n",
    "    scaler.fit(X_train)\n",
    "    scaled_train = scaler.transform(X_train)\n",
    "    scaled_test = scaler.transform(X_test[X_train.columns])\n",
    "    scaled_test_u = scaler.transform(X_test_unbalanced[X_train.columns])\n",
    "    return scaled_train,scaled_test,scaled_test_u"
   ]
  },
  {
   "cell_type": "code",
   "execution_count": 152,
   "id": "adjustable-nigeria",
   "metadata": {},
   "outputs": [],
   "source": [
    "def regression_report (y_true, y_pred ,name) :\n",
    "    \n",
    "\n",
    "    r=r2_score(y_true, y_pred)\n",
    "    mae=mean_absolute_error(y_true, y_pred)\n",
    "    mse=mean_squared_error(y_true, y_pred)\n",
    "    \n",
    "    print (\"R^2:\",r)\n",
    "    print (\"MAE:\",mae)\n",
    "    print (\"MSE:\",mse)\n",
    "    \n",
    "#     print (\"------------------------------------------\")\n",
    "#     my_results.append((name,r,mae,mse))\n",
    "    \n",
    "#     error = y_pred - y_true\n",
    "#     plt.hist(error, bins = 25)\n",
    "#     plt.xlabel(\"Prediction Error [MAE]\")\n",
    "#     _ = plt.ylabel(\"Count\")\n",
    "#     plt.savefig(\"../figures/basemodel_error_bin_%s.png\"%(name),format=\"png\")\n",
    "    \n",
    "\n",
    "#     plt.scatter(y_true, y_pred)\n",
    "#     plt.xlabel('True Values [MAE]')\n",
    "#     plt.ylabel('Predictions [MAE]')\n",
    "#     plt.axis('equal')\n",
    "#     plt.axis('square')\n",
    "#     plt.xlim([0,plt.xlim()[1]])\n",
    "#     plt.ylim([0,plt.ylim()[1]])\n",
    "#     _ = plt.plot([-100, 100], [-100, 100])\n",
    "#     plt.savefig(\"MAE_base_model_%s.png\"%(key),format=\"png\")"
   ]
  },
  {
   "cell_type": "code",
   "execution_count": 153,
   "id": "therapeutic-lloyd",
   "metadata": {},
   "outputs": [],
   "source": [
    "X_train, y_train , X_val, y_val, X_test, y_test ,X_val_u, y_val_u, X_test_u, y_test_u  = load_data_sets()"
   ]
  },
  {
   "cell_type": "code",
   "execution_count": 154,
   "id": "noted-module",
   "metadata": {},
   "outputs": [],
   "source": [
    "params = {\n",
    "    \"hidden_layer_sizes\": [\n",
    "\n",
    "        (24, ),\n",
    "        (12, 12),\n",
    "        (6, 6, 6, 6),\n",
    "        (4, 4, 4, 4, 4, 4),\n",
    "        (12, 6, 3, 3),\n",
    "    ],\n",
    "    \"activation\": [\"relu\", \"logistic\", \"tanh\"],\n",
    "    \"alpha\": np.logspace(-6, -3, num=1000),  # cnts\n",
    "    \"batch_size\": [16, 32, 64, 128, 256, 512],\n",
    "}\n"
   ]
  },
  {
   "cell_type": "code",
   "execution_count": 155,
   "id": "honest-generation",
   "metadata": {},
   "outputs": [],
   "source": [
    "estimator = MLPRegressor()"
   ]
  },
  {
   "cell_type": "code",
   "execution_count": 156,
   "id": "answering-crawford",
   "metadata": {},
   "outputs": [
    {
     "data": {
      "text/html": [
       "<div><strong>Dask DataFrame Structure:</strong></div>\n",
       "<div>\n",
       "<style scoped>\n",
       "    .dataframe tbody tr th:only-of-type {\n",
       "        vertical-align: middle;\n",
       "    }\n",
       "\n",
       "    .dataframe tbody tr th {\n",
       "        vertical-align: top;\n",
       "    }\n",
       "\n",
       "    .dataframe thead th {\n",
       "        text-align: right;\n",
       "    }\n",
       "</style>\n",
       "<table border=\"1\" class=\"dataframe\">\n",
       "  <thead>\n",
       "    <tr style=\"text-align: right;\">\n",
       "      <th></th>\n",
       "      <th>AA</th>\n",
       "      <th>AA_sqrt</th>\n",
       "      <th>AAl</th>\n",
       "      <th>AAl_sqrt</th>\n",
       "      <th>AAr</th>\n",
       "      <th>AAr_sqrt</th>\n",
       "      <th>ALIPH</th>\n",
       "      <th>AP_ACE</th>\n",
       "      <th>AP_DARS</th>\n",
       "      <th>AP_DCOMPLEX</th>\n",
       "      <th>AP_DDG_U</th>\n",
       "      <th>AP_DDG_W</th>\n",
       "      <th>AP_DFIRE2</th>\n",
       "      <th>AP_DOPE</th>\n",
       "      <th>AP_DOPE_HR</th>\n",
       "      <th>AP_GEOMETRIC</th>\n",
       "      <th>AP_GOAP_ALL</th>\n",
       "      <th>AP_GOAP_DF</th>\n",
       "      <th>AP_GOAP_G</th>\n",
       "      <th>AP_MPS</th>\n",
       "      <th>AP_OPUS_PSP</th>\n",
       "      <th>AP_PISA</th>\n",
       "      <th>AP_T1</th>\n",
       "      <th>AP_T2</th>\n",
       "      <th>AP_URS</th>\n",
       "      <th>AP_W1</th>\n",
       "      <th>AP_calRW</th>\n",
       "      <th>AP_calRWp</th>\n",
       "      <th>AP_dDFIRE</th>\n",
       "      <th>AlAl</th>\n",
       "      <th>AlAl_sqrt</th>\n",
       "      <th>AlAr</th>\n",
       "      <th>AlAr_sqrt</th>\n",
       "      <th>ArAr</th>\n",
       "      <th>ArAr_sqrt</th>\n",
       "      <th>BSA</th>\n",
       "      <th>BSA_Apolar</th>\n",
       "      <th>BSA_Polar</th>\n",
       "      <th>CA</th>\n",
       "      <th>CA_sqrt</th>\n",
       "      <th>CAl</th>\n",
       "      <th>CAl_sqrt</th>\n",
       "      <th>CAr</th>\n",
       "      <th>CAr_sqrt</th>\n",
       "      <th>CC</th>\n",
       "      <th>CC_sqrt</th>\n",
       "      <th>CONSRANK_val</th>\n",
       "      <th>CP</th>\n",
       "      <th>CP_BFKV</th>\n",
       "      <th>CP_BL</th>\n",
       "      <th>CP_BT</th>\n",
       "      <th>CP_D1</th>\n",
       "      <th>CP_DDG_U</th>\n",
       "      <th>CP_DDG_W</th>\n",
       "      <th>CP_E3DC_CB</th>\n",
       "      <th>CP_E3DC_MIN</th>\n",
       "      <th>CP_E3D_CB</th>\n",
       "      <th>CP_E3D_MIN</th>\n",
       "      <th>CP_ELOCAL_CB</th>\n",
       "      <th>CP_ELOCAL_MIN</th>\n",
       "      <th>CP_EPAIR_CB</th>\n",
       "      <th>CP_EPAIR_MIN</th>\n",
       "      <th>CP_ES3DC_CB</th>\n",
       "      <th>CP_ES3DC_MIN</th>\n",
       "      <th>CP_GKS</th>\n",
       "      <th>CP_HLPL</th>\n",
       "      <th>CP_MJ1</th>\n",
       "      <th>CP_MJ2</th>\n",
       "      <th>CP_MJ2h</th>\n",
       "      <th>CP_MJ3h</th>\n",
       "      <th>CP_MJPL</th>\n",
       "      <th>CP_MS</th>\n",
       "      <th>CP_MSBM</th>\n",
       "      <th>CP_Qa</th>\n",
       "      <th>CP_Qm</th>\n",
       "      <th>CP_Qp</th>\n",
       "      <th>CP_RMFCA</th>\n",
       "      <th>CP_RMFCEN1</th>\n",
       "      <th>CP_RMFCEN2</th>\n",
       "      <th>CP_RO</th>\n",
       "      <th>CP_SJKG</th>\n",
       "      <th>CP_SKOIP</th>\n",
       "      <th>CP_SKOa</th>\n",
       "      <th>CP_SKOb</th>\n",
       "      <th>CP_TB</th>\n",
       "      <th>CP_TD</th>\n",
       "      <th>CP_TEl</th>\n",
       "      <th>CP_TEs</th>\n",
       "      <th>CP_TS</th>\n",
       "      <th>CP_TSC</th>\n",
       "      <th>CP_VD</th>\n",
       "      <th>CP_Z3DC_CB</th>\n",
       "      <th>CP_Z3DC_MIN</th>\n",
       "      <th>CP_ZLOCAL_CB</th>\n",
       "      <th>CP_ZLOCAL_MIN</th>\n",
       "      <th>CP_ZPAIR_CB</th>\n",
       "      <th>CP_ZPAIR_MIN</th>\n",
       "      <th>CP_ZS3DC_CB</th>\n",
       "      <th>CP_ZS3DC_MIN</th>\n",
       "      <th>CP_sqrt</th>\n",
       "      <th>DDG_V</th>\n",
       "      <th>DESOLV</th>\n",
       "      <th>DOKB</th>\n",
       "      <th>DQ_val</th>\n",
       "      <th>ELE</th>\n",
       "      <th>FIREDOCK</th>\n",
       "      <th>FIREDOCK_AB</th>\n",
       "      <th>FIREDOCK_EI</th>\n",
       "      <th>HBOND</th>\n",
       "      <th>INSIDE</th>\n",
       "      <th>NSC</th>\n",
       "      <th>Nis_Apolar</th>\n",
       "      <th>Nis_Polar</th>\n",
       "      <th>ODA</th>\n",
       "      <th>PA</th>\n",
       "      <th>PA_sqrt</th>\n",
       "      <th>PAl</th>\n",
       "      <th>PAl_sqrt</th>\n",
       "      <th>PAr</th>\n",
       "      <th>PAr_sqrt</th>\n",
       "      <th>PI_PI</th>\n",
       "      <th>PP</th>\n",
       "      <th>PP_sqrt</th>\n",
       "      <th>PROPNSTS</th>\n",
       "      <th>PYDOCK_TOT</th>\n",
       "      <th>SIPPER</th>\n",
       "      <th>VDW</th>\n",
       "      <th>ZRANK</th>\n",
       "      <th>ZRANK2</th>\n",
       "      <th>avg_cips_AA</th>\n",
       "      <th>avg_cips_AAl</th>\n",
       "      <th>avg_cips_AAr</th>\n",
       "      <th>avg_cips_AlAl</th>\n",
       "      <th>avg_cips_AlAr</th>\n",
       "      <th>avg_cips_ArAr</th>\n",
       "      <th>avg_cips_CA</th>\n",
       "      <th>avg_cips_CAl</th>\n",
       "      <th>avg_cips_CAr</th>\n",
       "      <th>avg_cips_CC</th>\n",
       "      <th>avg_cips_CP</th>\n",
       "      <th>avg_cips_PA</th>\n",
       "      <th>avg_cips_PAl</th>\n",
       "      <th>avg_cips_PAr</th>\n",
       "      <th>avg_cips_PP</th>\n",
       "      <th>cips_AA</th>\n",
       "      <th>cips_AAl</th>\n",
       "      <th>cips_AAr</th>\n",
       "      <th>cips_AlAl</th>\n",
       "      <th>cips_AlAr</th>\n",
       "      <th>cips_ArAr</th>\n",
       "      <th>cips_CA</th>\n",
       "      <th>cips_CAl</th>\n",
       "      <th>cips_CC</th>\n",
       "      <th>cips_CP</th>\n",
       "      <th>cips_PA</th>\n",
       "      <th>cips_PAl</th>\n",
       "      <th>cips_PP</th>\n",
       "      <th>idx</th>\n",
       "      <th>label_binary</th>\n",
       "      <th>num_of_contacs</th>\n",
       "    </tr>\n",
       "    <tr>\n",
       "      <th>npartitions=2</th>\n",
       "      <th></th>\n",
       "      <th></th>\n",
       "      <th></th>\n",
       "      <th></th>\n",
       "      <th></th>\n",
       "      <th></th>\n",
       "      <th></th>\n",
       "      <th></th>\n",
       "      <th></th>\n",
       "      <th></th>\n",
       "      <th></th>\n",
       "      <th></th>\n",
       "      <th></th>\n",
       "      <th></th>\n",
       "      <th></th>\n",
       "      <th></th>\n",
       "      <th></th>\n",
       "      <th></th>\n",
       "      <th></th>\n",
       "      <th></th>\n",
       "      <th></th>\n",
       "      <th></th>\n",
       "      <th></th>\n",
       "      <th></th>\n",
       "      <th></th>\n",
       "      <th></th>\n",
       "      <th></th>\n",
       "      <th></th>\n",
       "      <th></th>\n",
       "      <th></th>\n",
       "      <th></th>\n",
       "      <th></th>\n",
       "      <th></th>\n",
       "      <th></th>\n",
       "      <th></th>\n",
       "      <th></th>\n",
       "      <th></th>\n",
       "      <th></th>\n",
       "      <th></th>\n",
       "      <th></th>\n",
       "      <th></th>\n",
       "      <th></th>\n",
       "      <th></th>\n",
       "      <th></th>\n",
       "      <th></th>\n",
       "      <th></th>\n",
       "      <th></th>\n",
       "      <th></th>\n",
       "      <th></th>\n",
       "      <th></th>\n",
       "      <th></th>\n",
       "      <th></th>\n",
       "      <th></th>\n",
       "      <th></th>\n",
       "      <th></th>\n",
       "      <th></th>\n",
       "      <th></th>\n",
       "      <th></th>\n",
       "      <th></th>\n",
       "      <th></th>\n",
       "      <th></th>\n",
       "      <th></th>\n",
       "      <th></th>\n",
       "      <th></th>\n",
       "      <th></th>\n",
       "      <th></th>\n",
       "      <th></th>\n",
       "      <th></th>\n",
       "      <th></th>\n",
       "      <th></th>\n",
       "      <th></th>\n",
       "      <th></th>\n",
       "      <th></th>\n",
       "      <th></th>\n",
       "      <th></th>\n",
       "      <th></th>\n",
       "      <th></th>\n",
       "      <th></th>\n",
       "      <th></th>\n",
       "      <th></th>\n",
       "      <th></th>\n",
       "      <th></th>\n",
       "      <th></th>\n",
       "      <th></th>\n",
       "      <th></th>\n",
       "      <th></th>\n",
       "      <th></th>\n",
       "      <th></th>\n",
       "      <th></th>\n",
       "      <th></th>\n",
       "      <th></th>\n",
       "      <th></th>\n",
       "      <th></th>\n",
       "      <th></th>\n",
       "      <th></th>\n",
       "      <th></th>\n",
       "      <th></th>\n",
       "      <th></th>\n",
       "      <th></th>\n",
       "      <th></th>\n",
       "      <th></th>\n",
       "      <th></th>\n",
       "      <th></th>\n",
       "      <th></th>\n",
       "      <th></th>\n",
       "      <th></th>\n",
       "      <th></th>\n",
       "      <th></th>\n",
       "      <th></th>\n",
       "      <th></th>\n",
       "      <th></th>\n",
       "      <th></th>\n",
       "      <th></th>\n",
       "      <th></th>\n",
       "      <th></th>\n",
       "      <th></th>\n",
       "      <th></th>\n",
       "      <th></th>\n",
       "      <th></th>\n",
       "      <th></th>\n",
       "      <th></th>\n",
       "      <th></th>\n",
       "      <th></th>\n",
       "      <th></th>\n",
       "      <th></th>\n",
       "      <th></th>\n",
       "      <th></th>\n",
       "      <th></th>\n",
       "      <th></th>\n",
       "      <th></th>\n",
       "      <th></th>\n",
       "      <th></th>\n",
       "      <th></th>\n",
       "      <th></th>\n",
       "      <th></th>\n",
       "      <th></th>\n",
       "      <th></th>\n",
       "      <th></th>\n",
       "      <th></th>\n",
       "      <th></th>\n",
       "      <th></th>\n",
       "      <th></th>\n",
       "      <th></th>\n",
       "      <th></th>\n",
       "      <th></th>\n",
       "      <th></th>\n",
       "      <th></th>\n",
       "      <th></th>\n",
       "      <th></th>\n",
       "      <th></th>\n",
       "      <th></th>\n",
       "      <th></th>\n",
       "      <th></th>\n",
       "      <th></th>\n",
       "      <th></th>\n",
       "      <th></th>\n",
       "      <th></th>\n",
       "      <th></th>\n",
       "      <th></th>\n",
       "      <th></th>\n",
       "    </tr>\n",
       "  </thead>\n",
       "  <tbody>\n",
       "    <tr>\n",
       "      <th>F_1A2K_1488_I.pdb</th>\n",
       "      <td>int64</td>\n",
       "      <td>float64</td>\n",
       "      <td>int64</td>\n",
       "      <td>float64</td>\n",
       "      <td>int64</td>\n",
       "      <td>float64</td>\n",
       "      <td>float64</td>\n",
       "      <td>float64</td>\n",
       "      <td>float64</td>\n",
       "      <td>float64</td>\n",
       "      <td>float64</td>\n",
       "      <td>float64</td>\n",
       "      <td>float64</td>\n",
       "      <td>float64</td>\n",
       "      <td>float64</td>\n",
       "      <td>float64</td>\n",
       "      <td>float64</td>\n",
       "      <td>float64</td>\n",
       "      <td>float64</td>\n",
       "      <td>float64</td>\n",
       "      <td>float64</td>\n",
       "      <td>float64</td>\n",
       "      <td>float64</td>\n",
       "      <td>float64</td>\n",
       "      <td>float64</td>\n",
       "      <td>float64</td>\n",
       "      <td>float64</td>\n",
       "      <td>float64</td>\n",
       "      <td>float64</td>\n",
       "      <td>int64</td>\n",
       "      <td>float64</td>\n",
       "      <td>int64</td>\n",
       "      <td>float64</td>\n",
       "      <td>int64</td>\n",
       "      <td>float64</td>\n",
       "      <td>float64</td>\n",
       "      <td>float64</td>\n",
       "      <td>float64</td>\n",
       "      <td>int64</td>\n",
       "      <td>float64</td>\n",
       "      <td>int64</td>\n",
       "      <td>float64</td>\n",
       "      <td>int64</td>\n",
       "      <td>float64</td>\n",
       "      <td>int64</td>\n",
       "      <td>float64</td>\n",
       "      <td>float64</td>\n",
       "      <td>int64</td>\n",
       "      <td>float64</td>\n",
       "      <td>float64</td>\n",
       "      <td>float64</td>\n",
       "      <td>float64</td>\n",
       "      <td>float64</td>\n",
       "      <td>float64</td>\n",
       "      <td>float64</td>\n",
       "      <td>float64</td>\n",
       "      <td>float64</td>\n",
       "      <td>float64</td>\n",
       "      <td>float64</td>\n",
       "      <td>float64</td>\n",
       "      <td>float64</td>\n",
       "      <td>float64</td>\n",
       "      <td>float64</td>\n",
       "      <td>float64</td>\n",
       "      <td>float64</td>\n",
       "      <td>float64</td>\n",
       "      <td>float64</td>\n",
       "      <td>float64</td>\n",
       "      <td>float64</td>\n",
       "      <td>float64</td>\n",
       "      <td>float64</td>\n",
       "      <td>float64</td>\n",
       "      <td>float64</td>\n",
       "      <td>float64</td>\n",
       "      <td>float64</td>\n",
       "      <td>float64</td>\n",
       "      <td>float64</td>\n",
       "      <td>float64</td>\n",
       "      <td>float64</td>\n",
       "      <td>float64</td>\n",
       "      <td>float64</td>\n",
       "      <td>float64</td>\n",
       "      <td>float64</td>\n",
       "      <td>float64</td>\n",
       "      <td>float64</td>\n",
       "      <td>float64</td>\n",
       "      <td>float64</td>\n",
       "      <td>float64</td>\n",
       "      <td>float64</td>\n",
       "      <td>float64</td>\n",
       "      <td>float64</td>\n",
       "      <td>float64</td>\n",
       "      <td>float64</td>\n",
       "      <td>float64</td>\n",
       "      <td>float64</td>\n",
       "      <td>float64</td>\n",
       "      <td>float64</td>\n",
       "      <td>float64</td>\n",
       "      <td>float64</td>\n",
       "      <td>float64</td>\n",
       "      <td>float64</td>\n",
       "      <td>float64</td>\n",
       "      <td>float64</td>\n",
       "      <td>float64</td>\n",
       "      <td>float64</td>\n",
       "      <td>float64</td>\n",
       "      <td>float64</td>\n",
       "      <td>float64</td>\n",
       "      <td>float64</td>\n",
       "      <td>float64</td>\n",
       "      <td>float64</td>\n",
       "      <td>float64</td>\n",
       "      <td>float64</td>\n",
       "      <td>float64</td>\n",
       "      <td>int64</td>\n",
       "      <td>float64</td>\n",
       "      <td>int64</td>\n",
       "      <td>float64</td>\n",
       "      <td>int64</td>\n",
       "      <td>float64</td>\n",
       "      <td>float64</td>\n",
       "      <td>int64</td>\n",
       "      <td>float64</td>\n",
       "      <td>float64</td>\n",
       "      <td>float64</td>\n",
       "      <td>float64</td>\n",
       "      <td>float64</td>\n",
       "      <td>float64</td>\n",
       "      <td>float64</td>\n",
       "      <td>float64</td>\n",
       "      <td>float64</td>\n",
       "      <td>float64</td>\n",
       "      <td>float64</td>\n",
       "      <td>float64</td>\n",
       "      <td>float64</td>\n",
       "      <td>float64</td>\n",
       "      <td>float64</td>\n",
       "      <td>float64</td>\n",
       "      <td>float64</td>\n",
       "      <td>float64</td>\n",
       "      <td>float64</td>\n",
       "      <td>float64</td>\n",
       "      <td>float64</td>\n",
       "      <td>float64</td>\n",
       "      <td>float64</td>\n",
       "      <td>float64</td>\n",
       "      <td>float64</td>\n",
       "      <td>float64</td>\n",
       "      <td>float64</td>\n",
       "      <td>float64</td>\n",
       "      <td>float64</td>\n",
       "      <td>float64</td>\n",
       "      <td>float64</td>\n",
       "      <td>float64</td>\n",
       "      <td>float64</td>\n",
       "      <td>float64</td>\n",
       "      <td>float64</td>\n",
       "      <td>object</td>\n",
       "      <td>float64</td>\n",
       "      <td>int64</td>\n",
       "    </tr>\n",
       "    <tr>\n",
       "      <th>H_3L5W_3435_I.pdb</th>\n",
       "      <td>...</td>\n",
       "      <td>...</td>\n",
       "      <td>...</td>\n",
       "      <td>...</td>\n",
       "      <td>...</td>\n",
       "      <td>...</td>\n",
       "      <td>...</td>\n",
       "      <td>...</td>\n",
       "      <td>...</td>\n",
       "      <td>...</td>\n",
       "      <td>...</td>\n",
       "      <td>...</td>\n",
       "      <td>...</td>\n",
       "      <td>...</td>\n",
       "      <td>...</td>\n",
       "      <td>...</td>\n",
       "      <td>...</td>\n",
       "      <td>...</td>\n",
       "      <td>...</td>\n",
       "      <td>...</td>\n",
       "      <td>...</td>\n",
       "      <td>...</td>\n",
       "      <td>...</td>\n",
       "      <td>...</td>\n",
       "      <td>...</td>\n",
       "      <td>...</td>\n",
       "      <td>...</td>\n",
       "      <td>...</td>\n",
       "      <td>...</td>\n",
       "      <td>...</td>\n",
       "      <td>...</td>\n",
       "      <td>...</td>\n",
       "      <td>...</td>\n",
       "      <td>...</td>\n",
       "      <td>...</td>\n",
       "      <td>...</td>\n",
       "      <td>...</td>\n",
       "      <td>...</td>\n",
       "      <td>...</td>\n",
       "      <td>...</td>\n",
       "      <td>...</td>\n",
       "      <td>...</td>\n",
       "      <td>...</td>\n",
       "      <td>...</td>\n",
       "      <td>...</td>\n",
       "      <td>...</td>\n",
       "      <td>...</td>\n",
       "      <td>...</td>\n",
       "      <td>...</td>\n",
       "      <td>...</td>\n",
       "      <td>...</td>\n",
       "      <td>...</td>\n",
       "      <td>...</td>\n",
       "      <td>...</td>\n",
       "      <td>...</td>\n",
       "      <td>...</td>\n",
       "      <td>...</td>\n",
       "      <td>...</td>\n",
       "      <td>...</td>\n",
       "      <td>...</td>\n",
       "      <td>...</td>\n",
       "      <td>...</td>\n",
       "      <td>...</td>\n",
       "      <td>...</td>\n",
       "      <td>...</td>\n",
       "      <td>...</td>\n",
       "      <td>...</td>\n",
       "      <td>...</td>\n",
       "      <td>...</td>\n",
       "      <td>...</td>\n",
       "      <td>...</td>\n",
       "      <td>...</td>\n",
       "      <td>...</td>\n",
       "      <td>...</td>\n",
       "      <td>...</td>\n",
       "      <td>...</td>\n",
       "      <td>...</td>\n",
       "      <td>...</td>\n",
       "      <td>...</td>\n",
       "      <td>...</td>\n",
       "      <td>...</td>\n",
       "      <td>...</td>\n",
       "      <td>...</td>\n",
       "      <td>...</td>\n",
       "      <td>...</td>\n",
       "      <td>...</td>\n",
       "      <td>...</td>\n",
       "      <td>...</td>\n",
       "      <td>...</td>\n",
       "      <td>...</td>\n",
       "      <td>...</td>\n",
       "      <td>...</td>\n",
       "      <td>...</td>\n",
       "      <td>...</td>\n",
       "      <td>...</td>\n",
       "      <td>...</td>\n",
       "      <td>...</td>\n",
       "      <td>...</td>\n",
       "      <td>...</td>\n",
       "      <td>...</td>\n",
       "      <td>...</td>\n",
       "      <td>...</td>\n",
       "      <td>...</td>\n",
       "      <td>...</td>\n",
       "      <td>...</td>\n",
       "      <td>...</td>\n",
       "      <td>...</td>\n",
       "      <td>...</td>\n",
       "      <td>...</td>\n",
       "      <td>...</td>\n",
       "      <td>...</td>\n",
       "      <td>...</td>\n",
       "      <td>...</td>\n",
       "      <td>...</td>\n",
       "      <td>...</td>\n",
       "      <td>...</td>\n",
       "      <td>...</td>\n",
       "      <td>...</td>\n",
       "      <td>...</td>\n",
       "      <td>...</td>\n",
       "      <td>...</td>\n",
       "      <td>...</td>\n",
       "      <td>...</td>\n",
       "      <td>...</td>\n",
       "      <td>...</td>\n",
       "      <td>...</td>\n",
       "      <td>...</td>\n",
       "      <td>...</td>\n",
       "      <td>...</td>\n",
       "      <td>...</td>\n",
       "      <td>...</td>\n",
       "      <td>...</td>\n",
       "      <td>...</td>\n",
       "      <td>...</td>\n",
       "      <td>...</td>\n",
       "      <td>...</td>\n",
       "      <td>...</td>\n",
       "      <td>...</td>\n",
       "      <td>...</td>\n",
       "      <td>...</td>\n",
       "      <td>...</td>\n",
       "      <td>...</td>\n",
       "      <td>...</td>\n",
       "      <td>...</td>\n",
       "      <td>...</td>\n",
       "      <td>...</td>\n",
       "      <td>...</td>\n",
       "      <td>...</td>\n",
       "      <td>...</td>\n",
       "      <td>...</td>\n",
       "      <td>...</td>\n",
       "      <td>...</td>\n",
       "      <td>...</td>\n",
       "      <td>...</td>\n",
       "      <td>...</td>\n",
       "      <td>...</td>\n",
       "      <td>...</td>\n",
       "      <td>...</td>\n",
       "      <td>...</td>\n",
       "      <td>...</td>\n",
       "    </tr>\n",
       "    <tr>\n",
       "      <th>Z_CP57_9980_A.pdb</th>\n",
       "      <td>...</td>\n",
       "      <td>...</td>\n",
       "      <td>...</td>\n",
       "      <td>...</td>\n",
       "      <td>...</td>\n",
       "      <td>...</td>\n",
       "      <td>...</td>\n",
       "      <td>...</td>\n",
       "      <td>...</td>\n",
       "      <td>...</td>\n",
       "      <td>...</td>\n",
       "      <td>...</td>\n",
       "      <td>...</td>\n",
       "      <td>...</td>\n",
       "      <td>...</td>\n",
       "      <td>...</td>\n",
       "      <td>...</td>\n",
       "      <td>...</td>\n",
       "      <td>...</td>\n",
       "      <td>...</td>\n",
       "      <td>...</td>\n",
       "      <td>...</td>\n",
       "      <td>...</td>\n",
       "      <td>...</td>\n",
       "      <td>...</td>\n",
       "      <td>...</td>\n",
       "      <td>...</td>\n",
       "      <td>...</td>\n",
       "      <td>...</td>\n",
       "      <td>...</td>\n",
       "      <td>...</td>\n",
       "      <td>...</td>\n",
       "      <td>...</td>\n",
       "      <td>...</td>\n",
       "      <td>...</td>\n",
       "      <td>...</td>\n",
       "      <td>...</td>\n",
       "      <td>...</td>\n",
       "      <td>...</td>\n",
       "      <td>...</td>\n",
       "      <td>...</td>\n",
       "      <td>...</td>\n",
       "      <td>...</td>\n",
       "      <td>...</td>\n",
       "      <td>...</td>\n",
       "      <td>...</td>\n",
       "      <td>...</td>\n",
       "      <td>...</td>\n",
       "      <td>...</td>\n",
       "      <td>...</td>\n",
       "      <td>...</td>\n",
       "      <td>...</td>\n",
       "      <td>...</td>\n",
       "      <td>...</td>\n",
       "      <td>...</td>\n",
       "      <td>...</td>\n",
       "      <td>...</td>\n",
       "      <td>...</td>\n",
       "      <td>...</td>\n",
       "      <td>...</td>\n",
       "      <td>...</td>\n",
       "      <td>...</td>\n",
       "      <td>...</td>\n",
       "      <td>...</td>\n",
       "      <td>...</td>\n",
       "      <td>...</td>\n",
       "      <td>...</td>\n",
       "      <td>...</td>\n",
       "      <td>...</td>\n",
       "      <td>...</td>\n",
       "      <td>...</td>\n",
       "      <td>...</td>\n",
       "      <td>...</td>\n",
       "      <td>...</td>\n",
       "      <td>...</td>\n",
       "      <td>...</td>\n",
       "      <td>...</td>\n",
       "      <td>...</td>\n",
       "      <td>...</td>\n",
       "      <td>...</td>\n",
       "      <td>...</td>\n",
       "      <td>...</td>\n",
       "      <td>...</td>\n",
       "      <td>...</td>\n",
       "      <td>...</td>\n",
       "      <td>...</td>\n",
       "      <td>...</td>\n",
       "      <td>...</td>\n",
       "      <td>...</td>\n",
       "      <td>...</td>\n",
       "      <td>...</td>\n",
       "      <td>...</td>\n",
       "      <td>...</td>\n",
       "      <td>...</td>\n",
       "      <td>...</td>\n",
       "      <td>...</td>\n",
       "      <td>...</td>\n",
       "      <td>...</td>\n",
       "      <td>...</td>\n",
       "      <td>...</td>\n",
       "      <td>...</td>\n",
       "      <td>...</td>\n",
       "      <td>...</td>\n",
       "      <td>...</td>\n",
       "      <td>...</td>\n",
       "      <td>...</td>\n",
       "      <td>...</td>\n",
       "      <td>...</td>\n",
       "      <td>...</td>\n",
       "      <td>...</td>\n",
       "      <td>...</td>\n",
       "      <td>...</td>\n",
       "      <td>...</td>\n",
       "      <td>...</td>\n",
       "      <td>...</td>\n",
       "      <td>...</td>\n",
       "      <td>...</td>\n",
       "      <td>...</td>\n",
       "      <td>...</td>\n",
       "      <td>...</td>\n",
       "      <td>...</td>\n",
       "      <td>...</td>\n",
       "      <td>...</td>\n",
       "      <td>...</td>\n",
       "      <td>...</td>\n",
       "      <td>...</td>\n",
       "      <td>...</td>\n",
       "      <td>...</td>\n",
       "      <td>...</td>\n",
       "      <td>...</td>\n",
       "      <td>...</td>\n",
       "      <td>...</td>\n",
       "      <td>...</td>\n",
       "      <td>...</td>\n",
       "      <td>...</td>\n",
       "      <td>...</td>\n",
       "      <td>...</td>\n",
       "      <td>...</td>\n",
       "      <td>...</td>\n",
       "      <td>...</td>\n",
       "      <td>...</td>\n",
       "      <td>...</td>\n",
       "      <td>...</td>\n",
       "      <td>...</td>\n",
       "      <td>...</td>\n",
       "      <td>...</td>\n",
       "      <td>...</td>\n",
       "      <td>...</td>\n",
       "      <td>...</td>\n",
       "      <td>...</td>\n",
       "      <td>...</td>\n",
       "      <td>...</td>\n",
       "      <td>...</td>\n",
       "      <td>...</td>\n",
       "      <td>...</td>\n",
       "      <td>...</td>\n",
       "      <td>...</td>\n",
       "      <td>...</td>\n",
       "      <td>...</td>\n",
       "      <td>...</td>\n",
       "    </tr>\n",
       "  </tbody>\n",
       "</table>\n",
       "</div>\n",
       "<div>Dask Name: getitem, 31 tasks</div>"
      ],
      "text/plain": [
       "Dask DataFrame Structure:\n",
       "                      AA  AA_sqrt    AAl AAl_sqrt    AAr AAr_sqrt    ALIPH   AP_ACE  AP_DARS AP_DCOMPLEX AP_DDG_U AP_DDG_W AP_DFIRE2  AP_DOPE AP_DOPE_HR AP_GEOMETRIC AP_GOAP_ALL AP_GOAP_DF AP_GOAP_G   AP_MPS AP_OPUS_PSP  AP_PISA    AP_T1    AP_T2   AP_URS    AP_W1 AP_calRW AP_calRWp AP_dDFIRE   AlAl AlAl_sqrt   AlAr AlAr_sqrt   ArAr ArAr_sqrt      BSA BSA_Apolar BSA_Polar     CA  CA_sqrt    CAl CAl_sqrt    CAr CAr_sqrt     CC  CC_sqrt CONSRANK_val     CP  CP_BFKV    CP_BL    CP_BT    CP_D1 CP_DDG_U CP_DDG_W CP_E3DC_CB CP_E3DC_MIN CP_E3D_CB CP_E3D_MIN CP_ELOCAL_CB CP_ELOCAL_MIN CP_EPAIR_CB CP_EPAIR_MIN CP_ES3DC_CB CP_ES3DC_MIN   CP_GKS  CP_HLPL   CP_MJ1   CP_MJ2  CP_MJ2h  CP_MJ3h  CP_MJPL    CP_MS  CP_MSBM    CP_Qa    CP_Qm    CP_Qp CP_RMFCA CP_RMFCEN1 CP_RMFCEN2    CP_RO  CP_SJKG CP_SKOIP  CP_SKOa  CP_SKOb    CP_TB    CP_TD   CP_TEl   CP_TEs    CP_TS   CP_TSC    CP_VD CP_Z3DC_CB CP_Z3DC_MIN CP_ZLOCAL_CB CP_ZLOCAL_MIN CP_ZPAIR_CB CP_ZPAIR_MIN CP_ZS3DC_CB CP_ZS3DC_MIN  CP_sqrt    DDG_V   DESOLV     DOKB   DQ_val      ELE FIREDOCK FIREDOCK_AB FIREDOCK_EI    HBOND   INSIDE      NSC Nis_Apolar Nis_Polar      ODA     PA  PA_sqrt    PAl PAl_sqrt    PAr PAr_sqrt    PI_PI     PP  PP_sqrt PROPNSTS PYDOCK_TOT   SIPPER      VDW    ZRANK   ZRANK2 avg_cips_AA avg_cips_AAl avg_cips_AAr avg_cips_AlAl avg_cips_AlAr avg_cips_ArAr avg_cips_CA avg_cips_CAl avg_cips_CAr avg_cips_CC avg_cips_CP avg_cips_PA avg_cips_PAl avg_cips_PAr avg_cips_PP  cips_AA cips_AAl cips_AAr cips_AlAl cips_AlAr cips_ArAr  cips_CA cips_CAl  cips_CC  cips_CP  cips_PA cips_PAl  cips_PP     idx label_binary num_of_contacs\n",
       "npartitions=2                                                                                                                                                                                                                                                                                                                                                                                                                                                                                                                                                                                                                                                                                                                                                                                                                                                                                                                                                                                                                                                                                                                                                                                                                                                                                                                                                                                                                                                                                                                                                                                                                                                    \n",
       "F_1A2K_1488_I.pdb  int64  float64  int64  float64  int64  float64  float64  float64  float64     float64  float64  float64   float64  float64    float64      float64     float64    float64   float64  float64     float64  float64  float64  float64  float64  float64  float64   float64   float64  int64   float64  int64   float64  int64   float64  float64    float64   float64  int64  float64  int64  float64  int64  float64  int64  float64      float64  int64  float64  float64  float64  float64  float64  float64    float64     float64   float64    float64      float64       float64     float64      float64     float64      float64  float64  float64  float64  float64  float64  float64  float64  float64  float64  float64  float64  float64  float64    float64    float64  float64  float64  float64  float64  float64  float64  float64  float64  float64  float64  float64  float64    float64     float64      float64       float64     float64      float64     float64      float64  float64  float64  float64  float64  float64  float64  float64     float64     float64  float64  float64  float64    float64   float64  float64  int64  float64  int64  float64  int64  float64  float64  int64  float64  float64    float64  float64  float64  float64  float64     float64      float64      float64       float64       float64       float64     float64      float64      float64     float64     float64     float64      float64      float64     float64  float64  float64  float64   float64   float64   float64  float64  float64  float64  float64  float64  float64  float64  object      float64          int64\n",
       "H_3L5W_3435_I.pdb    ...      ...    ...      ...    ...      ...      ...      ...      ...         ...      ...      ...       ...      ...        ...          ...         ...        ...       ...      ...         ...      ...      ...      ...      ...      ...      ...       ...       ...    ...       ...    ...       ...    ...       ...      ...        ...       ...    ...      ...    ...      ...    ...      ...    ...      ...          ...    ...      ...      ...      ...      ...      ...      ...        ...         ...       ...        ...          ...           ...         ...          ...         ...          ...      ...      ...      ...      ...      ...      ...      ...      ...      ...      ...      ...      ...      ...        ...        ...      ...      ...      ...      ...      ...      ...      ...      ...      ...      ...      ...      ...        ...         ...          ...           ...         ...          ...         ...          ...      ...      ...      ...      ...      ...      ...      ...         ...         ...      ...      ...      ...        ...       ...      ...    ...      ...    ...      ...    ...      ...      ...    ...      ...      ...        ...      ...      ...      ...      ...         ...          ...          ...           ...           ...           ...         ...          ...          ...         ...         ...         ...          ...          ...         ...      ...      ...      ...       ...       ...       ...      ...      ...      ...      ...      ...      ...      ...     ...          ...            ...\n",
       "Z_CP57_9980_A.pdb    ...      ...    ...      ...    ...      ...      ...      ...      ...         ...      ...      ...       ...      ...        ...          ...         ...        ...       ...      ...         ...      ...      ...      ...      ...      ...      ...       ...       ...    ...       ...    ...       ...    ...       ...      ...        ...       ...    ...      ...    ...      ...    ...      ...    ...      ...          ...    ...      ...      ...      ...      ...      ...      ...        ...         ...       ...        ...          ...           ...         ...          ...         ...          ...      ...      ...      ...      ...      ...      ...      ...      ...      ...      ...      ...      ...      ...        ...        ...      ...      ...      ...      ...      ...      ...      ...      ...      ...      ...      ...      ...        ...         ...          ...           ...         ...          ...         ...          ...      ...      ...      ...      ...      ...      ...      ...         ...         ...      ...      ...      ...        ...       ...      ...    ...      ...    ...      ...    ...      ...      ...    ...      ...      ...        ...      ...      ...      ...      ...         ...          ...          ...           ...           ...           ...         ...          ...          ...         ...         ...         ...          ...          ...         ...      ...      ...      ...       ...       ...       ...      ...      ...      ...      ...      ...      ...      ...     ...          ...            ...\n",
       "Dask Name: getitem, 31 tasks"
      ]
     },
     "execution_count": 156,
     "metadata": {},
     "output_type": "execute_result"
    }
   ],
   "source": [
    "X_train"
   ]
  },
  {
   "cell_type": "code",
   "execution_count": 157,
   "id": "searching-italy",
   "metadata": {},
   "outputs": [
    {
     "name": "stdout",
     "output_type": "stream",
     "text": [
      "(Delayed('int-dc27b23a-63f4-49ae-a722-a28e99cf44cf'), 157)\n",
      "(Delayed('int-98bb6aa1-19bd-4ce1-9d8b-24c1707a22fd'), 168)\n",
      "(Delayed('int-55d0f2da-ffed-414b-b199-a83f6c305f27'), 157)\n",
      "(Delayed('int-a36233d7-8ef3-4cc7-8d52-d65e7f5674ab'), 157)\n"
     ]
    }
   ],
   "source": [
    "X_train_fs, X_test_fs, X_test_u_fs = scaling_data(X_train, X_test, X_test_u)\n",
    "X_train_fs, X_val_fs, X_val_u_fs = scaling_data(X_train, X_val, X_val_u)\n",
    "\n",
    "# X_train_fs, X_test_fs, X_test_u_fs = scaling_data_selected(X_train, X_test, X_test_u)\n",
    "# X_train_fs, X_val_fs, X_val_u_fs = scaling_data_selected(X_train, X_val, X_val_u)"
   ]
  },
  {
   "cell_type": "code",
   "execution_count": 158,
   "id": "beneficial-progressive",
   "metadata": {},
   "outputs": [],
   "source": [
    "n_examples = 4 * len(X_train_fs)  # 20 passes through dataset for best model\n",
    "n_params = 8  # sample about 300 parameters\n",
    "\n",
    "# inputs to hyperband\n",
    "max_iter = n_params\n",
    "chunk_size = n_examples // n_params"
   ]
  },
  {
   "cell_type": "code",
   "execution_count": null,
   "id": "final-genealogy",
   "metadata": {},
   "outputs": [],
   "source": []
  },
  {
   "cell_type": "code",
   "execution_count": 159,
   "id": "incoming-links",
   "metadata": {},
   "outputs": [
    {
     "name": "stdout",
     "output_type": "stream",
     "text": [
      "<class 'dask.dataframe.core.DataFrame'>\n",
      "Columns: 157 entries, AA to num_of_contacs\n",
      "dtypes: float64(157)"
     ]
    }
   ],
   "source": [
    "X_train_fs.info()"
   ]
  },
  {
   "cell_type": "code",
   "execution_count": 160,
   "id": "excited-sweet",
   "metadata": {},
   "outputs": [
    {
     "data": {
      "text/html": [
       "<div><strong>Dask DataFrame Structure:</strong></div>\n",
       "<div>\n",
       "<style scoped>\n",
       "    .dataframe tbody tr th:only-of-type {\n",
       "        vertical-align: middle;\n",
       "    }\n",
       "\n",
       "    .dataframe tbody tr th {\n",
       "        vertical-align: top;\n",
       "    }\n",
       "\n",
       "    .dataframe thead th {\n",
       "        text-align: right;\n",
       "    }\n",
       "</style>\n",
       "<table border=\"1\" class=\"dataframe\">\n",
       "  <thead>\n",
       "    <tr style=\"text-align: right;\">\n",
       "      <th></th>\n",
       "      <th>AA</th>\n",
       "      <th>AA_sqrt</th>\n",
       "      <th>AAl</th>\n",
       "      <th>AAl_sqrt</th>\n",
       "      <th>AAr</th>\n",
       "      <th>AAr_sqrt</th>\n",
       "      <th>ALIPH</th>\n",
       "      <th>AP_ACE</th>\n",
       "      <th>AP_DARS</th>\n",
       "      <th>AP_DCOMPLEX</th>\n",
       "      <th>AP_DDG_U</th>\n",
       "      <th>AP_DDG_W</th>\n",
       "      <th>AP_DFIRE2</th>\n",
       "      <th>AP_DOPE</th>\n",
       "      <th>AP_DOPE_HR</th>\n",
       "      <th>AP_GEOMETRIC</th>\n",
       "      <th>AP_GOAP_ALL</th>\n",
       "      <th>AP_GOAP_DF</th>\n",
       "      <th>AP_GOAP_G</th>\n",
       "      <th>AP_MPS</th>\n",
       "      <th>AP_OPUS_PSP</th>\n",
       "      <th>AP_PISA</th>\n",
       "      <th>AP_T1</th>\n",
       "      <th>AP_T2</th>\n",
       "      <th>AP_URS</th>\n",
       "      <th>AP_W1</th>\n",
       "      <th>AP_calRW</th>\n",
       "      <th>AP_calRWp</th>\n",
       "      <th>AP_dDFIRE</th>\n",
       "      <th>AlAl</th>\n",
       "      <th>AlAl_sqrt</th>\n",
       "      <th>AlAr</th>\n",
       "      <th>AlAr_sqrt</th>\n",
       "      <th>ArAr</th>\n",
       "      <th>ArAr_sqrt</th>\n",
       "      <th>BSA</th>\n",
       "      <th>BSA_Apolar</th>\n",
       "      <th>BSA_Polar</th>\n",
       "      <th>CA</th>\n",
       "      <th>CA_sqrt</th>\n",
       "      <th>CAl</th>\n",
       "      <th>CAl_sqrt</th>\n",
       "      <th>CAr</th>\n",
       "      <th>CAr_sqrt</th>\n",
       "      <th>CC</th>\n",
       "      <th>CC_sqrt</th>\n",
       "      <th>CONSRANK_val</th>\n",
       "      <th>CP</th>\n",
       "      <th>CP_BFKV</th>\n",
       "      <th>CP_BL</th>\n",
       "      <th>CP_BT</th>\n",
       "      <th>CP_D1</th>\n",
       "      <th>CP_DDG_U</th>\n",
       "      <th>CP_DDG_W</th>\n",
       "      <th>CP_E3DC_CB</th>\n",
       "      <th>CP_E3DC_MIN</th>\n",
       "      <th>CP_E3D_CB</th>\n",
       "      <th>CP_E3D_MIN</th>\n",
       "      <th>CP_ELOCAL_CB</th>\n",
       "      <th>CP_ELOCAL_MIN</th>\n",
       "      <th>CP_EPAIR_CB</th>\n",
       "      <th>CP_EPAIR_MIN</th>\n",
       "      <th>CP_ES3DC_CB</th>\n",
       "      <th>CP_ES3DC_MIN</th>\n",
       "      <th>CP_GKS</th>\n",
       "      <th>CP_HLPL</th>\n",
       "      <th>CP_MJ1</th>\n",
       "      <th>CP_MJ2</th>\n",
       "      <th>CP_MJ2h</th>\n",
       "      <th>CP_MJ3h</th>\n",
       "      <th>CP_MJPL</th>\n",
       "      <th>CP_MS</th>\n",
       "      <th>CP_MSBM</th>\n",
       "      <th>CP_Qa</th>\n",
       "      <th>CP_Qm</th>\n",
       "      <th>CP_Qp</th>\n",
       "      <th>CP_RMFCA</th>\n",
       "      <th>CP_RMFCEN1</th>\n",
       "      <th>CP_RMFCEN2</th>\n",
       "      <th>CP_RO</th>\n",
       "      <th>CP_SJKG</th>\n",
       "      <th>CP_SKOIP</th>\n",
       "      <th>CP_SKOa</th>\n",
       "      <th>CP_SKOb</th>\n",
       "      <th>CP_TB</th>\n",
       "      <th>CP_TD</th>\n",
       "      <th>CP_TEl</th>\n",
       "      <th>CP_TEs</th>\n",
       "      <th>CP_TS</th>\n",
       "      <th>CP_TSC</th>\n",
       "      <th>CP_VD</th>\n",
       "      <th>CP_Z3DC_CB</th>\n",
       "      <th>CP_Z3DC_MIN</th>\n",
       "      <th>CP_ZLOCAL_CB</th>\n",
       "      <th>CP_ZLOCAL_MIN</th>\n",
       "      <th>CP_ZPAIR_CB</th>\n",
       "      <th>CP_ZPAIR_MIN</th>\n",
       "      <th>CP_ZS3DC_CB</th>\n",
       "      <th>CP_ZS3DC_MIN</th>\n",
       "      <th>CP_sqrt</th>\n",
       "      <th>DDG_V</th>\n",
       "      <th>DESOLV</th>\n",
       "      <th>DOKB</th>\n",
       "      <th>ELE</th>\n",
       "      <th>FIREDOCK</th>\n",
       "      <th>FIREDOCK_AB</th>\n",
       "      <th>FIREDOCK_EI</th>\n",
       "      <th>HBOND</th>\n",
       "      <th>INSIDE</th>\n",
       "      <th>NSC</th>\n",
       "      <th>Nis_Apolar</th>\n",
       "      <th>Nis_Polar</th>\n",
       "      <th>ODA</th>\n",
       "      <th>PA</th>\n",
       "      <th>PA_sqrt</th>\n",
       "      <th>PAl</th>\n",
       "      <th>PAl_sqrt</th>\n",
       "      <th>PAr</th>\n",
       "      <th>PAr_sqrt</th>\n",
       "      <th>PI_PI</th>\n",
       "      <th>PP</th>\n",
       "      <th>PP_sqrt</th>\n",
       "      <th>PROPNSTS</th>\n",
       "      <th>PYDOCK_TOT</th>\n",
       "      <th>SIPPER</th>\n",
       "      <th>VDW</th>\n",
       "      <th>ZRANK</th>\n",
       "      <th>ZRANK2</th>\n",
       "      <th>avg_cips_AA</th>\n",
       "      <th>avg_cips_AAl</th>\n",
       "      <th>avg_cips_AAr</th>\n",
       "      <th>avg_cips_AlAl</th>\n",
       "      <th>avg_cips_AlAr</th>\n",
       "      <th>avg_cips_ArAr</th>\n",
       "      <th>avg_cips_CA</th>\n",
       "      <th>avg_cips_CAl</th>\n",
       "      <th>avg_cips_CAr</th>\n",
       "      <th>avg_cips_CC</th>\n",
       "      <th>avg_cips_CP</th>\n",
       "      <th>avg_cips_PA</th>\n",
       "      <th>avg_cips_PAl</th>\n",
       "      <th>avg_cips_PAr</th>\n",
       "      <th>avg_cips_PP</th>\n",
       "      <th>cips_AA</th>\n",
       "      <th>cips_AAl</th>\n",
       "      <th>cips_AAr</th>\n",
       "      <th>cips_AlAl</th>\n",
       "      <th>cips_AlAr</th>\n",
       "      <th>cips_ArAr</th>\n",
       "      <th>cips_CA</th>\n",
       "      <th>cips_CAl</th>\n",
       "      <th>cips_CC</th>\n",
       "      <th>cips_CP</th>\n",
       "      <th>cips_PA</th>\n",
       "      <th>cips_PAl</th>\n",
       "      <th>cips_PP</th>\n",
       "      <th>num_of_contacs</th>\n",
       "    </tr>\n",
       "    <tr>\n",
       "      <th>npartitions=1</th>\n",
       "      <th></th>\n",
       "      <th></th>\n",
       "      <th></th>\n",
       "      <th></th>\n",
       "      <th></th>\n",
       "      <th></th>\n",
       "      <th></th>\n",
       "      <th></th>\n",
       "      <th></th>\n",
       "      <th></th>\n",
       "      <th></th>\n",
       "      <th></th>\n",
       "      <th></th>\n",
       "      <th></th>\n",
       "      <th></th>\n",
       "      <th></th>\n",
       "      <th></th>\n",
       "      <th></th>\n",
       "      <th></th>\n",
       "      <th></th>\n",
       "      <th></th>\n",
       "      <th></th>\n",
       "      <th></th>\n",
       "      <th></th>\n",
       "      <th></th>\n",
       "      <th></th>\n",
       "      <th></th>\n",
       "      <th></th>\n",
       "      <th></th>\n",
       "      <th></th>\n",
       "      <th></th>\n",
       "      <th></th>\n",
       "      <th></th>\n",
       "      <th></th>\n",
       "      <th></th>\n",
       "      <th></th>\n",
       "      <th></th>\n",
       "      <th></th>\n",
       "      <th></th>\n",
       "      <th></th>\n",
       "      <th></th>\n",
       "      <th></th>\n",
       "      <th></th>\n",
       "      <th></th>\n",
       "      <th></th>\n",
       "      <th></th>\n",
       "      <th></th>\n",
       "      <th></th>\n",
       "      <th></th>\n",
       "      <th></th>\n",
       "      <th></th>\n",
       "      <th></th>\n",
       "      <th></th>\n",
       "      <th></th>\n",
       "      <th></th>\n",
       "      <th></th>\n",
       "      <th></th>\n",
       "      <th></th>\n",
       "      <th></th>\n",
       "      <th></th>\n",
       "      <th></th>\n",
       "      <th></th>\n",
       "      <th></th>\n",
       "      <th></th>\n",
       "      <th></th>\n",
       "      <th></th>\n",
       "      <th></th>\n",
       "      <th></th>\n",
       "      <th></th>\n",
       "      <th></th>\n",
       "      <th></th>\n",
       "      <th></th>\n",
       "      <th></th>\n",
       "      <th></th>\n",
       "      <th></th>\n",
       "      <th></th>\n",
       "      <th></th>\n",
       "      <th></th>\n",
       "      <th></th>\n",
       "      <th></th>\n",
       "      <th></th>\n",
       "      <th></th>\n",
       "      <th></th>\n",
       "      <th></th>\n",
       "      <th></th>\n",
       "      <th></th>\n",
       "      <th></th>\n",
       "      <th></th>\n",
       "      <th></th>\n",
       "      <th></th>\n",
       "      <th></th>\n",
       "      <th></th>\n",
       "      <th></th>\n",
       "      <th></th>\n",
       "      <th></th>\n",
       "      <th></th>\n",
       "      <th></th>\n",
       "      <th></th>\n",
       "      <th></th>\n",
       "      <th></th>\n",
       "      <th></th>\n",
       "      <th></th>\n",
       "      <th></th>\n",
       "      <th></th>\n",
       "      <th></th>\n",
       "      <th></th>\n",
       "      <th></th>\n",
       "      <th></th>\n",
       "      <th></th>\n",
       "      <th></th>\n",
       "      <th></th>\n",
       "      <th></th>\n",
       "      <th></th>\n",
       "      <th></th>\n",
       "      <th></th>\n",
       "      <th></th>\n",
       "      <th></th>\n",
       "      <th></th>\n",
       "      <th></th>\n",
       "      <th></th>\n",
       "      <th></th>\n",
       "      <th></th>\n",
       "      <th></th>\n",
       "      <th></th>\n",
       "      <th></th>\n",
       "      <th></th>\n",
       "      <th></th>\n",
       "      <th></th>\n",
       "      <th></th>\n",
       "      <th></th>\n",
       "      <th></th>\n",
       "      <th></th>\n",
       "      <th></th>\n",
       "      <th></th>\n",
       "      <th></th>\n",
       "      <th></th>\n",
       "      <th></th>\n",
       "      <th></th>\n",
       "      <th></th>\n",
       "      <th></th>\n",
       "      <th></th>\n",
       "      <th></th>\n",
       "      <th></th>\n",
       "      <th></th>\n",
       "      <th></th>\n",
       "      <th></th>\n",
       "      <th></th>\n",
       "      <th></th>\n",
       "      <th></th>\n",
       "      <th></th>\n",
       "      <th></th>\n",
       "      <th></th>\n",
       "      <th></th>\n",
       "      <th></th>\n",
       "      <th></th>\n",
       "      <th></th>\n",
       "      <th></th>\n",
       "    </tr>\n",
       "  </thead>\n",
       "  <tbody>\n",
       "    <tr>\n",
       "      <th></th>\n",
       "      <td>float64</td>\n",
       "      <td>float64</td>\n",
       "      <td>float64</td>\n",
       "      <td>float64</td>\n",
       "      <td>float64</td>\n",
       "      <td>float64</td>\n",
       "      <td>float64</td>\n",
       "      <td>float64</td>\n",
       "      <td>float64</td>\n",
       "      <td>float64</td>\n",
       "      <td>float64</td>\n",
       "      <td>float64</td>\n",
       "      <td>float64</td>\n",
       "      <td>float64</td>\n",
       "      <td>float64</td>\n",
       "      <td>float64</td>\n",
       "      <td>float64</td>\n",
       "      <td>float64</td>\n",
       "      <td>float64</td>\n",
       "      <td>float64</td>\n",
       "      <td>float64</td>\n",
       "      <td>float64</td>\n",
       "      <td>float64</td>\n",
       "      <td>float64</td>\n",
       "      <td>float64</td>\n",
       "      <td>float64</td>\n",
       "      <td>float64</td>\n",
       "      <td>float64</td>\n",
       "      <td>float64</td>\n",
       "      <td>float64</td>\n",
       "      <td>float64</td>\n",
       "      <td>float64</td>\n",
       "      <td>float64</td>\n",
       "      <td>float64</td>\n",
       "      <td>float64</td>\n",
       "      <td>float64</td>\n",
       "      <td>float64</td>\n",
       "      <td>float64</td>\n",
       "      <td>float64</td>\n",
       "      <td>float64</td>\n",
       "      <td>float64</td>\n",
       "      <td>float64</td>\n",
       "      <td>float64</td>\n",
       "      <td>float64</td>\n",
       "      <td>float64</td>\n",
       "      <td>float64</td>\n",
       "      <td>float64</td>\n",
       "      <td>float64</td>\n",
       "      <td>float64</td>\n",
       "      <td>float64</td>\n",
       "      <td>float64</td>\n",
       "      <td>float64</td>\n",
       "      <td>float64</td>\n",
       "      <td>float64</td>\n",
       "      <td>float64</td>\n",
       "      <td>float64</td>\n",
       "      <td>float64</td>\n",
       "      <td>float64</td>\n",
       "      <td>float64</td>\n",
       "      <td>float64</td>\n",
       "      <td>float64</td>\n",
       "      <td>float64</td>\n",
       "      <td>float64</td>\n",
       "      <td>float64</td>\n",
       "      <td>float64</td>\n",
       "      <td>float64</td>\n",
       "      <td>float64</td>\n",
       "      <td>float64</td>\n",
       "      <td>float64</td>\n",
       "      <td>float64</td>\n",
       "      <td>float64</td>\n",
       "      <td>float64</td>\n",
       "      <td>float64</td>\n",
       "      <td>float64</td>\n",
       "      <td>float64</td>\n",
       "      <td>float64</td>\n",
       "      <td>float64</td>\n",
       "      <td>float64</td>\n",
       "      <td>float64</td>\n",
       "      <td>float64</td>\n",
       "      <td>float64</td>\n",
       "      <td>float64</td>\n",
       "      <td>float64</td>\n",
       "      <td>float64</td>\n",
       "      <td>float64</td>\n",
       "      <td>float64</td>\n",
       "      <td>float64</td>\n",
       "      <td>float64</td>\n",
       "      <td>float64</td>\n",
       "      <td>float64</td>\n",
       "      <td>float64</td>\n",
       "      <td>float64</td>\n",
       "      <td>float64</td>\n",
       "      <td>float64</td>\n",
       "      <td>float64</td>\n",
       "      <td>float64</td>\n",
       "      <td>float64</td>\n",
       "      <td>float64</td>\n",
       "      <td>float64</td>\n",
       "      <td>float64</td>\n",
       "      <td>float64</td>\n",
       "      <td>float64</td>\n",
       "      <td>float64</td>\n",
       "      <td>float64</td>\n",
       "      <td>float64</td>\n",
       "      <td>float64</td>\n",
       "      <td>float64</td>\n",
       "      <td>float64</td>\n",
       "      <td>float64</td>\n",
       "      <td>float64</td>\n",
       "      <td>float64</td>\n",
       "      <td>float64</td>\n",
       "      <td>float64</td>\n",
       "      <td>float64</td>\n",
       "      <td>float64</td>\n",
       "      <td>float64</td>\n",
       "      <td>float64</td>\n",
       "      <td>float64</td>\n",
       "      <td>float64</td>\n",
       "      <td>float64</td>\n",
       "      <td>float64</td>\n",
       "      <td>float64</td>\n",
       "      <td>float64</td>\n",
       "      <td>float64</td>\n",
       "      <td>float64</td>\n",
       "      <td>float64</td>\n",
       "      <td>float64</td>\n",
       "      <td>float64</td>\n",
       "      <td>float64</td>\n",
       "      <td>float64</td>\n",
       "      <td>float64</td>\n",
       "      <td>float64</td>\n",
       "      <td>float64</td>\n",
       "      <td>float64</td>\n",
       "      <td>float64</td>\n",
       "      <td>float64</td>\n",
       "      <td>float64</td>\n",
       "      <td>float64</td>\n",
       "      <td>float64</td>\n",
       "      <td>float64</td>\n",
       "      <td>float64</td>\n",
       "      <td>float64</td>\n",
       "      <td>float64</td>\n",
       "      <td>float64</td>\n",
       "      <td>float64</td>\n",
       "      <td>float64</td>\n",
       "      <td>float64</td>\n",
       "      <td>float64</td>\n",
       "      <td>float64</td>\n",
       "      <td>float64</td>\n",
       "      <td>float64</td>\n",
       "      <td>float64</td>\n",
       "      <td>float64</td>\n",
       "      <td>float64</td>\n",
       "      <td>float64</td>\n",
       "      <td>float64</td>\n",
       "      <td>float64</td>\n",
       "    </tr>\n",
       "    <tr>\n",
       "      <th></th>\n",
       "      <td>...</td>\n",
       "      <td>...</td>\n",
       "      <td>...</td>\n",
       "      <td>...</td>\n",
       "      <td>...</td>\n",
       "      <td>...</td>\n",
       "      <td>...</td>\n",
       "      <td>...</td>\n",
       "      <td>...</td>\n",
       "      <td>...</td>\n",
       "      <td>...</td>\n",
       "      <td>...</td>\n",
       "      <td>...</td>\n",
       "      <td>...</td>\n",
       "      <td>...</td>\n",
       "      <td>...</td>\n",
       "      <td>...</td>\n",
       "      <td>...</td>\n",
       "      <td>...</td>\n",
       "      <td>...</td>\n",
       "      <td>...</td>\n",
       "      <td>...</td>\n",
       "      <td>...</td>\n",
       "      <td>...</td>\n",
       "      <td>...</td>\n",
       "      <td>...</td>\n",
       "      <td>...</td>\n",
       "      <td>...</td>\n",
       "      <td>...</td>\n",
       "      <td>...</td>\n",
       "      <td>...</td>\n",
       "      <td>...</td>\n",
       "      <td>...</td>\n",
       "      <td>...</td>\n",
       "      <td>...</td>\n",
       "      <td>...</td>\n",
       "      <td>...</td>\n",
       "      <td>...</td>\n",
       "      <td>...</td>\n",
       "      <td>...</td>\n",
       "      <td>...</td>\n",
       "      <td>...</td>\n",
       "      <td>...</td>\n",
       "      <td>...</td>\n",
       "      <td>...</td>\n",
       "      <td>...</td>\n",
       "      <td>...</td>\n",
       "      <td>...</td>\n",
       "      <td>...</td>\n",
       "      <td>...</td>\n",
       "      <td>...</td>\n",
       "      <td>...</td>\n",
       "      <td>...</td>\n",
       "      <td>...</td>\n",
       "      <td>...</td>\n",
       "      <td>...</td>\n",
       "      <td>...</td>\n",
       "      <td>...</td>\n",
       "      <td>...</td>\n",
       "      <td>...</td>\n",
       "      <td>...</td>\n",
       "      <td>...</td>\n",
       "      <td>...</td>\n",
       "      <td>...</td>\n",
       "      <td>...</td>\n",
       "      <td>...</td>\n",
       "      <td>...</td>\n",
       "      <td>...</td>\n",
       "      <td>...</td>\n",
       "      <td>...</td>\n",
       "      <td>...</td>\n",
       "      <td>...</td>\n",
       "      <td>...</td>\n",
       "      <td>...</td>\n",
       "      <td>...</td>\n",
       "      <td>...</td>\n",
       "      <td>...</td>\n",
       "      <td>...</td>\n",
       "      <td>...</td>\n",
       "      <td>...</td>\n",
       "      <td>...</td>\n",
       "      <td>...</td>\n",
       "      <td>...</td>\n",
       "      <td>...</td>\n",
       "      <td>...</td>\n",
       "      <td>...</td>\n",
       "      <td>...</td>\n",
       "      <td>...</td>\n",
       "      <td>...</td>\n",
       "      <td>...</td>\n",
       "      <td>...</td>\n",
       "      <td>...</td>\n",
       "      <td>...</td>\n",
       "      <td>...</td>\n",
       "      <td>...</td>\n",
       "      <td>...</td>\n",
       "      <td>...</td>\n",
       "      <td>...</td>\n",
       "      <td>...</td>\n",
       "      <td>...</td>\n",
       "      <td>...</td>\n",
       "      <td>...</td>\n",
       "      <td>...</td>\n",
       "      <td>...</td>\n",
       "      <td>...</td>\n",
       "      <td>...</td>\n",
       "      <td>...</td>\n",
       "      <td>...</td>\n",
       "      <td>...</td>\n",
       "      <td>...</td>\n",
       "      <td>...</td>\n",
       "      <td>...</td>\n",
       "      <td>...</td>\n",
       "      <td>...</td>\n",
       "      <td>...</td>\n",
       "      <td>...</td>\n",
       "      <td>...</td>\n",
       "      <td>...</td>\n",
       "      <td>...</td>\n",
       "      <td>...</td>\n",
       "      <td>...</td>\n",
       "      <td>...</td>\n",
       "      <td>...</td>\n",
       "      <td>...</td>\n",
       "      <td>...</td>\n",
       "      <td>...</td>\n",
       "      <td>...</td>\n",
       "      <td>...</td>\n",
       "      <td>...</td>\n",
       "      <td>...</td>\n",
       "      <td>...</td>\n",
       "      <td>...</td>\n",
       "      <td>...</td>\n",
       "      <td>...</td>\n",
       "      <td>...</td>\n",
       "      <td>...</td>\n",
       "      <td>...</td>\n",
       "      <td>...</td>\n",
       "      <td>...</td>\n",
       "      <td>...</td>\n",
       "      <td>...</td>\n",
       "      <td>...</td>\n",
       "      <td>...</td>\n",
       "      <td>...</td>\n",
       "      <td>...</td>\n",
       "      <td>...</td>\n",
       "      <td>...</td>\n",
       "      <td>...</td>\n",
       "      <td>...</td>\n",
       "      <td>...</td>\n",
       "      <td>...</td>\n",
       "      <td>...</td>\n",
       "      <td>...</td>\n",
       "      <td>...</td>\n",
       "      <td>...</td>\n",
       "      <td>...</td>\n",
       "      <td>...</td>\n",
       "    </tr>\n",
       "  </tbody>\n",
       "</table>\n",
       "</div>\n",
       "<div>Dask Name: describe-numeric, 1164 tasks</div>"
      ],
      "text/plain": [
       "Dask DataFrame Structure:\n",
       "                    AA  AA_sqrt      AAl AAl_sqrt      AAr AAr_sqrt    ALIPH   AP_ACE  AP_DARS AP_DCOMPLEX AP_DDG_U AP_DDG_W AP_DFIRE2  AP_DOPE AP_DOPE_HR AP_GEOMETRIC AP_GOAP_ALL AP_GOAP_DF AP_GOAP_G   AP_MPS AP_OPUS_PSP  AP_PISA    AP_T1    AP_T2   AP_URS    AP_W1 AP_calRW AP_calRWp AP_dDFIRE     AlAl AlAl_sqrt     AlAr AlAr_sqrt     ArAr ArAr_sqrt      BSA BSA_Apolar BSA_Polar       CA  CA_sqrt      CAl CAl_sqrt      CAr CAr_sqrt       CC  CC_sqrt CONSRANK_val       CP  CP_BFKV    CP_BL    CP_BT    CP_D1 CP_DDG_U CP_DDG_W CP_E3DC_CB CP_E3DC_MIN CP_E3D_CB CP_E3D_MIN CP_ELOCAL_CB CP_ELOCAL_MIN CP_EPAIR_CB CP_EPAIR_MIN CP_ES3DC_CB CP_ES3DC_MIN   CP_GKS  CP_HLPL   CP_MJ1   CP_MJ2  CP_MJ2h  CP_MJ3h  CP_MJPL    CP_MS  CP_MSBM    CP_Qa    CP_Qm    CP_Qp CP_RMFCA CP_RMFCEN1 CP_RMFCEN2    CP_RO  CP_SJKG CP_SKOIP  CP_SKOa  CP_SKOb    CP_TB    CP_TD   CP_TEl   CP_TEs    CP_TS   CP_TSC    CP_VD CP_Z3DC_CB CP_Z3DC_MIN CP_ZLOCAL_CB CP_ZLOCAL_MIN CP_ZPAIR_CB CP_ZPAIR_MIN CP_ZS3DC_CB CP_ZS3DC_MIN  CP_sqrt    DDG_V   DESOLV     DOKB      ELE FIREDOCK FIREDOCK_AB FIREDOCK_EI    HBOND   INSIDE      NSC Nis_Apolar Nis_Polar      ODA       PA  PA_sqrt      PAl PAl_sqrt      PAr PAr_sqrt    PI_PI       PP  PP_sqrt PROPNSTS PYDOCK_TOT   SIPPER      VDW    ZRANK   ZRANK2 avg_cips_AA avg_cips_AAl avg_cips_AAr avg_cips_AlAl avg_cips_AlAr avg_cips_ArAr avg_cips_CA avg_cips_CAl avg_cips_CAr avg_cips_CC avg_cips_CP avg_cips_PA avg_cips_PAl avg_cips_PAr avg_cips_PP  cips_AA cips_AAl cips_AAr cips_AlAl cips_AlAr cips_ArAr  cips_CA cips_CAl  cips_CC  cips_CP  cips_PA cips_PAl  cips_PP num_of_contacs\n",
       "npartitions=1                                                                                                                                                                                                                                                                                                                                                                                                                                                                                                                                                                                                                                                                                                                                                                                                                                                                                                                                                                                                                                                                                                                                                                                                                                                                                                                                                                                                                                                                                                                                                                                                                                                \n",
       "               float64  float64  float64  float64  float64  float64  float64  float64  float64     float64  float64  float64   float64  float64    float64      float64     float64    float64   float64  float64     float64  float64  float64  float64  float64  float64  float64   float64   float64  float64   float64  float64   float64  float64   float64  float64    float64   float64  float64  float64  float64  float64  float64  float64  float64  float64      float64  float64  float64  float64  float64  float64  float64  float64    float64     float64   float64    float64      float64       float64     float64      float64     float64      float64  float64  float64  float64  float64  float64  float64  float64  float64  float64  float64  float64  float64  float64    float64    float64  float64  float64  float64  float64  float64  float64  float64  float64  float64  float64  float64  float64    float64     float64      float64       float64     float64      float64     float64      float64  float64  float64  float64  float64  float64  float64     float64     float64  float64  float64  float64    float64   float64  float64  float64  float64  float64  float64  float64  float64  float64  float64  float64  float64    float64  float64  float64  float64  float64     float64      float64      float64       float64       float64       float64     float64      float64      float64     float64     float64     float64      float64      float64     float64  float64  float64  float64   float64   float64   float64  float64  float64  float64  float64  float64  float64  float64        float64\n",
       "                   ...      ...      ...      ...      ...      ...      ...      ...      ...         ...      ...      ...       ...      ...        ...          ...         ...        ...       ...      ...         ...      ...      ...      ...      ...      ...      ...       ...       ...      ...       ...      ...       ...      ...       ...      ...        ...       ...      ...      ...      ...      ...      ...      ...      ...      ...          ...      ...      ...      ...      ...      ...      ...      ...        ...         ...       ...        ...          ...           ...         ...          ...         ...          ...      ...      ...      ...      ...      ...      ...      ...      ...      ...      ...      ...      ...      ...        ...        ...      ...      ...      ...      ...      ...      ...      ...      ...      ...      ...      ...      ...        ...         ...          ...           ...         ...          ...         ...          ...      ...      ...      ...      ...      ...      ...         ...         ...      ...      ...      ...        ...       ...      ...      ...      ...      ...      ...      ...      ...      ...      ...      ...      ...        ...      ...      ...      ...      ...         ...          ...          ...           ...           ...           ...         ...          ...          ...         ...         ...         ...          ...          ...         ...      ...      ...      ...       ...       ...       ...      ...      ...      ...      ...      ...      ...      ...            ...\n",
       "Dask Name: describe-numeric, 1164 tasks"
      ]
     },
     "execution_count": 160,
     "metadata": {},
     "output_type": "execute_result"
    }
   ],
   "source": [
    "X_train_fs.describe()"
   ]
  },
  {
   "cell_type": "code",
   "execution_count": 161,
   "id": "deluxe-interest",
   "metadata": {},
   "outputs": [],
   "source": [
    "X_train_fs = X_train_fs.to_dask_array()\n"
   ]
  },
  {
   "cell_type": "code",
   "execution_count": 162,
   "id": "curious-division",
   "metadata": {},
   "outputs": [
    {
     "data": {
      "text/html": [
       "<table>\n",
       "<tr>\n",
       "<td>\n",
       "<table>\n",
       "  <thead>\n",
       "    <tr><td> </td><th> Array </th><th> Chunk </th></tr>\n",
       "  </thead>\n",
       "  <tbody>\n",
       "    <tr><th> Bytes </th><td> 70.02 MB </td> <td> 40.05 MB </td></tr>\n",
       "    <tr><th> Shape </th><td> (55748, 157) </td> <td> (31885, 157) </td></tr>\n",
       "    <tr><th> Count </th><td> 43 Tasks </td><td> 2 Chunks </td></tr>\n",
       "    <tr><th> Type </th><td> float64 </td><td> numpy.ndarray </td></tr>\n",
       "  </tbody>\n",
       "</table>\n",
       "</td>\n",
       "<td>\n",
       "<svg width=\"75\" height=\"170\" style=\"stroke:rgb(0,0,0);stroke-width:1\" >\n",
       "\n",
       "  <!-- Horizontal lines -->\n",
       "  <line x1=\"0\" y1=\"0\" x2=\"25\" y2=\"0\" style=\"stroke-width:2\" />\n",
       "  <line x1=\"0\" y1=\"51\" x2=\"25\" y2=\"51\" />\n",
       "  <line x1=\"0\" y1=\"120\" x2=\"25\" y2=\"120\" style=\"stroke-width:2\" />\n",
       "\n",
       "  <!-- Vertical lines -->\n",
       "  <line x1=\"0\" y1=\"0\" x2=\"0\" y2=\"120\" style=\"stroke-width:2\" />\n",
       "  <line x1=\"25\" y1=\"0\" x2=\"25\" y2=\"120\" style=\"stroke-width:2\" />\n",
       "\n",
       "  <!-- Colored Rectangle -->\n",
       "  <polygon points=\"0.000000,0.000000 25.412617,0.000000 25.412617,120.000000 0.000000,120.000000\" style=\"fill:#ECB172A0;stroke-width:0\"/>\n",
       "\n",
       "  <!-- Text -->\n",
       "  <text x=\"12.706308\" y=\"140.000000\" font-size=\"1.0rem\" font-weight=\"100\" text-anchor=\"middle\" >157</text>\n",
       "  <text x=\"45.412617\" y=\"60.000000\" font-size=\"1.0rem\" font-weight=\"100\" text-anchor=\"middle\" transform=\"rotate(-90,45.412617,60.000000)\">55748</text>\n",
       "</svg>\n",
       "</td>\n",
       "</tr>\n",
       "</table>"
      ],
      "text/plain": [
       "dask.array<values, shape=(55748, 157), dtype=float64, chunksize=(31885, 157), chunktype=numpy.ndarray>"
      ]
     },
     "execution_count": 162,
     "metadata": {},
     "output_type": "execute_result"
    }
   ],
   "source": [
    "X_train_fs.compute_chunk_sizes()"
   ]
  },
  {
   "cell_type": "code",
   "execution_count": 163,
   "id": "advisory-difference",
   "metadata": {},
   "outputs": [],
   "source": [
    "X_train_fs = X_train_fs.rechunk(chunks=chunk_size)"
   ]
  },
  {
   "cell_type": "code",
   "execution_count": 164,
   "id": "intensive-definition",
   "metadata": {},
   "outputs": [],
   "source": [
    "# X_train_fs"
   ]
  },
  {
   "cell_type": "code",
   "execution_count": 165,
   "id": "intense-ultimate",
   "metadata": {},
   "outputs": [],
   "source": [
    "y_train = y_train.to_dask_array()"
   ]
  },
  {
   "cell_type": "code",
   "execution_count": 166,
   "id": "ordinary-vault",
   "metadata": {},
   "outputs": [
    {
     "data": {
      "text/html": [
       "<table>\n",
       "<tr>\n",
       "<td>\n",
       "<table>\n",
       "  <thead>\n",
       "    <tr><td> </td><th> Array </th><th> Chunk </th></tr>\n",
       "  </thead>\n",
       "  <tbody>\n",
       "    <tr><th> Bytes </th><td> 445.98 kB </td> <td> 255.08 kB </td></tr>\n",
       "    <tr><th> Shape </th><td> (55748,) </td> <td> (31885,) </td></tr>\n",
       "    <tr><th> Count </th><td> 35 Tasks </td><td> 2 Chunks </td></tr>\n",
       "    <tr><th> Type </th><td> float64 </td><td> numpy.ndarray </td></tr>\n",
       "  </tbody>\n",
       "</table>\n",
       "</td>\n",
       "<td>\n",
       "<svg width=\"170\" height=\"75\" style=\"stroke:rgb(0,0,0);stroke-width:1\" >\n",
       "\n",
       "  <!-- Horizontal lines -->\n",
       "  <line x1=\"0\" y1=\"0\" x2=\"120\" y2=\"0\" style=\"stroke-width:2\" />\n",
       "  <line x1=\"0\" y1=\"25\" x2=\"120\" y2=\"25\" style=\"stroke-width:2\" />\n",
       "\n",
       "  <!-- Vertical lines -->\n",
       "  <line x1=\"0\" y1=\"0\" x2=\"0\" y2=\"25\" style=\"stroke-width:2\" />\n",
       "  <line x1=\"51\" y1=\"0\" x2=\"51\" y2=\"25\" />\n",
       "  <line x1=\"120\" y1=\"0\" x2=\"120\" y2=\"25\" style=\"stroke-width:2\" />\n",
       "\n",
       "  <!-- Colored Rectangle -->\n",
       "  <polygon points=\"0.000000,0.000000 120.000000,0.000000 120.000000,25.412617 0.000000,25.412617\" style=\"fill:#ECB172A0;stroke-width:0\"/>\n",
       "\n",
       "  <!-- Text -->\n",
       "  <text x=\"60.000000\" y=\"45.412617\" font-size=\"1.0rem\" font-weight=\"100\" text-anchor=\"middle\" >55748</text>\n",
       "  <text x=\"140.000000\" y=\"12.706308\" font-size=\"1.0rem\" font-weight=\"100\" text-anchor=\"middle\" transform=\"rotate(0,140.000000,12.706308)\">1</text>\n",
       "</svg>\n",
       "</td>\n",
       "</tr>\n",
       "</table>"
      ],
      "text/plain": [
       "dask.array<values, shape=(55748,), dtype=float64, chunksize=(31885,), chunktype=numpy.ndarray>"
      ]
     },
     "execution_count": 166,
     "metadata": {},
     "output_type": "execute_result"
    }
   ],
   "source": [
    "y_train.compute_chunk_sizes()"
   ]
  },
  {
   "cell_type": "code",
   "execution_count": 167,
   "id": "choice-tonight",
   "metadata": {},
   "outputs": [],
   "source": [
    "y_train = y_train.rechunk(chunks=chunk_size)"
   ]
  },
  {
   "cell_type": "code",
   "execution_count": 168,
   "id": "tender-producer",
   "metadata": {},
   "outputs": [],
   "source": [
    "# y_train"
   ]
  },
  {
   "cell_type": "code",
   "execution_count": null,
   "id": "supposed-specific",
   "metadata": {},
   "outputs": [],
   "source": []
  },
  {
   "cell_type": "code",
   "execution_count": 169,
   "id": "limited-joseph",
   "metadata": {},
   "outputs": [],
   "source": [
    "# Create the random search model\n",
    "rsnn = HyperbandSearchCV(estimator=estimator, parameters=params ,verbose=True,\n",
    "                         max_iter=max_iter,patience=True,\n",
    "                         random_state=32,aggressiveness=4)"
   ]
  },
  {
   "cell_type": "code",
   "execution_count": 170,
   "id": "traditional-granny",
   "metadata": {},
   "outputs": [
    {
     "data": {
      "text/plain": [
       "30"
      ]
     },
     "execution_count": 170,
     "metadata": {},
     "output_type": "execute_result"
    }
   ],
   "source": [
    "rsnn.metadata[\"partial_fit_calls\"]"
   ]
  },
  {
   "cell_type": "code",
   "execution_count": 171,
   "id": "removable-telescope",
   "metadata": {},
   "outputs": [
    {
     "name": "stdout",
     "output_type": "stream",
     "text": [
      "[CV, bracket=1] creating 4 models\n"
     ]
    },
    {
     "name": "stderr",
     "output_type": "stream",
     "text": [
      "INFO:dask_ml.model_selection:[CV, bracket=1] creating 4 models\n"
     ]
    },
    {
     "name": "stdout",
     "output_type": "stream",
     "text": [
      "[CV, bracket=0] creating 2 models\n"
     ]
    },
    {
     "name": "stderr",
     "output_type": "stream",
     "text": [
      "INFO:dask_ml.model_selection:[CV, bracket=0] creating 2 models\n"
     ]
    },
    {
     "name": "stdout",
     "output_type": "stream",
     "text": [
      "[CV, bracket=1] For training there are between 22299 and 22299 examples in each chunk\n"
     ]
    },
    {
     "name": "stderr",
     "output_type": "stream",
     "text": [
      "INFO:dask_ml.model_selection:[CV, bracket=1] For training there are between 22299 and 22299 examples in each chunk\n"
     ]
    },
    {
     "name": "stdout",
     "output_type": "stream",
     "text": [
      "[CV, bracket=0] For training there are between 22299 and 22299 examples in each chunk\n"
     ]
    },
    {
     "name": "stderr",
     "output_type": "stream",
     "text": [
      "INFO:dask_ml.model_selection:[CV, bracket=0] For training there are between 22299 and 22299 examples in each chunk\n"
     ]
    },
    {
     "name": "stdout",
     "output_type": "stream",
     "text": [
      "[CV, bracket=1] validation score of 0.4548 received after 1 partial_fit calls\n"
     ]
    },
    {
     "name": "stderr",
     "output_type": "stream",
     "text": [
      "INFO:dask_ml.model_selection:[CV, bracket=1] validation score of 0.4548 received after 1 partial_fit calls\n"
     ]
    },
    {
     "name": "stdout",
     "output_type": "stream",
     "text": [
      "[CV, bracket=0] validation score of 0.5385 received after 1 partial_fit calls\n"
     ]
    },
    {
     "name": "stderr",
     "output_type": "stream",
     "text": [
      "INFO:dask_ml.model_selection:[CV, bracket=0] validation score of 0.5385 received after 1 partial_fit calls\n"
     ]
    },
    {
     "name": "stdout",
     "output_type": "stream",
     "text": [
      "[CV, bracket=1] validation score of 0.5991 received after 2 partial_fit calls\n"
     ]
    },
    {
     "name": "stderr",
     "output_type": "stream",
     "text": [
      "INFO:dask_ml.model_selection:[CV, bracket=1] validation score of 0.5991 received after 2 partial_fit calls\n"
     ]
    },
    {
     "name": "stdout",
     "output_type": "stream",
     "text": [
      "[CV, bracket=1] validation score of 0.6376 received after 4 partial_fit calls\n"
     ]
    },
    {
     "name": "stderr",
     "output_type": "stream",
     "text": [
      "INFO:dask_ml.model_selection:[CV, bracket=1] validation score of 0.6376 received after 4 partial_fit calls\n"
     ]
    },
    {
     "name": "stdout",
     "output_type": "stream",
     "text": [
      "[CV, bracket=0] validation score of 0.6637 received after 3 partial_fit calls\n"
     ]
    },
    {
     "name": "stderr",
     "output_type": "stream",
     "text": [
      "INFO:dask_ml.model_selection:[CV, bracket=0] validation score of 0.6637 received after 3 partial_fit calls\n"
     ]
    },
    {
     "name": "stdout",
     "output_type": "stream",
     "text": [
      "[CV, bracket=1] validation score of 0.6286 received after 6 partial_fit calls\n"
     ]
    },
    {
     "name": "stderr",
     "output_type": "stream",
     "text": [
      "INFO:dask_ml.model_selection:[CV, bracket=1] validation score of 0.6286 received after 6 partial_fit calls\n",
      "INFO:dask_ml.model_selection:[CV, bracket=0] validation score of 0.6679 received after 5 partial_fit calls\n",
      "INFO:dask_ml.model_selection:[CV, bracket=0] validation score of 0.7266 received after 7 partial_fit calls\n",
      "INFO:dask_ml.model_selection:[CV, bracket=0] validation score of 0.7156 received after 8 partial_fit calls\n"
     ]
    },
    {
     "data": {
      "text/plain": [
       "HyperbandSearchCV(aggressiveness=4, estimator=MLPRegressor(), max_iter=8,\n",
       "                  parameters={'activation': ['relu', 'logistic', 'tanh'],\n",
       "                              'alpha': array([1.00000000e-06, 1.00693863e-06, 1.01392541e-06, 1.02096066e-06,\n",
       "       1.02804473e-06, 1.03517796e-06, 1.04236067e-06, 1.04959323e-06,\n",
       "       1.05687597e-06, 1.06420924e-06, 1.07159340e-06, 1.07902879e-06,\n",
       "       1.08651577e-06, 1.09405471e-06, 1....\n",
       "       9.01477631e-04, 9.07732653e-04, 9.14031075e-04, 9.20373200e-04,\n",
       "       9.26759330e-04, 9.33189772e-04, 9.39664831e-04, 9.46184819e-04,\n",
       "       9.52750047e-04, 9.59360829e-04, 9.66017480e-04, 9.72720319e-04,\n",
       "       9.79469667e-04, 9.86265846e-04, 9.93109181e-04, 1.00000000e-03]),\n",
       "                              'batch_size': [16, 32, 64, 128, 256, 512],\n",
       "                              'hidden_layer_sizes': [(24,), (12, 12),\n",
       "                                                     (6, 6, 6, 6),\n",
       "                                                     (4, 4, 4, 4, 4, 4),\n",
       "                                                     (12, 6, 3, 3)]},\n",
       "                  patience=True, random_state=32, verbose=True)"
      ]
     },
     "execution_count": 171,
     "metadata": {},
     "output_type": "execute_result"
    }
   ],
   "source": [
    "np.random.seed(seed = 101) \n",
    "\n",
    "rsnn.fit(X_train_fs,y_train)"
   ]
  },
  {
   "cell_type": "code",
   "execution_count": 172,
   "id": "stable-talent",
   "metadata": {},
   "outputs": [
    {
     "name": "stdout",
     "output_type": "stream",
     "text": [
      "{'hidden_layer_sizes': (6, 6, 6, 6), 'batch_size': 16, 'alpha': 3.2174181506763714e-05, 'activation': 'tanh'}\n"
     ]
    }
   ],
   "source": [
    "print (rsnn.best_params_)"
   ]
  },
  {
   "cell_type": "code",
   "execution_count": 173,
   "id": "adapted-employment",
   "metadata": {},
   "outputs": [],
   "source": [
    "classifier = rsnn.best_estimator_"
   ]
  },
  {
   "cell_type": "code",
   "execution_count": 174,
   "id": "greenhouse-legend",
   "metadata": {},
   "outputs": [],
   "source": [
    "y_pred= classifier.predict(X_val_u_fs)"
   ]
  },
  {
   "cell_type": "code",
   "execution_count": 175,
   "id": "noticed-coordinate",
   "metadata": {},
   "outputs": [
    {
     "name": "stdout",
     "output_type": "stream",
     "text": [
      "R^2: -0.39079943769067826\n",
      "MAE: 0.07149916063039365\n",
      "MSE: 0.012644359271081389\n"
     ]
    }
   ],
   "source": [
    "regression_report( y_true=y_val_u ,y_pred= y_pred, name=\"NNC_val\")"
   ]
  },
  {
   "cell_type": "code",
   "execution_count": 176,
   "id": "blind-advertiser",
   "metadata": {},
   "outputs": [],
   "source": [
    "y_pred= classifier.predict(X_test_u_fs)"
   ]
  },
  {
   "cell_type": "code",
   "execution_count": 177,
   "id": "moved-ottawa",
   "metadata": {},
   "outputs": [
    {
     "name": "stdout",
     "output_type": "stream",
     "text": [
      "R^2: -0.6979067852376706\n",
      "MAE: 0.14080935659752972\n",
      "MSE: 0.03211627766209177\n"
     ]
    }
   ],
   "source": [
    "regression_report( y_true=y_test_u ,y_pred= y_pred, name=\"NNC_test\")"
   ]
  },
  {
   "cell_type": "code",
   "execution_count": null,
   "id": "colored-implement",
   "metadata": {},
   "outputs": [],
   "source": []
  },
  {
   "cell_type": "code",
   "execution_count": 178,
   "id": "loaded-cover",
   "metadata": {},
   "outputs": [],
   "source": [
    "estimator = SGDRegressor() "
   ]
  },
  {
   "cell_type": "code",
   "execution_count": null,
   "id": "stuffed-tribe",
   "metadata": {},
   "outputs": [],
   "source": []
  },
  {
   "cell_type": "code",
   "execution_count": 179,
   "id": "useful-consideration",
   "metadata": {},
   "outputs": [],
   "source": [
    "#### SGD params \n",
    "params = { \n",
    "    \"l1_ratio\": uniform(0, 1), \n",
    "    \"alpha\": loguniform(1e-5, 1e-1), \n",
    "    \"penalty\": [\"l2\", \"l1\", \"elasticnet\"], \n",
    "    \"learning_rate\": [\"invscaling\", \"adaptive\",\"optimal\"], \n",
    "    \"power_t\": uniform(0, 1), \n",
    "    \"average\": [True, False], \n",
    "    \"loss\":[\"squared_loss\", \"huber\", \"epsilon_insensitive\", \"squared_epsilon_insensitive\"], \n",
    "    \"epsilon\": loguniform(1e-5, 1e-1), \n",
    "    \"eta0\":np.logspace(-6, -3, num=1000)\n",
    "} \n"
   ]
  },
  {
   "cell_type": "code",
   "execution_count": 180,
   "id": "tired-stanford",
   "metadata": {},
   "outputs": [],
   "source": [
    "rsnn = HyperbandSearchCV(estimator=estimator, parameters=params ,verbose=True,\n",
    "                         max_iter=max_iter,patience=True,\n",
    "                         random_state=32,aggressiveness=4)"
   ]
  },
  {
   "cell_type": "code",
   "execution_count": 181,
   "id": "further-carol",
   "metadata": {},
   "outputs": [
    {
     "data": {
      "text/plain": [
       "30"
      ]
     },
     "execution_count": 181,
     "metadata": {},
     "output_type": "execute_result"
    }
   ],
   "source": [
    "rsnn.metadata[\"partial_fit_calls\"]"
   ]
  },
  {
   "cell_type": "code",
   "execution_count": 182,
   "id": "controlling-earth",
   "metadata": {},
   "outputs": [
    {
     "name": "stdout",
     "output_type": "stream",
     "text": [
      "[CV, bracket=1] creating 4 models\n"
     ]
    },
    {
     "name": "stderr",
     "output_type": "stream",
     "text": [
      "INFO:dask_ml.model_selection:[CV, bracket=1] creating 4 models\n"
     ]
    },
    {
     "name": "stdout",
     "output_type": "stream",
     "text": [
      "[CV, bracket=0] creating 2 models\n"
     ]
    },
    {
     "name": "stderr",
     "output_type": "stream",
     "text": [
      "INFO:dask_ml.model_selection:[CV, bracket=0] creating 2 models\n"
     ]
    },
    {
     "name": "stdout",
     "output_type": "stream",
     "text": [
      "[CV, bracket=1] For training there are between 22299 and 22299 examples in each chunk\n"
     ]
    },
    {
     "name": "stderr",
     "output_type": "stream",
     "text": [
      "INFO:dask_ml.model_selection:[CV, bracket=1] For training there are between 22299 and 22299 examples in each chunk\n"
     ]
    },
    {
     "name": "stdout",
     "output_type": "stream",
     "text": [
      "[CV, bracket=0] For training there are between 22299 and 22299 examples in each chunk\n"
     ]
    },
    {
     "name": "stderr",
     "output_type": "stream",
     "text": [
      "INFO:dask_ml.model_selection:[CV, bracket=0] For training there are between 22299 and 22299 examples in each chunk\n"
     ]
    },
    {
     "name": "stdout",
     "output_type": "stream",
     "text": [
      "[CV, bracket=1] validation score of -0.7749 received after 1 partial_fit calls\n"
     ]
    },
    {
     "name": "stderr",
     "output_type": "stream",
     "text": [
      "INFO:dask_ml.model_selection:[CV, bracket=1] validation score of -0.7749 received after 1 partial_fit calls\n"
     ]
    },
    {
     "name": "stdout",
     "output_type": "stream",
     "text": [
      "[CV, bracket=0] validation score of 0.0996 received after 1 partial_fit calls\n"
     ]
    },
    {
     "name": "stderr",
     "output_type": "stream",
     "text": [
      "INFO:dask_ml.model_selection:[CV, bracket=0] validation score of 0.0996 received after 1 partial_fit calls\n"
     ]
    },
    {
     "name": "stdout",
     "output_type": "stream",
     "text": [
      "[CV, bracket=1] validation score of -0.5234 received after 2 partial_fit calls\n"
     ]
    },
    {
     "name": "stderr",
     "output_type": "stream",
     "text": [
      "INFO:dask_ml.model_selection:[CV, bracket=1] validation score of -0.5234 received after 2 partial_fit calls\n"
     ]
    },
    {
     "name": "stdout",
     "output_type": "stream",
     "text": [
      "[CV, bracket=0] validation score of 0.4381 received after 3 partial_fit calls\n"
     ]
    },
    {
     "name": "stderr",
     "output_type": "stream",
     "text": [
      "INFO:dask_ml.model_selection:[CV, bracket=0] validation score of 0.4381 received after 3 partial_fit calls\n"
     ]
    },
    {
     "name": "stdout",
     "output_type": "stream",
     "text": [
      "[CV, bracket=1] validation score of -0.5656 received after 4 partial_fit calls\n"
     ]
    },
    {
     "name": "stderr",
     "output_type": "stream",
     "text": [
      "INFO:dask_ml.model_selection:[CV, bracket=1] validation score of -0.5656 received after 4 partial_fit calls\n",
      "INFO:dask_ml.model_selection:[CV, bracket=0] validation score of 0.5095 received after 5 partial_fit calls\n",
      "INFO:dask_ml.model_selection:[CV, bracket=0] validation score of 0.5872 received after 7 partial_fit calls\n",
      "INFO:dask_ml.model_selection:[CV, bracket=0] validation score of 0.5374 received after 8 partial_fit calls\n"
     ]
    },
    {
     "data": {
      "text/plain": [
       "HyperbandSearchCV(aggressiveness=4, estimator=SGDRegressor(), max_iter=8,\n",
       "                  parameters={'alpha': <scipy.stats._distn_infrastructure.rv_frozen object at 0x140bfedc0>,\n",
       "                              'average': [True, False],\n",
       "                              'epsilon': <scipy.stats._distn_infrastructure.rv_frozen object at 0x140bfe400>,\n",
       "                              'eta0': array([1.00000000e-06, 1.00693863e-06, 1.01392541e-06, 1.02096066e-06,\n",
       "       1.02804473e-06, 1.03517...\n",
       "                              'l1_ratio': <scipy.stats._distn_infrastructure.rv_frozen object at 0x173b85700>,\n",
       "                              'learning_rate': ['invscaling', 'adaptive',\n",
       "                                                'optimal'],\n",
       "                              'loss': ['squared_loss', 'huber',\n",
       "                                       'epsilon_insensitive',\n",
       "                                       'squared_epsilon_insensitive'],\n",
       "                              'penalty': ['l2', 'l1', 'elasticnet'],\n",
       "                              'power_t': <scipy.stats._distn_infrastructure.rv_frozen object at 0x1454014c0>},\n",
       "                  patience=True, random_state=32, verbose=True)"
      ]
     },
     "execution_count": 182,
     "metadata": {},
     "output_type": "execute_result"
    }
   ],
   "source": [
    "np.random.seed(seed = 101) \n",
    "\n",
    "rsnn.fit(X_train_fs,y_train)"
   ]
  },
  {
   "cell_type": "code",
   "execution_count": 183,
   "id": "acquired-hygiene",
   "metadata": {},
   "outputs": [
    {
     "name": "stdout",
     "output_type": "stream",
     "text": [
      "{'alpha': 0.027261959556018345, 'average': False, 'epsilon': 0.0004832278256276128, 'eta0': 0.0007531420165974368, 'l1_ratio': 0.9556565489917677, 'learning_rate': 'invscaling', 'loss': 'squared_epsilon_insensitive', 'penalty': 'elasticnet', 'power_t': 0.35360111371492264}\n"
     ]
    }
   ],
   "source": [
    "print ( rsnn.best_params_ )"
   ]
  },
  {
   "cell_type": "code",
   "execution_count": 184,
   "id": "dimensional-cradle",
   "metadata": {},
   "outputs": [],
   "source": [
    "classifier = rsnn.best_estimator_"
   ]
  },
  {
   "cell_type": "code",
   "execution_count": 185,
   "id": "provincial-trout",
   "metadata": {},
   "outputs": [],
   "source": [
    "y_pred= classifier.predict(X_val_u_fs)"
   ]
  },
  {
   "cell_type": "code",
   "execution_count": 186,
   "id": "psychological-listing",
   "metadata": {},
   "outputs": [
    {
     "name": "stdout",
     "output_type": "stream",
     "text": [
      "R^2: -0.5586981283986923\n",
      "MAE: 0.09160757039828543\n",
      "MSE: 0.014170798892010013\n"
     ]
    }
   ],
   "source": [
    "regression_report( y_true=y_val_u ,y_pred= y_pred, name=\"SGD_val\")"
   ]
  },
  {
   "cell_type": "code",
   "execution_count": 187,
   "id": "functional-xerox",
   "metadata": {},
   "outputs": [],
   "source": [
    "y_pred= classifier.predict(X_test_u_fs)"
   ]
  },
  {
   "cell_type": "code",
   "execution_count": 188,
   "id": "biological-adult",
   "metadata": {},
   "outputs": [
    {
     "name": "stdout",
     "output_type": "stream",
     "text": [
      "R^2: -3.0660920062759365\n",
      "MAE: 0.20437831241104834\n",
      "MSE: 0.07691101832477233\n"
     ]
    }
   ],
   "source": [
    "regression_report( y_true=y_test_u ,y_pred= y_pred, name=\"SGD_test\")"
   ]
  },
  {
   "cell_type": "code",
   "execution_count": null,
   "id": "serious-saudi",
   "metadata": {},
   "outputs": [],
   "source": []
  },
  {
   "cell_type": "code",
   "execution_count": 189,
   "id": "spoken-dollar",
   "metadata": {},
   "outputs": [],
   "source": [
    "xgb = XGBRegressor()"
   ]
  },
  {
   "cell_type": "code",
   "execution_count": null,
   "id": "caring-reminder",
   "metadata": {},
   "outputs": [],
   "source": []
  },
  {
   "cell_type": "code",
   "execution_count": 190,
   "id": "simple-spirituality",
   "metadata": {},
   "outputs": [],
   "source": [
    "# params = { \n",
    "# \"learning_rate\" :[0.0001, 0.001, 0.01, 0.1], \n",
    "#  \"n_estimators\":np.linspace(start = 100, stop = 1000, num = 5),\n",
    "# #  \"max_depth\":np.linspace(1, 11, num = 10),\n",
    "# #  \"min_child_weight\": np.linspace(1, 11, num = 10),\n",
    "# #  \"gamma\":[0,2,4,6,8],\n",
    "# #  \"subsample\":np.linspace(0,1,num=10),\n",
    "# #  \"colsample_bytree\":np.linspace(0,1,num=10),\n",
    "#  \"objective\": ['binary:logistic','binary:logitraw','binary:hinge']\n",
    "# }\n"
   ]
  },
  {
   "cell_type": "code",
   "execution_count": 191,
   "id": "thrown-farmer",
   "metadata": {},
   "outputs": [],
   "source": [
    "# label_encoded_y = LabelEncoder().fit_transform(y_train)\n"
   ]
  },
  {
   "cell_type": "code",
   "execution_count": 192,
   "id": "specified-turning",
   "metadata": {},
   "outputs": [],
   "source": [
    "# rsnn.metadata[\"partial_fit_calls\"]"
   ]
  },
  {
   "cell_type": "code",
   "execution_count": 193,
   "id": "minor-organizer",
   "metadata": {},
   "outputs": [
    {
     "data": {
      "text/plain": [
       "XGBRegressor(base_score=0.5, booster='gbtree', colsample_bylevel=1,\n",
       "             colsample_bynode=1, colsample_bytree=1, gamma=0, gpu_id=-1,\n",
       "             importance_type='gain', interaction_constraints='',\n",
       "             learning_rate=0.300000012, max_delta_step=0, max_depth=6,\n",
       "             min_child_weight=1, missing=nan, monotone_constraints='()',\n",
       "             n_estimators=100, n_jobs=4, num_parallel_tree=1, random_state=0,\n",
       "             reg_alpha=0, reg_lambda=1, scale_pos_weight=1, subsample=1,\n",
       "             tree_method='approx', validate_parameters=1, verbosity=None)"
      ]
     },
     "execution_count": 193,
     "metadata": {},
     "output_type": "execute_result"
    }
   ],
   "source": [
    "np.random.seed(seed = 101) \n",
    "xgb.fit(X_train_fs,y_train)\n",
    "# rsnn.fit(X_train_fs,y_train,classes=[True,False])\n",
    "# random_S.fit(X_train_fs.compute(),y_train.compute())"
   ]
  },
  {
   "cell_type": "code",
   "execution_count": 194,
   "id": "focused-institution",
   "metadata": {},
   "outputs": [],
   "source": [
    "y_pred= xgb.predict(X_test_u_fs.to_dask_array())"
   ]
  },
  {
   "cell_type": "code",
   "execution_count": 195,
   "id": "quick-defensive",
   "metadata": {},
   "outputs": [
    {
     "name": "stdout",
     "output_type": "stream",
     "text": [
      "R^2: -1.7982637767381169\n",
      "MAE: 0.19446125250697402\n",
      "MSE: 0.052929770472008024\n"
     ]
    }
   ],
   "source": [
    "regression_report( y_true=y_test_u ,y_pred= y_pred.compute(),name=\"xgb_test\")"
   ]
  },
  {
   "cell_type": "code",
   "execution_count": 196,
   "id": "naughty-minute",
   "metadata": {},
   "outputs": [],
   "source": [
    "y_pred= xgb.predict(X_val_u_fs.to_dask_array())"
   ]
  },
  {
   "cell_type": "code",
   "execution_count": 197,
   "id": "thousand-middle",
   "metadata": {},
   "outputs": [
    {
     "name": "stdout",
     "output_type": "stream",
     "text": [
      "R^2: 0.04674833700157932\n",
      "MAE: 0.0587695473424361\n",
      "MSE: 0.008666423192348562\n"
     ]
    }
   ],
   "source": [
    "regression_report( y_true=y_val_u ,y_pred= y_pred.compute(),name=\"xgb_val\")"
   ]
  },
  {
   "cell_type": "code",
   "execution_count": 198,
   "id": "finished-corporation",
   "metadata": {},
   "outputs": [],
   "source": [
    "# xgb = XGBClassifier()\n",
    "features = ['idx','label_binary','DQ_val']\n",
    "\n",
    "\n",
    "importances  = []\n",
    "for x,y in zip( xgb.feature_importances_, X_train.drop(features,axis=1).columns) :\n",
    "    importances.append((y,x)) \n",
    "# X_train.columns"
   ]
  },
  {
   "cell_type": "code",
   "execution_count": 199,
   "id": "round-creature",
   "metadata": {},
   "outputs": [],
   "source": [
    "# for col in X_train.drop(features,axis=1).columns:\n",
    "#     print (col)\n",
    "# # X_train.drop(features,axis=1)"
   ]
  },
  {
   "cell_type": "code",
   "execution_count": 200,
   "id": "wireless-macedonia",
   "metadata": {},
   "outputs": [],
   "source": [
    "import pandas as pd \n",
    "df_importances = pd.DataFrame(importances)\n",
    "\n",
    "# np.random.seed(seed = 101) \n",
    "\n",
    "# # rsnn = HyperbandSearchCV(estimator=xgb, parameters=params ,verbose=True,\n",
    "# #                          max_iter=max_iter,patience=True,\n",
    "# #                          random_state=32,aggressiveness=4)\n",
    "# # kfold = KFold(n_splits=10, shuffle=True, random_state=101)\n",
    "\n",
    "# random_S = RandomizedSearchCV(estimator = xgb,\n",
    "#                               param_distributions = params,\n",
    "#                               scoring=\"neg_log_loss\",\n",
    "# #                               cv = kfold,\n",
    "#                               random_state=101, \n",
    "#                               n_jobs = -1)"
   ]
  },
  {
   "cell_type": "code",
   "execution_count": 201,
   "id": "disabled-national",
   "metadata": {},
   "outputs": [],
   "source": [
    "df_importances.sort_values(by=1,ascending=False, inplace =True)\n",
    "# type(label_encoded_y)"
   ]
  },
  {
   "cell_type": "code",
   "execution_count": 202,
   "id": "celtic-parallel",
   "metadata": {},
   "outputs": [
    {
     "data": {
      "text/plain": [
       "['CONSRANK_val',\n",
       " 'AP_DFIRE2',\n",
       " 'num_of_contacs',\n",
       " 'AP_calRWp',\n",
       " 'AP_GEOMETRIC',\n",
       " 'CP_ELOCAL_CB',\n",
       " 'ELE',\n",
       " 'NSC',\n",
       " 'CP_E3D_CB',\n",
       " 'CP_RMFCA',\n",
       " 'ALIPH',\n",
       " 'PP',\n",
       " 'ZRANK',\n",
       " 'BSA_Apolar',\n",
       " 'BSA_Polar',\n",
       " 'AP_PISA',\n",
       " 'cips_CC',\n",
       " 'AP_calRW',\n",
       " 'DESOLV',\n",
       " 'AP_OPUS_PSP',\n",
       " 'cips_ArAr',\n",
       " 'CP_MJPL',\n",
       " 'CP_ELOCAL_MIN',\n",
       " 'CP_TSC',\n",
       " 'Nis_Polar',\n",
       " 'cips_PP',\n",
       " 'CP_Qa',\n",
       " 'cips_AA',\n",
       " 'cips_AlAl',\n",
       " 'DDG_V',\n",
       " 'AP_dDFIRE',\n",
       " 'CP_RMFCEN2',\n",
       " 'Nis_Apolar',\n",
       " 'avg_cips_AlAl',\n",
       " 'CP_TS',\n",
       " 'CP_Z3DC_CB',\n",
       " 'ODA',\n",
       " 'avg_cips_CAr',\n",
       " 'CP_ZPAIR_MIN',\n",
       " 'avg_cips_PAr',\n",
       " 'CP_D1',\n",
       " 'cips_CA',\n",
       " 'CP_EPAIR_CB',\n",
       " 'CP_MS',\n",
       " 'AP_T2',\n",
       " 'cips_AlAr',\n",
       " 'AP_DOPE',\n",
       " 'INSIDE',\n",
       " 'CP_ZS3DC_CB',\n",
       " 'AlAl',\n",
       " 'CP_SKOIP',\n",
       " 'AA']"
      ]
     },
     "execution_count": 202,
     "metadata": {},
     "output_type": "execute_result"
    }
   ],
   "source": [
    "df_importances[df_importances[1]>0.005][0].to_list()\n",
    "# random_S.fit(X_train_fs,y_train)\n"
   ]
  },
  {
   "cell_type": "code",
   "execution_count": 203,
   "id": "therapeutic-grave",
   "metadata": {},
   "outputs": [],
   "source": [
    "# print( random_S.best_estimator_ ) "
   ]
  },
  {
   "cell_type": "code",
   "execution_count": 204,
   "id": "gorgeous-intellectual",
   "metadata": {},
   "outputs": [],
   "source": [
    "# np.random.seed(seed = 101) \n",
    "# # xgb.fit(X_train_fs,y_train)\n",
    "# # rsnn.fit(X_train_fs,y_train,classes=[True,False])\n",
    "# # random_S.fit(X_train_fs,y_train)\n",
    "# for x in  ['reg:logistic','reg:squarederror','reg:squaredlogerror','reg:pseudohubererror','reg:gamma']:\n",
    "#     print(x)\n",
    "#     xgb = XGBRegressor(objective=x,n_estimators=100)\n",
    "#     xgb.fit(X_train_fs,y_train)\n",
    "#     y_pred= xgb.predict(X_val_u_fs.to_dask_array())\n",
    "#     regression_report( y_true=y_val_u ,y_pred= y_pred.compute(),name=x)\n",
    "#     print (\"Test\")\n",
    "#     y_pred= xgb.predict(X_test_u_fs.to_dask_array())\n",
    "#     regression_report( y_true=y_test_u ,y_pred= y_pred.compute(),name=x)\n",
    "#     print ()\n",
    "    \n"
   ]
  },
  {
   "cell_type": "code",
   "execution_count": 205,
   "id": "alike-apparel",
   "metadata": {},
   "outputs": [],
   "source": [
    "# np.random.seed(seed = 101) \n",
    "# # xgb.fit(X_train_fs,y_train)\n",
    "# # rsnn.fit(X_train_fs,y_train,classes=[True,False])\n",
    "# # random_S.fit(X_train_fs,y_train)\n",
    "# for x in np.linspace(start = 100, stop = 1000, num = 3) :\n",
    "#     print(x)\n",
    "#     xgb = XGBRegressor(objective='reg:squaredlogerror', n_estimators= int(x) )\n",
    "#     xgb.fit(X_train_fs,y_train)\n",
    "#     y_pred= xgb.predict(X_val_u_fs.to_dask_array())\n",
    "#     regression_report( y_true=y_val_u ,y_pred= y_pred.compute(),name=x)\n",
    "#     print (\"Test\")\n",
    "#     y_pred= xgb.predict(X_test_u_fs.to_dask_array())\n",
    "#     regression_report( y_true=y_test_u ,y_pred= y_pred.compute(),name=x)\n",
    "#     print ()\n"
   ]
  },
  {
   "cell_type": "code",
   "execution_count": 206,
   "id": "choice-taste",
   "metadata": {},
   "outputs": [],
   "source": [
    "# np.random.seed(seed = 101) \n",
    "# # xgb.fit(X_train_fs,y_train)\n",
    "# # rsnn.fit(X_train_fs,y_train,classes=[True,False])\n",
    "# # random_S.fit(X_train_fs,y_train)\n",
    "# learning_rate = [0.00003,0.00001,0.0003,0.0001 ,0.003,0.001]\n",
    "# for x in  learning_rate:\n",
    "#     print (x)\n",
    "#     xgb = XGBRegressor(objective='reg:squaredlogerror',n_estimators=100,learning_rate=x)\n",
    "#     xgb.fit(X_train_fs,y_train)\n",
    "#     y_pred= xgb.predict(X_val_u_fs.to_dask_array())\n",
    "#     regression_report( y_true=y_val_u ,y_pred= y_pred.compute(),name=x)\n",
    "#     print ()"
   ]
  },
  {
   "cell_type": "code",
   "execution_count": 207,
   "id": "nonprofit-steam",
   "metadata": {},
   "outputs": [],
   "source": [
    "# np.random.seed(seed = 101) \n",
    "# # xgb.fit(X_train_fs,y_train)\n",
    "# # rsnn.fit(X_train_fs,y_train,classes=[True,False])\n",
    "# # random_S.fit(X_train_fs,y_train)\n",
    "# # learning_rate = [0.00003,0.00001,0.0003,0.0001 ,0.003,0.001]\n",
    "# for x in  np.linspace(start = 0.003, stop = 0.009, num = 20):\n",
    "#     print (x)\n",
    "#     xgb = XGBRegressor(objective='reg:squaredlogerror',eval_metric=\"rmse\",n_estimators=100,learning_rate=x)\n",
    "#     xgb.fit(X_train_fs,y_train)\n",
    "#     print (\"Validation\")\n",
    "#     y_pred= xgb.predict(X_val_u_fs.to_dask_array())\n",
    "#     regression_report( y_true=y_val_u ,y_pred= y_pred.compute(),name=x)\n",
    "#     print (\"Test\")\n",
    "#     y_pred= xgb.predict(X_test_u_fs.to_dask_array())\n",
    "#     regression_report( y_true=y_test_u ,y_pred= y_pred.compute(),name=x)\n",
    "#     print ()"
   ]
  },
  {
   "cell_type": "code",
   "execution_count": 208,
   "id": "numerous-evans",
   "metadata": {},
   "outputs": [],
   "source": [
    "# for x in  ['rmse','rmsle','mae','mape','logloss']:\n",
    "#     print (x)\n",
    "#     xgb = XGBRegressor(objective='reg:squarederror',n_estimators=100,eval_metric=x)\n",
    "#     xgb.fit(X_train_fs,y_train)\n",
    "#     print (\"Validation\")\n",
    "#     y_pred= xgb.predict(X_val_u_fs.to_dask_array())\n",
    "#     regression_report( y_true=y_val_u ,y_pred= y_pred.compute(),name=x)\n",
    "#     print (\"Test\")\n",
    "#     y_pred= xgb.predict(X_test_u_fs.to_dask_array())\n",
    "#     regression_report( y_true=y_test_u ,y_pred= y_pred.compute(),name=x)\n",
    "#     print ()"
   ]
  },
  {
   "cell_type": "code",
   "execution_count": 209,
   "id": "featured-covering",
   "metadata": {},
   "outputs": [],
   "source": [
    "# xgb = XGBClassifier(objective='binary:logitraw')\n",
    "xgb = XGBRegressor(objective='reg:squaredlogerror',learning_rate=0.003947368421052632, eval_metric=\"rmse\")"
   ]
  },
  {
   "cell_type": "code",
   "execution_count": 210,
   "id": "graduate-mattress",
   "metadata": {},
   "outputs": [
    {
     "data": {
      "text/plain": [
       "XGBRegressor(base_score=0.5, booster='gbtree', colsample_bylevel=1,\n",
       "             colsample_bynode=1, colsample_bytree=1, eval_metric='rmse',\n",
       "             gamma=0, gpu_id=-1, importance_type='gain',\n",
       "             interaction_constraints='', learning_rate=0.003947368421052632,\n",
       "             max_delta_step=0, max_depth=6, min_child_weight=1, missing=nan,\n",
       "             monotone_constraints='()', n_estimators=100, n_jobs=4,\n",
       "             num_parallel_tree=1, objective='reg:squaredlogerror',\n",
       "             random_state=0, reg_alpha=0, reg_lambda=1, scale_pos_weight=1,\n",
       "             subsample=1, tree_method='approx', validate_parameters=1,\n",
       "             verbosity=None)"
      ]
     },
     "execution_count": 210,
     "metadata": {},
     "output_type": "execute_result"
    }
   ],
   "source": [
    "xgb.fit(X_train_fs,y_train)"
   ]
  },
  {
   "cell_type": "code",
   "execution_count": null,
   "id": "hourly-signature",
   "metadata": {},
   "outputs": [],
   "source": []
  },
  {
   "cell_type": "code",
   "execution_count": 240,
   "id": "passive-pipeline",
   "metadata": {},
   "outputs": [],
   "source": [
    "y_pred= xgb.predict(X_test_u_fs.to_dask_array())\n",
    "# cr = classification_report( y_true=y_test_u ,y_pred= y_pred.compute())\n",
    "# print (cr)"
   ]
  },
  {
   "cell_type": "code",
   "execution_count": 241,
   "id": "disciplinary-independence",
   "metadata": {},
   "outputs": [
    {
     "name": "stdout",
     "output_type": "stream",
     "text": [
      "R^2: 0.06671124836293596\n",
      "MAE: 0.10577169807957225\n",
      "MSE: 0.01765336056554322\n"
     ]
    }
   ],
   "source": [
    "regression_report( y_true=y_test_u ,y_pred= y_pred.compute(),name=x)"
   ]
  },
  {
   "cell_type": "code",
   "execution_count": 242,
   "id": "flying-lobby",
   "metadata": {},
   "outputs": [],
   "source": [
    "# pickle.dump(xgb, open(\"XgbClassBM4.pickle.dat\", \"wb\"))"
   ]
  },
  {
   "cell_type": "code",
   "execution_count": 243,
   "id": "synthetic-lawyer",
   "metadata": {},
   "outputs": [],
   "source": [
    "# xgb.predict_proba\n",
    "\n",
    "# X_temp =X_test_u.compute"
   ]
  },
  {
   "cell_type": "code",
   "execution_count": 244,
   "id": "mighty-relevance",
   "metadata": {},
   "outputs": [],
   "source": [
    "# y_test_u"
   ]
  },
  {
   "cell_type": "code",
   "execution_count": 245,
   "id": "pleasant-classification",
   "metadata": {},
   "outputs": [],
   "source": [
    "# xgb = XGBClassifier()\n",
    "features = ['idx','label_binary','DQ_val']\n",
    "\n",
    "\n",
    "importances  = []\n",
    "for x,y in zip( xgb.feature_importances_, X_train.drop(features,axis=1).columns) :\n",
    "    importances.append((y,x)) "
   ]
  },
  {
   "cell_type": "code",
   "execution_count": 246,
   "id": "amino-bacteria",
   "metadata": {},
   "outputs": [],
   "source": [
    "df_importances.sort_values(by=1,ascending=False, inplace =True)\n"
   ]
  },
  {
   "cell_type": "code",
   "execution_count": 247,
   "id": "ruled-easter",
   "metadata": {},
   "outputs": [
    {
     "data": {
      "text/plain": [
       "['CONSRANK_val',\n",
       " 'AP_DFIRE2',\n",
       " 'num_of_contacs',\n",
       " 'AP_calRWp',\n",
       " 'AP_GEOMETRIC',\n",
       " 'CP_ELOCAL_CB',\n",
       " 'ELE',\n",
       " 'NSC',\n",
       " 'CP_E3D_CB',\n",
       " 'CP_RMFCA',\n",
       " 'ALIPH',\n",
       " 'PP',\n",
       " 'ZRANK',\n",
       " 'BSA_Apolar',\n",
       " 'BSA_Polar',\n",
       " 'AP_PISA',\n",
       " 'cips_CC']"
      ]
     },
     "execution_count": 247,
     "metadata": {},
     "output_type": "execute_result"
    }
   ],
   "source": [
    "df_importances[df_importances[1]>0.01][0].to_list()\n"
   ]
  },
  {
   "cell_type": "code",
   "execution_count": 248,
   "id": "reported-garden",
   "metadata": {},
   "outputs": [],
   "source": [
    "import matplotlib.pyplot as plt"
   ]
  },
  {
   "cell_type": "code",
   "execution_count": 249,
   "id": "agreed-preliminary",
   "metadata": {},
   "outputs": [
    {
     "data": {
      "image/png": "[encoded data removed]",
      "text/plain": [
       "<Figure size 432x288 with 1 Axes>"
      ]
     },
     "metadata": {
      "needs_background": "light"
     },
     "output_type": "display_data"
    }
   ],
   "source": [
    "error = y_pred - y_test_u\n",
    "plt.hist(error, bins = 100)\n",
    "plt.xlabel(\"Prediction Error [MAE]\")\n",
    "plt.grid(True)\n",
    "\n",
    "_ = plt.ylabel(\"Count\")\n",
    "plt.savefig(\"../figures/Xgboost_score_set_MAE.png\",format=\"png\")"
   ]
  },
  {
   "cell_type": "code",
   "execution_count": 250,
   "id": "jewish-contractor",
   "metadata": {},
   "outputs": [
    {
     "data": {
      "image/png": "[encoded data removed]",
      "text/plain": [
       "<Figure size 432x288 with 1 Axes>"
      ]
     },
     "metadata": {
      "needs_background": "light"
     },
     "output_type": "display_data"
    }
   ],
   "source": [
    "plt.scatter(y_test_u.compute(), y_pred.compute(),alpha=0.3,s=.5)\n",
    "plt.grid(True)\n",
    "plt.xlabel('True Values [MAE]')\n",
    "plt.ylabel('Predictions [MAE]')\n",
    "plt.axis('equal')\n",
    "plt.axis('square')\n",
    "plt.xlim([0,plt.xlim()[1]])\n",
    "plt.ylim([0,plt.ylim()[1]])\n",
    "_ = plt.plot([-100, 100], [-100, 100])\n",
    "plt.savefig(\"../figures/Xgboost_score_set_scatter_plot.png\",format=\"png\")"
   ]
  },
  {
   "cell_type": "code",
   "execution_count": 222,
   "id": "ecological-boards",
   "metadata": {},
   "outputs": [
    {
     "data": {
      "text/plain": [
       "<BarContainer object of 157 artists>"
      ]
     },
     "execution_count": 222,
     "metadata": {},
     "output_type": "execute_result"
    },
    {
     "data": {
      "image/png": "[encoded data removed]",
      "text/plain": [
       "<Figure size 432x288 with 1 Axes>"
      ]
     },
     "metadata": {
      "needs_background": "light"
     },
     "output_type": "display_data"
    }
   ],
   "source": [
    "plt.bar(range(len(xgb.feature_importances_)), xgb.feature_importances_)"
   ]
  },
  {
   "cell_type": "code",
   "execution_count": 223,
   "id": "mature-still",
   "metadata": {},
   "outputs": [],
   "source": [
    "df_T = pd.DataFrame(xgb.feature_importances_,X_train.drop(features,axis=1).columns)"
   ]
  },
  {
   "cell_type": "code",
   "execution_count": 224,
   "id": "residential-spyware",
   "metadata": {},
   "outputs": [],
   "source": [
    "df_T.sort_values(0,ascending=False,inplace=True)"
   ]
  },
  {
   "cell_type": "code",
   "execution_count": 235,
   "id": "incorporate-optimum",
   "metadata": {},
   "outputs": [
    {
     "data": {
      "image/png": "[encoded data removed]",
      "text/plain": [
       "<Figure size 432x360 with 1 Axes>"
      ]
     },
     "metadata": {
      "needs_background": "light"
     },
     "output_type": "display_data"
    }
   ],
   "source": [
    "df_T[df_T[0]>0.01].plot(kind='bar',grid=True,figsize=(6,5))\n",
    "plt.xlabel('Features')\n",
    "plt.ylabel('Importance')\n",
    "plt.tight_layout()\n",
    "plt.savefig(\"../figures/xgboost_feature_selected.png\",format=\"png\")"
   ]
  },
  {
   "cell_type": "code",
   "execution_count": 226,
   "id": "scheduled-optimization",
   "metadata": {},
   "outputs": [],
   "source": [
    "y_pred= xgb.predict(X_val_u_fs.to_dask_array())\n",
    "# cr = classification_report( y_true=y_val_u ,y_pred= y_pred.compute())\n",
    "# print (cr )"
   ]
  },
  {
   "cell_type": "code",
   "execution_count": 227,
   "id": "sporting-journalism",
   "metadata": {},
   "outputs": [
    {
     "name": "stdout",
     "output_type": "stream",
     "text": [
      "R^2: -7.3513390792646565\n",
      "MAE: 0.2688435836267973\n",
      "MSE: 0.07592563589771152\n"
     ]
    }
   ],
   "source": [
    "regression_report( y_true=y_val_u ,y_pred= y_pred.compute(),name=x)\n"
   ]
  },
  {
   "cell_type": "code",
   "execution_count": 239,
   "id": "demonstrated-maryland",
   "metadata": {},
   "outputs": [
    {
     "data": {
      "image/png": "[encoded data removed]",
      "text/plain": [
       "<Figure size 432x288 with 1 Axes>"
      ]
     },
     "metadata": {
      "needs_background": "light"
     },
     "output_type": "display_data"
    }
   ],
   "source": [
    "error = y_pred - y_val_u\n",
    "plt.hist(error, bins = 100)\n",
    "plt.xlabel(\"Prediction Error [MAE]\")\n",
    "plt.grid(True)\n",
    "_ = plt.ylabel(\"Count\")\n",
    "plt.savefig(\"../figures/MAE_barplot_xgboost_base_model_validation.png\",format=\"png\")"
   ]
  },
  {
   "cell_type": "code",
   "execution_count": 238,
   "id": "massive-intervention",
   "metadata": {},
   "outputs": [
    {
     "data": {
      "image/png": "[encoded data removed]",
      "text/plain": [
       "<Figure size 432x288 with 1 Axes>"
      ]
     },
     "metadata": {
      "needs_background": "light"
     },
     "output_type": "display_data"
    }
   ],
   "source": [
    "plt.scatter(y_val_u.compute(), y_pred.compute(),alpha=0.3,s=.5)\n",
    "plt.xlabel('True Values [MAE]')\n",
    "plt.ylabel('Predictions [MAE]')\n",
    "plt.axis('equal')\n",
    "plt.axis('square')\n",
    "plt.grid(True)\n",
    "plt.xlim([0,plt.xlim()[1]])\n",
    "plt.ylim([0,plt.ylim()[1]])\n",
    "_ = plt.plot([-100, 100], [-100, 100])\n",
    "plt.savefig(\"../figures/MAE_xgboost_base_model_validation.png\",format=\"png\")\n"
   ]
  },
  {
   "cell_type": "code",
   "execution_count": null,
   "id": "sixth-train",
   "metadata": {},
   "outputs": [],
   "source": []
  },
  {
   "cell_type": "code",
   "execution_count": 80,
   "id": "obvious-appointment",
   "metadata": {},
   "outputs": [],
   "source": [
    "# params = {\n",
    "#   'colsample_bynode': [0.2,0.4,0.6,0.8],\n",
    "#   'learning_rate': [0.003,0.001,0.3,0.1,1],\n",
    "#   'max_depth': [2,5,7,10],\n",
    "#   'objective': ['binary:logistic','reg:squaredlogerror'],\n",
    "#   'subsample': [0.2,0.4,0.6,0.8],\n",
    "#   'tree_method': ['hist','approx'],\n",
    "#     'booster':['dart','gbtree']\n",
    "# }"
   ]
  }
 ],
 "metadata": {
  "kernelspec": {
   "display_name": "Python 3",
   "language": "python",
   "name": "python3"
  },
  "language_info": {
   "codemirror_mode": {
    "name": "ipython",
    "version": 3
   },
   "file_extension": ".py",
   "mimetype": "text/x-python",
   "name": "python",
   "nbconvert_exporter": "python",
   "pygments_lexer": "ipython3",
   "version": "3.7.9"
  }
 },
 "nbformat": 4,
 "nbformat_minor": 5
}
